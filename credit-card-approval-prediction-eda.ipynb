{
 "cells": [
  {
   "cell_type": "markdown",
   "metadata": {
    "papermill": {
     "duration": 0.046715,
     "end_time": "2020-11-27T05:15:33.739493",
     "exception": false,
     "start_time": "2020-11-27T05:15:33.692778",
     "status": "completed"
    },
    "tags": []
   },
   "source": [
    "## Imports\n",
    "\n"
   ]
  },
  {
   "cell_type": "code",
   "execution_count": 1,
   "metadata": {
    "execution": {
     "iopub.execute_input": "2020-11-27T05:15:33.829354Z",
     "iopub.status.busy": "2020-11-27T05:15:33.828540Z",
     "iopub.status.idle": "2020-11-27T05:15:35.092343Z",
     "shell.execute_reply": "2020-11-27T05:15:35.091309Z"
    },
    "papermill": {
     "duration": 1.311784,
     "end_time": "2020-11-27T05:15:35.092503",
     "exception": false,
     "start_time": "2020-11-27T05:15:33.780719",
     "status": "completed"
    },
    "tags": []
   },
   "outputs": [],
   "source": [
    "# <hide-input>\n",
    "\n",
    "import pandas as pd\n",
    "import os\n",
    "import seaborn as sns\n",
    "import matplotlib.pyplot as plt\n",
    "import warnings\n",
    "import numpy as np\n",
    "warnings.filterwarnings('ignore')\n",
    "\n",
    "NOT_KAGGLE = os.getenv('KAGGLE_URL_BASE') is None\n",
    "path = './wash_data/' if NOT_KAGGLE else '../input/credit-card-approval-prediction/'"
   ]
  },
  {
   "cell_type": "markdown",
   "metadata": {
    "papermill": {
     "duration": 0.042149,
     "end_time": "2020-11-27T05:15:35.177669",
     "exception": false,
     "start_time": "2020-11-27T05:15:35.135520",
     "status": "completed"
    },
    "tags": []
   },
   "source": [
    "## 1. Data combination and de-duplication\n",
    "\n",
    "This dataset's objective is predicting whether an applicant's credit card approval will be approved or not. The dataset contains applicants' basic information and applicants'credit history. There are **433887** rows in application.csv. ID is from **5008804** to **7999952**. In credit_record.csv, there are **1048575** rows of **45985** ID's credit record. ID is from **5001711** to **5150487**."
   ]
  },
  {
   "cell_type": "markdown",
   "metadata": {
    "papermill": {
     "duration": 0.040933,
     "end_time": "2020-11-27T05:15:35.261174",
     "exception": false,
     "start_time": "2020-11-27T05:15:35.220241",
     "status": "completed"
    },
    "tags": []
   },
   "source": [
    "### 1.1 Application record\n",
    "Use `pandas.read_csv` to read application_record.csv in memory. There will be a `pandas DataFrame` having the following columns:\n",
    "\n",
    "* `ID`: Unique Id of the row\n",
    "* `CODE_GENDER`: Gender of the applicant. M is male and F is female.\n",
    "* `FLAG_OWN_CAR`: Is an applicant with a car. Y is Yes and N is NO.\n",
    "* `FLAG_OWN_REALTY`: Is an applicant with realty. Y is Yes and N is No.\n",
    "* `CNT_CHILDREN`: Count of children.\n",
    "* `AMT_INCOME_TOTAL`: the amount of the income.\n",
    "* `NAME_INCOME_TYPE`: The type of income (5 types in total).\n",
    "* `NAME_EDUCATION_TYPE`: The type of education (5 types in total).\n",
    "* `NAME_FAMILY_STATUS`: The type of family status (6 types in total).\n",
    "* `DAYS_BIRTH`: The number of the days from birth (Negative values).\n",
    "* `DAYS_EMPLOYED`: The number of the days from employed (Negative values). This column has **error values**.\n",
    "* ` FLAG_MOBIL`: Is an applicant with a mobile. 1 is True and 0 is False.\n",
    "* ` FLAG_WORK_PHONE`: Is an applicant with a work phone. 1 is True and 0 is False.\n",
    "* `FLAG_PHONE`: Is an applicant with a phone. 1 is True and 0 is False.\n",
    "* `FLAG_EMAIL`: Is an applicant with a email. 1 is True and 0 is False.\n",
    "* ` OCCUPATION_TYPE`: The type of occupation (19 types in total). This column has **missing values**.\n",
    "* ` CNT_FAM_MEMBERS`: The count of family members."
   ]
  },
  {
   "cell_type": "code",
   "execution_count": 2,
   "metadata": {
    "_cell_guid": "79c7e3d0-c299-4dcb-8224-4455121ee9b0",
    "_uuid": "d629ff2d2480ee46fbb7e2d37f6b5fab8052498a",
    "execution": {
     "iopub.execute_input": "2020-11-27T05:15:35.352052Z",
     "iopub.status.busy": "2020-11-27T05:15:35.351036Z",
     "iopub.status.idle": "2020-11-27T05:15:36.737506Z",
     "shell.execute_reply": "2020-11-27T05:15:36.736785Z"
    },
    "papermill": {
     "duration": 1.435078,
     "end_time": "2020-11-27T05:15:36.737624",
     "exception": false,
     "start_time": "2020-11-27T05:15:35.302546",
     "status": "completed"
    },
    "tags": []
   },
   "outputs": [
    {
     "data": {
      "text/html": [
       "<div>\n",
       "<style scoped>\n",
       "    .dataframe tbody tr th:only-of-type {\n",
       "        vertical-align: middle;\n",
       "    }\n",
       "\n",
       "    .dataframe tbody tr th {\n",
       "        vertical-align: top;\n",
       "    }\n",
       "\n",
       "    .dataframe thead th {\n",
       "        text-align: right;\n",
       "    }\n",
       "</style>\n",
       "<table border=\"1\" class=\"dataframe\">\n",
       "  <thead>\n",
       "    <tr style=\"text-align: right;\">\n",
       "      <th></th>\n",
       "      <th>ID</th>\n",
       "      <th>CODE_GENDER</th>\n",
       "      <th>FLAG_OWN_CAR</th>\n",
       "      <th>FLAG_OWN_REALTY</th>\n",
       "      <th>CNT_CHILDREN</th>\n",
       "      <th>AMT_INCOME_TOTAL</th>\n",
       "      <th>NAME_INCOME_TYPE</th>\n",
       "      <th>NAME_EDUCATION_TYPE</th>\n",
       "      <th>NAME_FAMILY_STATUS</th>\n",
       "      <th>NAME_HOUSING_TYPE</th>\n",
       "      <th>DAYS_BIRTH</th>\n",
       "      <th>DAYS_EMPLOYED</th>\n",
       "      <th>FLAG_MOBIL</th>\n",
       "      <th>FLAG_WORK_PHONE</th>\n",
       "      <th>FLAG_PHONE</th>\n",
       "      <th>FLAG_EMAIL</th>\n",
       "      <th>OCCUPATION_TYPE</th>\n",
       "      <th>CNT_FAM_MEMBERS</th>\n",
       "    </tr>\n",
       "  </thead>\n",
       "  <tbody>\n",
       "    <tr>\n",
       "      <th>0</th>\n",
       "      <td>5008804</td>\n",
       "      <td>M</td>\n",
       "      <td>Y</td>\n",
       "      <td>Y</td>\n",
       "      <td>0</td>\n",
       "      <td>427500.0</td>\n",
       "      <td>Working</td>\n",
       "      <td>Higher education</td>\n",
       "      <td>Civil marriage</td>\n",
       "      <td>Rented apartment</td>\n",
       "      <td>-12005</td>\n",
       "      <td>-4542</td>\n",
       "      <td>1</td>\n",
       "      <td>1</td>\n",
       "      <td>0</td>\n",
       "      <td>0</td>\n",
       "      <td>NaN</td>\n",
       "      <td>2.0</td>\n",
       "    </tr>\n",
       "    <tr>\n",
       "      <th>1</th>\n",
       "      <td>5008805</td>\n",
       "      <td>M</td>\n",
       "      <td>Y</td>\n",
       "      <td>Y</td>\n",
       "      <td>0</td>\n",
       "      <td>427500.0</td>\n",
       "      <td>Working</td>\n",
       "      <td>Higher education</td>\n",
       "      <td>Civil marriage</td>\n",
       "      <td>Rented apartment</td>\n",
       "      <td>-12005</td>\n",
       "      <td>-4542</td>\n",
       "      <td>1</td>\n",
       "      <td>1</td>\n",
       "      <td>0</td>\n",
       "      <td>0</td>\n",
       "      <td>NaN</td>\n",
       "      <td>2.0</td>\n",
       "    </tr>\n",
       "    <tr>\n",
       "      <th>2</th>\n",
       "      <td>5008806</td>\n",
       "      <td>M</td>\n",
       "      <td>Y</td>\n",
       "      <td>Y</td>\n",
       "      <td>0</td>\n",
       "      <td>112500.0</td>\n",
       "      <td>Working</td>\n",
       "      <td>Secondary / secondary special</td>\n",
       "      <td>Married</td>\n",
       "      <td>House / apartment</td>\n",
       "      <td>-21474</td>\n",
       "      <td>-1134</td>\n",
       "      <td>1</td>\n",
       "      <td>0</td>\n",
       "      <td>0</td>\n",
       "      <td>0</td>\n",
       "      <td>Security staff</td>\n",
       "      <td>2.0</td>\n",
       "    </tr>\n",
       "    <tr>\n",
       "      <th>3</th>\n",
       "      <td>5008808</td>\n",
       "      <td>F</td>\n",
       "      <td>N</td>\n",
       "      <td>Y</td>\n",
       "      <td>0</td>\n",
       "      <td>270000.0</td>\n",
       "      <td>Commercial associate</td>\n",
       "      <td>Secondary / secondary special</td>\n",
       "      <td>Single / not married</td>\n",
       "      <td>House / apartment</td>\n",
       "      <td>-19110</td>\n",
       "      <td>-3051</td>\n",
       "      <td>1</td>\n",
       "      <td>0</td>\n",
       "      <td>1</td>\n",
       "      <td>1</td>\n",
       "      <td>Sales staff</td>\n",
       "      <td>1.0</td>\n",
       "    </tr>\n",
       "    <tr>\n",
       "      <th>4</th>\n",
       "      <td>5008809</td>\n",
       "      <td>F</td>\n",
       "      <td>N</td>\n",
       "      <td>Y</td>\n",
       "      <td>0</td>\n",
       "      <td>270000.0</td>\n",
       "      <td>Commercial associate</td>\n",
       "      <td>Secondary / secondary special</td>\n",
       "      <td>Single / not married</td>\n",
       "      <td>House / apartment</td>\n",
       "      <td>-19110</td>\n",
       "      <td>-3051</td>\n",
       "      <td>1</td>\n",
       "      <td>0</td>\n",
       "      <td>1</td>\n",
       "      <td>1</td>\n",
       "      <td>Sales staff</td>\n",
       "      <td>1.0</td>\n",
       "    </tr>\n",
       "  </tbody>\n",
       "</table>\n",
       "</div>"
      ],
      "text/plain": [
       "        ID CODE_GENDER FLAG_OWN_CAR FLAG_OWN_REALTY  CNT_CHILDREN  \\\n",
       "0  5008804           M            Y               Y             0   \n",
       "1  5008805           M            Y               Y             0   \n",
       "2  5008806           M            Y               Y             0   \n",
       "3  5008808           F            N               Y             0   \n",
       "4  5008809           F            N               Y             0   \n",
       "\n",
       "   AMT_INCOME_TOTAL      NAME_INCOME_TYPE            NAME_EDUCATION_TYPE  \\\n",
       "0          427500.0               Working               Higher education   \n",
       "1          427500.0               Working               Higher education   \n",
       "2          112500.0               Working  Secondary / secondary special   \n",
       "3          270000.0  Commercial associate  Secondary / secondary special   \n",
       "4          270000.0  Commercial associate  Secondary / secondary special   \n",
       "\n",
       "     NAME_FAMILY_STATUS  NAME_HOUSING_TYPE  DAYS_BIRTH  DAYS_EMPLOYED  \\\n",
       "0        Civil marriage   Rented apartment      -12005          -4542   \n",
       "1        Civil marriage   Rented apartment      -12005          -4542   \n",
       "2               Married  House / apartment      -21474          -1134   \n",
       "3  Single / not married  House / apartment      -19110          -3051   \n",
       "4  Single / not married  House / apartment      -19110          -3051   \n",
       "\n",
       "   FLAG_MOBIL  FLAG_WORK_PHONE  FLAG_PHONE  FLAG_EMAIL OCCUPATION_TYPE  \\\n",
       "0           1                1           0           0             NaN   \n",
       "1           1                1           0           0             NaN   \n",
       "2           1                0           0           0  Security staff   \n",
       "3           1                0           1           1     Sales staff   \n",
       "4           1                0           1           1     Sales staff   \n",
       "\n",
       "   CNT_FAM_MEMBERS  \n",
       "0              2.0  \n",
       "1              2.0  \n",
       "2              2.0  \n",
       "3              1.0  \n",
       "4              1.0  "
      ]
     },
     "execution_count": 2,
     "metadata": {},
     "output_type": "execute_result"
    }
   ],
   "source": [
    "application_df = pd.read_csv(path+\"application_record.csv\")\n",
    "application_df.head(5)"
   ]
  },
  {
   "cell_type": "markdown",
   "metadata": {
    "papermill": {
     "duration": 0.041862,
     "end_time": "2020-11-27T05:15:36.821923",
     "exception": false,
     "start_time": "2020-11-27T05:15:36.780061",
     "status": "completed"
    },
    "tags": []
   },
   "source": [
    "There are many duplicate rows in application_record.csv. They have the same values in rows except `ID`. Some of them have adjacent `ID`, but others are not. By using `df.drop_duplicates`, we can drop the duplicate rows to grantee that any applicant corresponds to only one applications."
   ]
  },
  {
   "cell_type": "code",
   "execution_count": 3,
   "metadata": {
    "execution": {
     "iopub.execute_input": "2020-11-27T05:15:36.912631Z",
     "iopub.status.busy": "2020-11-27T05:15:36.911881Z",
     "iopub.status.idle": "2020-11-27T05:15:36.966315Z",
     "shell.execute_reply": "2020-11-27T05:15:36.965344Z"
    },
    "papermill": {
     "duration": 0.102435,
     "end_time": "2020-11-27T05:15:36.966474",
     "exception": false,
     "start_time": "2020-11-27T05:15:36.864039",
     "status": "completed"
    },
    "tags": []
   },
   "outputs": [
    {
     "data": {
      "text/html": [
       "<div>\n",
       "<style scoped>\n",
       "    .dataframe tbody tr th:only-of-type {\n",
       "        vertical-align: middle;\n",
       "    }\n",
       "\n",
       "    .dataframe tbody tr th {\n",
       "        vertical-align: top;\n",
       "    }\n",
       "\n",
       "    .dataframe thead th {\n",
       "        text-align: right;\n",
       "    }\n",
       "</style>\n",
       "<table border=\"1\" class=\"dataframe\">\n",
       "  <thead>\n",
       "    <tr style=\"text-align: right;\">\n",
       "      <th></th>\n",
       "      <th>ID</th>\n",
       "      <th>CODE_GENDER</th>\n",
       "      <th>FLAG_OWN_CAR</th>\n",
       "      <th>FLAG_OWN_REALTY</th>\n",
       "      <th>CNT_CHILDREN</th>\n",
       "      <th>AMT_INCOME_TOTAL</th>\n",
       "      <th>NAME_INCOME_TYPE</th>\n",
       "      <th>NAME_EDUCATION_TYPE</th>\n",
       "      <th>NAME_FAMILY_STATUS</th>\n",
       "      <th>NAME_HOUSING_TYPE</th>\n",
       "      <th>DAYS_BIRTH</th>\n",
       "      <th>DAYS_EMPLOYED</th>\n",
       "      <th>FLAG_MOBIL</th>\n",
       "      <th>FLAG_WORK_PHONE</th>\n",
       "      <th>FLAG_PHONE</th>\n",
       "      <th>FLAG_EMAIL</th>\n",
       "      <th>OCCUPATION_TYPE</th>\n",
       "      <th>CNT_FAM_MEMBERS</th>\n",
       "    </tr>\n",
       "  </thead>\n",
       "  <tbody>\n",
       "    <tr>\n",
       "      <th>213</th>\n",
       "      <td>5009031</td>\n",
       "      <td>F</td>\n",
       "      <td>N</td>\n",
       "      <td>Y</td>\n",
       "      <td>0</td>\n",
       "      <td>315000.0</td>\n",
       "      <td>Working</td>\n",
       "      <td>Secondary / secondary special</td>\n",
       "      <td>Single / not married</td>\n",
       "      <td>House / apartment</td>\n",
       "      <td>-10554</td>\n",
       "      <td>-1194</td>\n",
       "      <td>1</td>\n",
       "      <td>0</td>\n",
       "      <td>0</td>\n",
       "      <td>0</td>\n",
       "      <td>Accountants</td>\n",
       "      <td>1.0</td>\n",
       "    </tr>\n",
       "    <tr>\n",
       "      <th>214</th>\n",
       "      <td>5009032</td>\n",
       "      <td>F</td>\n",
       "      <td>N</td>\n",
       "      <td>Y</td>\n",
       "      <td>0</td>\n",
       "      <td>315000.0</td>\n",
       "      <td>Working</td>\n",
       "      <td>Secondary / secondary special</td>\n",
       "      <td>Single / not married</td>\n",
       "      <td>House / apartment</td>\n",
       "      <td>-10554</td>\n",
       "      <td>-1194</td>\n",
       "      <td>1</td>\n",
       "      <td>0</td>\n",
       "      <td>0</td>\n",
       "      <td>0</td>\n",
       "      <td>Accountants</td>\n",
       "      <td>1.0</td>\n",
       "    </tr>\n",
       "    <tr>\n",
       "      <th>215</th>\n",
       "      <td>6153669</td>\n",
       "      <td>F</td>\n",
       "      <td>N</td>\n",
       "      <td>Y</td>\n",
       "      <td>0</td>\n",
       "      <td>315000.0</td>\n",
       "      <td>Working</td>\n",
       "      <td>Secondary / secondary special</td>\n",
       "      <td>Single / not married</td>\n",
       "      <td>House / apartment</td>\n",
       "      <td>-10554</td>\n",
       "      <td>-1194</td>\n",
       "      <td>1</td>\n",
       "      <td>0</td>\n",
       "      <td>0</td>\n",
       "      <td>0</td>\n",
       "      <td>Accountants</td>\n",
       "      <td>1.0</td>\n",
       "    </tr>\n",
       "  </tbody>\n",
       "</table>\n",
       "</div>"
      ],
      "text/plain": [
       "          ID CODE_GENDER FLAG_OWN_CAR FLAG_OWN_REALTY  CNT_CHILDREN  \\\n",
       "213  5009031           F            N               Y             0   \n",
       "214  5009032           F            N               Y             0   \n",
       "215  6153669           F            N               Y             0   \n",
       "\n",
       "     AMT_INCOME_TOTAL NAME_INCOME_TYPE            NAME_EDUCATION_TYPE  \\\n",
       "213          315000.0          Working  Secondary / secondary special   \n",
       "214          315000.0          Working  Secondary / secondary special   \n",
       "215          315000.0          Working  Secondary / secondary special   \n",
       "\n",
       "       NAME_FAMILY_STATUS  NAME_HOUSING_TYPE  DAYS_BIRTH  DAYS_EMPLOYED  \\\n",
       "213  Single / not married  House / apartment      -10554          -1194   \n",
       "214  Single / not married  House / apartment      -10554          -1194   \n",
       "215  Single / not married  House / apartment      -10554          -1194   \n",
       "\n",
       "     FLAG_MOBIL  FLAG_WORK_PHONE  FLAG_PHONE  FLAG_EMAIL OCCUPATION_TYPE  \\\n",
       "213           1                0           0           0     Accountants   \n",
       "214           1                0           0           0     Accountants   \n",
       "215           1                0           0           0     Accountants   \n",
       "\n",
       "     CNT_FAM_MEMBERS  \n",
       "213              1.0  \n",
       "214              1.0  \n",
       "215              1.0  "
      ]
     },
     "execution_count": 3,
     "metadata": {},
     "output_type": "execute_result"
    }
   ],
   "source": [
    "application_df.loc[application_df.DAYS_EMPLOYED==-1194].loc[application_df.DAYS_BIRTH== -10554]"
   ]
  },
  {
   "cell_type": "code",
   "execution_count": 4,
   "metadata": {
    "execution": {
     "iopub.execute_input": "2020-11-27T05:15:37.065654Z",
     "iopub.status.busy": "2020-11-27T05:15:37.064878Z",
     "iopub.status.idle": "2020-11-27T05:15:37.615945Z",
     "shell.execute_reply": "2020-11-27T05:15:37.615290Z"
    },
    "papermill": {
     "duration": 0.601115,
     "end_time": "2020-11-27T05:15:37.616081",
     "exception": false,
     "start_time": "2020-11-27T05:15:37.014966",
     "status": "completed"
    },
    "tags": []
   },
   "outputs": [
    {
     "data": {
      "text/html": [
       "<div>\n",
       "<style scoped>\n",
       "    .dataframe tbody tr th:only-of-type {\n",
       "        vertical-align: middle;\n",
       "    }\n",
       "\n",
       "    .dataframe tbody tr th {\n",
       "        vertical-align: top;\n",
       "    }\n",
       "\n",
       "    .dataframe thead th {\n",
       "        text-align: right;\n",
       "    }\n",
       "</style>\n",
       "<table border=\"1\" class=\"dataframe\">\n",
       "  <thead>\n",
       "    <tr style=\"text-align: right;\">\n",
       "      <th></th>\n",
       "      <th>ID</th>\n",
       "      <th>CODE_GENDER</th>\n",
       "      <th>FLAG_OWN_CAR</th>\n",
       "      <th>FLAG_OWN_REALTY</th>\n",
       "      <th>CNT_CHILDREN</th>\n",
       "      <th>AMT_INCOME_TOTAL</th>\n",
       "      <th>NAME_INCOME_TYPE</th>\n",
       "      <th>NAME_EDUCATION_TYPE</th>\n",
       "      <th>NAME_FAMILY_STATUS</th>\n",
       "      <th>NAME_HOUSING_TYPE</th>\n",
       "      <th>DAYS_BIRTH</th>\n",
       "      <th>DAYS_EMPLOYED</th>\n",
       "      <th>FLAG_MOBIL</th>\n",
       "      <th>FLAG_WORK_PHONE</th>\n",
       "      <th>FLAG_PHONE</th>\n",
       "      <th>FLAG_EMAIL</th>\n",
       "      <th>OCCUPATION_TYPE</th>\n",
       "      <th>CNT_FAM_MEMBERS</th>\n",
       "    </tr>\n",
       "  </thead>\n",
       "  <tbody>\n",
       "    <tr>\n",
       "      <th>213</th>\n",
       "      <td>5009031</td>\n",
       "      <td>F</td>\n",
       "      <td>N</td>\n",
       "      <td>Y</td>\n",
       "      <td>0</td>\n",
       "      <td>315000.0</td>\n",
       "      <td>Working</td>\n",
       "      <td>Secondary / secondary special</td>\n",
       "      <td>Single / not married</td>\n",
       "      <td>House / apartment</td>\n",
       "      <td>-10554</td>\n",
       "      <td>-1194</td>\n",
       "      <td>1</td>\n",
       "      <td>0</td>\n",
       "      <td>0</td>\n",
       "      <td>0</td>\n",
       "      <td>Accountants</td>\n",
       "      <td>1.0</td>\n",
       "    </tr>\n",
       "    <tr>\n",
       "      <th>359960</th>\n",
       "      <td>6491536</td>\n",
       "      <td>F</td>\n",
       "      <td>Y</td>\n",
       "      <td>Y</td>\n",
       "      <td>0</td>\n",
       "      <td>234000.0</td>\n",
       "      <td>Working</td>\n",
       "      <td>Secondary / secondary special</td>\n",
       "      <td>Married</td>\n",
       "      <td>House / apartment</td>\n",
       "      <td>-10554</td>\n",
       "      <td>-1741</td>\n",
       "      <td>1</td>\n",
       "      <td>0</td>\n",
       "      <td>1</td>\n",
       "      <td>0</td>\n",
       "      <td>Waiters/barmen staff</td>\n",
       "      <td>2.0</td>\n",
       "    </tr>\n",
       "    <tr>\n",
       "      <th>363841</th>\n",
       "      <td>6508956</td>\n",
       "      <td>M</td>\n",
       "      <td>Y</td>\n",
       "      <td>Y</td>\n",
       "      <td>0</td>\n",
       "      <td>157500.0</td>\n",
       "      <td>Working</td>\n",
       "      <td>Secondary / secondary special</td>\n",
       "      <td>Single / not married</td>\n",
       "      <td>House / apartment</td>\n",
       "      <td>-10554</td>\n",
       "      <td>-534</td>\n",
       "      <td>1</td>\n",
       "      <td>0</td>\n",
       "      <td>0</td>\n",
       "      <td>0</td>\n",
       "      <td>Laborers</td>\n",
       "      <td>1.0</td>\n",
       "    </tr>\n",
       "    <tr>\n",
       "      <th>375944</th>\n",
       "      <td>6590652</td>\n",
       "      <td>M</td>\n",
       "      <td>Y</td>\n",
       "      <td>N</td>\n",
       "      <td>0</td>\n",
       "      <td>315000.0</td>\n",
       "      <td>Commercial associate</td>\n",
       "      <td>Secondary / secondary special</td>\n",
       "      <td>Married</td>\n",
       "      <td>House / apartment</td>\n",
       "      <td>-10554</td>\n",
       "      <td>-2127</td>\n",
       "      <td>1</td>\n",
       "      <td>0</td>\n",
       "      <td>0</td>\n",
       "      <td>0</td>\n",
       "      <td>Drivers</td>\n",
       "      <td>2.0</td>\n",
       "    </tr>\n",
       "  </tbody>\n",
       "</table>\n",
       "</div>"
      ],
      "text/plain": [
       "             ID CODE_GENDER FLAG_OWN_CAR FLAG_OWN_REALTY  CNT_CHILDREN  \\\n",
       "213     5009031           F            N               Y             0   \n",
       "359960  6491536           F            Y               Y             0   \n",
       "363841  6508956           M            Y               Y             0   \n",
       "375944  6590652           M            Y               N             0   \n",
       "\n",
       "        AMT_INCOME_TOTAL      NAME_INCOME_TYPE            NAME_EDUCATION_TYPE  \\\n",
       "213             315000.0               Working  Secondary / secondary special   \n",
       "359960          234000.0               Working  Secondary / secondary special   \n",
       "363841          157500.0               Working  Secondary / secondary special   \n",
       "375944          315000.0  Commercial associate  Secondary / secondary special   \n",
       "\n",
       "          NAME_FAMILY_STATUS  NAME_HOUSING_TYPE  DAYS_BIRTH  DAYS_EMPLOYED  \\\n",
       "213     Single / not married  House / apartment      -10554          -1194   \n",
       "359960               Married  House / apartment      -10554          -1741   \n",
       "363841  Single / not married  House / apartment      -10554           -534   \n",
       "375944               Married  House / apartment      -10554          -2127   \n",
       "\n",
       "        FLAG_MOBIL  FLAG_WORK_PHONE  FLAG_PHONE  FLAG_EMAIL  \\\n",
       "213              1                0           0           0   \n",
       "359960           1                0           1           0   \n",
       "363841           1                0           0           0   \n",
       "375944           1                0           0           0   \n",
       "\n",
       "             OCCUPATION_TYPE  CNT_FAM_MEMBERS  \n",
       "213              Accountants              1.0  \n",
       "359960  Waiters/barmen staff              2.0  \n",
       "363841              Laborers              1.0  \n",
       "375944               Drivers              2.0  "
      ]
     },
     "execution_count": 4,
     "metadata": {},
     "output_type": "execute_result"
    }
   ],
   "source": [
    "application_df = application_df.drop_duplicates(subset=application_df.columns[1:], keep='first', inplace=False)\n",
    "application_df.loc[application_df.DAYS_BIRTH== -10554]"
   ]
  },
  {
   "cell_type": "markdown",
   "metadata": {
    "papermill": {
     "duration": 0.04997,
     "end_time": "2020-11-27T05:15:37.715306",
     "exception": false,
     "start_time": "2020-11-27T05:15:37.665336",
     "status": "completed"
    },
    "tags": []
   },
   "source": [
    "### 1.2 Credit record\n",
    "This is a csv file with credit record for a part of ID in application record. We can treat it a file to generate labels for modeling. For the applicants who have a record more than 59 past due, they should be rejected.\n",
    "\n",
    "After reading the data, we have the following columns.\n",
    "\n",
    "* `ID`: Unique Id of the row in application record.\n",
    "* `MONTHS_BALANCE`: The number of months from record time.\n",
    "* `STATUS`: Credit status for this month.\n",
    "        X: No loan for the month\n",
    "        C: paid off that month \n",
    "        0: 1-29 days past due \n",
    "        1: 30-59 days past due \n",
    "        2: 60-89 days overdue\n",
    "        3: 90-119 days overdue \n",
    "        4: 120-149 days overdue \n",
    "        5: Overdue or bad debts, write-offs for more than 150 days \n"
   ]
  },
  {
   "cell_type": "code",
   "execution_count": 5,
   "metadata": {
    "execution": {
     "iopub.execute_input": "2020-11-27T05:15:37.817686Z",
     "iopub.status.busy": "2020-11-27T05:15:37.816909Z",
     "iopub.status.idle": "2020-11-27T05:15:38.573668Z",
     "shell.execute_reply": "2020-11-27T05:15:38.573003Z"
    },
    "papermill": {
     "duration": 0.809665,
     "end_time": "2020-11-27T05:15:38.573809",
     "exception": false,
     "start_time": "2020-11-27T05:15:37.764144",
     "status": "completed"
    },
    "tags": []
   },
   "outputs": [],
   "source": [
    "credit_status = pd.read_csv(path+\"credit_record.csv\")\n",
    "\n",
    "# replace X, and C by 0\n",
    "credit_status.STATUS.replace('X', 0, inplace=True)\n",
    "credit_status.STATUS.replace('C', 0, inplace=True)\n",
    "credit_status.STATUS = credit_status.STATUS.astype('int')\n",
    "\n",
    "# record the worst credit record.\n",
    "credit_record = credit_status.groupby('ID').STATUS.max()\n",
    "credit_record.head(10)\n",
    "\n",
    "# combine two table\n",
    "df = pd.merge(application_df, credit_record, how='inner', on=['ID'])"
   ]
  },
  {
   "cell_type": "code",
   "execution_count": 6,
   "metadata": {
    "execution": {
     "iopub.execute_input": "2020-11-27T05:15:38.698804Z",
     "iopub.status.busy": "2020-11-27T05:15:38.668244Z",
     "iopub.status.idle": "2020-11-27T05:15:38.703641Z",
     "shell.execute_reply": "2020-11-27T05:15:38.703015Z"
    },
    "papermill": {
     "duration": 0.085607,
     "end_time": "2020-11-27T05:15:38.703777",
     "exception": false,
     "start_time": "2020-11-27T05:15:38.618170",
     "status": "completed"
    },
    "tags": []
   },
   "outputs": [
    {
     "data": {
      "text/html": [
       "<div>\n",
       "<style scoped>\n",
       "    .dataframe tbody tr th:only-of-type {\n",
       "        vertical-align: middle;\n",
       "    }\n",
       "\n",
       "    .dataframe tbody tr th {\n",
       "        vertical-align: top;\n",
       "    }\n",
       "\n",
       "    .dataframe thead th {\n",
       "        text-align: right;\n",
       "    }\n",
       "</style>\n",
       "<table border=\"1\" class=\"dataframe\">\n",
       "  <thead>\n",
       "    <tr style=\"text-align: right;\">\n",
       "      <th></th>\n",
       "      <th>ID</th>\n",
       "      <th>CODE_GENDER</th>\n",
       "      <th>FLAG_OWN_CAR</th>\n",
       "      <th>FLAG_OWN_REALTY</th>\n",
       "      <th>CNT_CHILDREN</th>\n",
       "      <th>AMT_INCOME_TOTAL</th>\n",
       "      <th>NAME_INCOME_TYPE</th>\n",
       "      <th>NAME_EDUCATION_TYPE</th>\n",
       "      <th>NAME_FAMILY_STATUS</th>\n",
       "      <th>NAME_HOUSING_TYPE</th>\n",
       "      <th>DAYS_BIRTH</th>\n",
       "      <th>DAYS_EMPLOYED</th>\n",
       "      <th>FLAG_MOBIL</th>\n",
       "      <th>FLAG_WORK_PHONE</th>\n",
       "      <th>FLAG_PHONE</th>\n",
       "      <th>FLAG_EMAIL</th>\n",
       "      <th>OCCUPATION_TYPE</th>\n",
       "      <th>CNT_FAM_MEMBERS</th>\n",
       "      <th>STATUS</th>\n",
       "    </tr>\n",
       "  </thead>\n",
       "  <tbody>\n",
       "    <tr>\n",
       "      <th>0</th>\n",
       "      <td>5008804</td>\n",
       "      <td>M</td>\n",
       "      <td>Y</td>\n",
       "      <td>Y</td>\n",
       "      <td>0</td>\n",
       "      <td>427500.0</td>\n",
       "      <td>Working</td>\n",
       "      <td>Higher education</td>\n",
       "      <td>Civil marriage</td>\n",
       "      <td>Rented apartment</td>\n",
       "      <td>-12005</td>\n",
       "      <td>-4542</td>\n",
       "      <td>1</td>\n",
       "      <td>1</td>\n",
       "      <td>0</td>\n",
       "      <td>0</td>\n",
       "      <td>NaN</td>\n",
       "      <td>2.0</td>\n",
       "      <td>0</td>\n",
       "    </tr>\n",
       "    <tr>\n",
       "      <th>1</th>\n",
       "      <td>5008806</td>\n",
       "      <td>M</td>\n",
       "      <td>Y</td>\n",
       "      <td>Y</td>\n",
       "      <td>0</td>\n",
       "      <td>112500.0</td>\n",
       "      <td>Working</td>\n",
       "      <td>Secondary / secondary special</td>\n",
       "      <td>Married</td>\n",
       "      <td>House / apartment</td>\n",
       "      <td>-21474</td>\n",
       "      <td>-1134</td>\n",
       "      <td>1</td>\n",
       "      <td>0</td>\n",
       "      <td>0</td>\n",
       "      <td>0</td>\n",
       "      <td>Security staff</td>\n",
       "      <td>2.0</td>\n",
       "      <td>0</td>\n",
       "    </tr>\n",
       "    <tr>\n",
       "      <th>2</th>\n",
       "      <td>5008808</td>\n",
       "      <td>F</td>\n",
       "      <td>N</td>\n",
       "      <td>Y</td>\n",
       "      <td>0</td>\n",
       "      <td>270000.0</td>\n",
       "      <td>Commercial associate</td>\n",
       "      <td>Secondary / secondary special</td>\n",
       "      <td>Single / not married</td>\n",
       "      <td>House / apartment</td>\n",
       "      <td>-19110</td>\n",
       "      <td>-3051</td>\n",
       "      <td>1</td>\n",
       "      <td>0</td>\n",
       "      <td>1</td>\n",
       "      <td>1</td>\n",
       "      <td>Sales staff</td>\n",
       "      <td>1.0</td>\n",
       "      <td>0</td>\n",
       "    </tr>\n",
       "    <tr>\n",
       "      <th>3</th>\n",
       "      <td>5008812</td>\n",
       "      <td>F</td>\n",
       "      <td>N</td>\n",
       "      <td>Y</td>\n",
       "      <td>0</td>\n",
       "      <td>283500.0</td>\n",
       "      <td>Pensioner</td>\n",
       "      <td>Higher education</td>\n",
       "      <td>Separated</td>\n",
       "      <td>House / apartment</td>\n",
       "      <td>-22464</td>\n",
       "      <td>365243</td>\n",
       "      <td>1</td>\n",
       "      <td>0</td>\n",
       "      <td>0</td>\n",
       "      <td>0</td>\n",
       "      <td>NaN</td>\n",
       "      <td>1.0</td>\n",
       "      <td>0</td>\n",
       "    </tr>\n",
       "    <tr>\n",
       "      <th>4</th>\n",
       "      <td>5008815</td>\n",
       "      <td>M</td>\n",
       "      <td>Y</td>\n",
       "      <td>Y</td>\n",
       "      <td>0</td>\n",
       "      <td>270000.0</td>\n",
       "      <td>Working</td>\n",
       "      <td>Higher education</td>\n",
       "      <td>Married</td>\n",
       "      <td>House / apartment</td>\n",
       "      <td>-16872</td>\n",
       "      <td>-769</td>\n",
       "      <td>1</td>\n",
       "      <td>1</td>\n",
       "      <td>1</td>\n",
       "      <td>1</td>\n",
       "      <td>Accountants</td>\n",
       "      <td>2.0</td>\n",
       "      <td>0</td>\n",
       "    </tr>\n",
       "  </tbody>\n",
       "</table>\n",
       "</div>"
      ],
      "text/plain": [
       "        ID CODE_GENDER FLAG_OWN_CAR FLAG_OWN_REALTY  CNT_CHILDREN  \\\n",
       "0  5008804           M            Y               Y             0   \n",
       "1  5008806           M            Y               Y             0   \n",
       "2  5008808           F            N               Y             0   \n",
       "3  5008812           F            N               Y             0   \n",
       "4  5008815           M            Y               Y             0   \n",
       "\n",
       "   AMT_INCOME_TOTAL      NAME_INCOME_TYPE            NAME_EDUCATION_TYPE  \\\n",
       "0          427500.0               Working               Higher education   \n",
       "1          112500.0               Working  Secondary / secondary special   \n",
       "2          270000.0  Commercial associate  Secondary / secondary special   \n",
       "3          283500.0             Pensioner               Higher education   \n",
       "4          270000.0               Working               Higher education   \n",
       "\n",
       "     NAME_FAMILY_STATUS  NAME_HOUSING_TYPE  DAYS_BIRTH  DAYS_EMPLOYED  \\\n",
       "0        Civil marriage   Rented apartment      -12005          -4542   \n",
       "1               Married  House / apartment      -21474          -1134   \n",
       "2  Single / not married  House / apartment      -19110          -3051   \n",
       "3             Separated  House / apartment      -22464         365243   \n",
       "4               Married  House / apartment      -16872           -769   \n",
       "\n",
       "   FLAG_MOBIL  FLAG_WORK_PHONE  FLAG_PHONE  FLAG_EMAIL OCCUPATION_TYPE  \\\n",
       "0           1                1           0           0             NaN   \n",
       "1           1                0           0           0  Security staff   \n",
       "2           1                0           1           1     Sales staff   \n",
       "3           1                0           0           0             NaN   \n",
       "4           1                1           1           1     Accountants   \n",
       "\n",
       "   CNT_FAM_MEMBERS  STATUS  \n",
       "0              2.0       0  \n",
       "1              2.0       0  \n",
       "2              1.0       0  \n",
       "3              1.0       0  \n",
       "4              2.0       0  "
      ]
     },
     "execution_count": 6,
     "metadata": {},
     "output_type": "execute_result"
    }
   ],
   "source": [
    "df.STATUS = df.STATUS.apply(lambda x: 1 if x >= 2 else 0)\n",
    "df.head(5)"
   ]
  },
  {
   "cell_type": "code",
   "execution_count": 7,
   "metadata": {
    "execution": {
     "iopub.execute_input": "2020-11-27T05:15:38.802274Z",
     "iopub.status.busy": "2020-11-27T05:15:38.801484Z",
     "iopub.status.idle": "2020-11-27T05:15:38.811397Z",
     "shell.execute_reply": "2020-11-27T05:15:38.810767Z"
    },
    "papermill": {
     "duration": 0.062409,
     "end_time": "2020-11-27T05:15:38.811530",
     "exception": false,
     "start_time": "2020-11-27T05:15:38.749121",
     "status": "completed"
    },
    "tags": []
   },
   "outputs": [],
   "source": [
    "df = df.sort_values('AMT_INCOME_TOTAL')\n",
    "df = df.reset_index(drop=True)\n",
    "df.ID=df.index\n",
    "df.columns = ('User_id',\n",
    "              'Gender',\n",
    "              'Car',\n",
    "              'Realty',\n",
    "              'children_count',\n",
    "              'income_amount',\n",
    "              'income_type',\n",
    "              'education_type',\n",
    "              'Family_status',\n",
    "              'Housing_type',\n",
    "              'Days_birth',\n",
    "              'Days_employed',\n",
    "              'Mobile',\n",
    "              'Work_phone',\n",
    "              'Phone',\n",
    "              'Email',\n",
    "              'Occupation_type',\n",
    "              'Count_family_members',\n",
    "              'Reject'\n",
    "              )"
   ]
  },
  {
   "cell_type": "code",
   "execution_count": 8,
   "metadata": {
    "execution": {
     "iopub.execute_input": "2020-11-27T05:15:38.942106Z",
     "iopub.status.busy": "2020-11-27T05:15:38.939844Z",
     "iopub.status.idle": "2020-11-27T05:15:38.946838Z",
     "shell.execute_reply": "2020-11-27T05:15:38.947404Z"
    },
    "papermill": {
     "duration": 0.090817,
     "end_time": "2020-11-27T05:15:38.947569",
     "exception": false,
     "start_time": "2020-11-27T05:15:38.856752",
     "status": "completed"
    },
    "tags": []
   },
   "outputs": [
    {
     "data": {
      "text/html": [
       "<div>\n",
       "<style scoped>\n",
       "    .dataframe tbody tr th:only-of-type {\n",
       "        vertical-align: middle;\n",
       "    }\n",
       "\n",
       "    .dataframe tbody tr th {\n",
       "        vertical-align: top;\n",
       "    }\n",
       "\n",
       "    .dataframe thead th {\n",
       "        text-align: right;\n",
       "    }\n",
       "</style>\n",
       "<table border=\"1\" class=\"dataframe\">\n",
       "  <thead>\n",
       "    <tr style=\"text-align: right;\">\n",
       "      <th></th>\n",
       "      <th>User_id</th>\n",
       "      <th>Gender</th>\n",
       "      <th>Car</th>\n",
       "      <th>Realty</th>\n",
       "      <th>children_count</th>\n",
       "      <th>income_amount</th>\n",
       "      <th>income_type</th>\n",
       "      <th>education_type</th>\n",
       "      <th>Family_status</th>\n",
       "      <th>Housing_type</th>\n",
       "      <th>Days_birth</th>\n",
       "      <th>Days_employed</th>\n",
       "      <th>Mobile</th>\n",
       "      <th>Work_phone</th>\n",
       "      <th>Phone</th>\n",
       "      <th>Email</th>\n",
       "      <th>Occupation_type</th>\n",
       "      <th>Count_family_members</th>\n",
       "      <th>Reject</th>\n",
       "    </tr>\n",
       "  </thead>\n",
       "  <tbody>\n",
       "    <tr>\n",
       "      <th>0</th>\n",
       "      <td>0</td>\n",
       "      <td>F</td>\n",
       "      <td>N</td>\n",
       "      <td>N</td>\n",
       "      <td>0</td>\n",
       "      <td>27000.0</td>\n",
       "      <td>Working</td>\n",
       "      <td>Higher education</td>\n",
       "      <td>Civil marriage</td>\n",
       "      <td>House / apartment</td>\n",
       "      <td>-14869</td>\n",
       "      <td>-5067</td>\n",
       "      <td>1</td>\n",
       "      <td>1</td>\n",
       "      <td>0</td>\n",
       "      <td>0</td>\n",
       "      <td>Managers</td>\n",
       "      <td>2.0</td>\n",
       "      <td>0</td>\n",
       "    </tr>\n",
       "    <tr>\n",
       "      <th>1</th>\n",
       "      <td>1</td>\n",
       "      <td>F</td>\n",
       "      <td>N</td>\n",
       "      <td>Y</td>\n",
       "      <td>0</td>\n",
       "      <td>27000.0</td>\n",
       "      <td>Working</td>\n",
       "      <td>Secondary / secondary special</td>\n",
       "      <td>Married</td>\n",
       "      <td>House / apartment</td>\n",
       "      <td>-19128</td>\n",
       "      <td>-1323</td>\n",
       "      <td>1</td>\n",
       "      <td>1</td>\n",
       "      <td>0</td>\n",
       "      <td>0</td>\n",
       "      <td>Security staff</td>\n",
       "      <td>2.0</td>\n",
       "      <td>0</td>\n",
       "    </tr>\n",
       "    <tr>\n",
       "      <th>2</th>\n",
       "      <td>2</td>\n",
       "      <td>F</td>\n",
       "      <td>Y</td>\n",
       "      <td>Y</td>\n",
       "      <td>0</td>\n",
       "      <td>29250.0</td>\n",
       "      <td>Pensioner</td>\n",
       "      <td>Secondary / secondary special</td>\n",
       "      <td>Married</td>\n",
       "      <td>House / apartment</td>\n",
       "      <td>-20086</td>\n",
       "      <td>365243</td>\n",
       "      <td>1</td>\n",
       "      <td>0</td>\n",
       "      <td>0</td>\n",
       "      <td>0</td>\n",
       "      <td>NaN</td>\n",
       "      <td>2.0</td>\n",
       "      <td>0</td>\n",
       "    </tr>\n",
       "    <tr>\n",
       "      <th>3</th>\n",
       "      <td>3</td>\n",
       "      <td>M</td>\n",
       "      <td>N</td>\n",
       "      <td>Y</td>\n",
       "      <td>0</td>\n",
       "      <td>30150.0</td>\n",
       "      <td>Pensioner</td>\n",
       "      <td>Lower secondary</td>\n",
       "      <td>Married</td>\n",
       "      <td>House / apartment</td>\n",
       "      <td>-23770</td>\n",
       "      <td>365243</td>\n",
       "      <td>1</td>\n",
       "      <td>0</td>\n",
       "      <td>0</td>\n",
       "      <td>0</td>\n",
       "      <td>NaN</td>\n",
       "      <td>2.0</td>\n",
       "      <td>0</td>\n",
       "    </tr>\n",
       "    <tr>\n",
       "      <th>4</th>\n",
       "      <td>4</td>\n",
       "      <td>M</td>\n",
       "      <td>N</td>\n",
       "      <td>Y</td>\n",
       "      <td>0</td>\n",
       "      <td>31500.0</td>\n",
       "      <td>Pensioner</td>\n",
       "      <td>Secondary / secondary special</td>\n",
       "      <td>Married</td>\n",
       "      <td>House / apartment</td>\n",
       "      <td>-22564</td>\n",
       "      <td>365243</td>\n",
       "      <td>1</td>\n",
       "      <td>0</td>\n",
       "      <td>0</td>\n",
       "      <td>0</td>\n",
       "      <td>NaN</td>\n",
       "      <td>2.0</td>\n",
       "      <td>0</td>\n",
       "    </tr>\n",
       "    <tr>\n",
       "      <th>...</th>\n",
       "      <td>...</td>\n",
       "      <td>...</td>\n",
       "      <td>...</td>\n",
       "      <td>...</td>\n",
       "      <td>...</td>\n",
       "      <td>...</td>\n",
       "      <td>...</td>\n",
       "      <td>...</td>\n",
       "      <td>...</td>\n",
       "      <td>...</td>\n",
       "      <td>...</td>\n",
       "      <td>...</td>\n",
       "      <td>...</td>\n",
       "      <td>...</td>\n",
       "      <td>...</td>\n",
       "      <td>...</td>\n",
       "      <td>...</td>\n",
       "      <td>...</td>\n",
       "      <td>...</td>\n",
       "    </tr>\n",
       "    <tr>\n",
       "      <th>9704</th>\n",
       "      <td>9704</td>\n",
       "      <td>M</td>\n",
       "      <td>Y</td>\n",
       "      <td>N</td>\n",
       "      <td>0</td>\n",
       "      <td>1125000.0</td>\n",
       "      <td>Commercial associate</td>\n",
       "      <td>Secondary / secondary special</td>\n",
       "      <td>Married</td>\n",
       "      <td>Rented apartment</td>\n",
       "      <td>-15960</td>\n",
       "      <td>-1646</td>\n",
       "      <td>1</td>\n",
       "      <td>0</td>\n",
       "      <td>0</td>\n",
       "      <td>0</td>\n",
       "      <td>Managers</td>\n",
       "      <td>2.0</td>\n",
       "      <td>0</td>\n",
       "    </tr>\n",
       "    <tr>\n",
       "      <th>9705</th>\n",
       "      <td>9705</td>\n",
       "      <td>M</td>\n",
       "      <td>Y</td>\n",
       "      <td>Y</td>\n",
       "      <td>1</td>\n",
       "      <td>1125000.0</td>\n",
       "      <td>Working</td>\n",
       "      <td>Higher education</td>\n",
       "      <td>Married</td>\n",
       "      <td>House / apartment</td>\n",
       "      <td>-16616</td>\n",
       "      <td>-1624</td>\n",
       "      <td>1</td>\n",
       "      <td>0</td>\n",
       "      <td>0</td>\n",
       "      <td>0</td>\n",
       "      <td>Managers</td>\n",
       "      <td>3.0</td>\n",
       "      <td>0</td>\n",
       "    </tr>\n",
       "    <tr>\n",
       "      <th>9706</th>\n",
       "      <td>9706</td>\n",
       "      <td>F</td>\n",
       "      <td>Y</td>\n",
       "      <td>Y</td>\n",
       "      <td>2</td>\n",
       "      <td>1125000.0</td>\n",
       "      <td>Commercial associate</td>\n",
       "      <td>Higher education</td>\n",
       "      <td>Married</td>\n",
       "      <td>House / apartment</td>\n",
       "      <td>-14339</td>\n",
       "      <td>-2653</td>\n",
       "      <td>1</td>\n",
       "      <td>1</td>\n",
       "      <td>1</td>\n",
       "      <td>0</td>\n",
       "      <td>Managers</td>\n",
       "      <td>4.0</td>\n",
       "      <td>0</td>\n",
       "    </tr>\n",
       "    <tr>\n",
       "      <th>9707</th>\n",
       "      <td>9707</td>\n",
       "      <td>M</td>\n",
       "      <td>Y</td>\n",
       "      <td>N</td>\n",
       "      <td>0</td>\n",
       "      <td>1350000.0</td>\n",
       "      <td>Commercial associate</td>\n",
       "      <td>Higher education</td>\n",
       "      <td>Married</td>\n",
       "      <td>Municipal apartment</td>\n",
       "      <td>-12999</td>\n",
       "      <td>-1560</td>\n",
       "      <td>1</td>\n",
       "      <td>0</td>\n",
       "      <td>1</td>\n",
       "      <td>1</td>\n",
       "      <td>Managers</td>\n",
       "      <td>2.0</td>\n",
       "      <td>0</td>\n",
       "    </tr>\n",
       "    <tr>\n",
       "      <th>9708</th>\n",
       "      <td>9708</td>\n",
       "      <td>F</td>\n",
       "      <td>Y</td>\n",
       "      <td>Y</td>\n",
       "      <td>1</td>\n",
       "      <td>1575000.0</td>\n",
       "      <td>Commercial associate</td>\n",
       "      <td>Higher education</td>\n",
       "      <td>Single / not married</td>\n",
       "      <td>House / apartment</td>\n",
       "      <td>-10142</td>\n",
       "      <td>-2479</td>\n",
       "      <td>1</td>\n",
       "      <td>0</td>\n",
       "      <td>0</td>\n",
       "      <td>0</td>\n",
       "      <td>Managers</td>\n",
       "      <td>2.0</td>\n",
       "      <td>0</td>\n",
       "    </tr>\n",
       "  </tbody>\n",
       "</table>\n",
       "<p>9709 rows × 19 columns</p>\n",
       "</div>"
      ],
      "text/plain": [
       "      User_id Gender Car Realty  children_count  income_amount  \\\n",
       "0           0      F   N      N               0        27000.0   \n",
       "1           1      F   N      Y               0        27000.0   \n",
       "2           2      F   Y      Y               0        29250.0   \n",
       "3           3      M   N      Y               0        30150.0   \n",
       "4           4      M   N      Y               0        31500.0   \n",
       "...       ...    ...  ..    ...             ...            ...   \n",
       "9704     9704      M   Y      N               0      1125000.0   \n",
       "9705     9705      M   Y      Y               1      1125000.0   \n",
       "9706     9706      F   Y      Y               2      1125000.0   \n",
       "9707     9707      M   Y      N               0      1350000.0   \n",
       "9708     9708      F   Y      Y               1      1575000.0   \n",
       "\n",
       "               income_type                 education_type  \\\n",
       "0                  Working               Higher education   \n",
       "1                  Working  Secondary / secondary special   \n",
       "2                Pensioner  Secondary / secondary special   \n",
       "3                Pensioner                Lower secondary   \n",
       "4                Pensioner  Secondary / secondary special   \n",
       "...                    ...                            ...   \n",
       "9704  Commercial associate  Secondary / secondary special   \n",
       "9705               Working               Higher education   \n",
       "9706  Commercial associate               Higher education   \n",
       "9707  Commercial associate               Higher education   \n",
       "9708  Commercial associate               Higher education   \n",
       "\n",
       "             Family_status         Housing_type  Days_birth  Days_employed  \\\n",
       "0           Civil marriage    House / apartment      -14869          -5067   \n",
       "1                  Married    House / apartment      -19128          -1323   \n",
       "2                  Married    House / apartment      -20086         365243   \n",
       "3                  Married    House / apartment      -23770         365243   \n",
       "4                  Married    House / apartment      -22564         365243   \n",
       "...                    ...                  ...         ...            ...   \n",
       "9704               Married     Rented apartment      -15960          -1646   \n",
       "9705               Married    House / apartment      -16616          -1624   \n",
       "9706               Married    House / apartment      -14339          -2653   \n",
       "9707               Married  Municipal apartment      -12999          -1560   \n",
       "9708  Single / not married    House / apartment      -10142          -2479   \n",
       "\n",
       "      Mobile  Work_phone  Phone  Email Occupation_type  Count_family_members  \\\n",
       "0          1           1      0      0        Managers                   2.0   \n",
       "1          1           1      0      0  Security staff                   2.0   \n",
       "2          1           0      0      0             NaN                   2.0   \n",
       "3          1           0      0      0             NaN                   2.0   \n",
       "4          1           0      0      0             NaN                   2.0   \n",
       "...      ...         ...    ...    ...             ...                   ...   \n",
       "9704       1           0      0      0        Managers                   2.0   \n",
       "9705       1           0      0      0        Managers                   3.0   \n",
       "9706       1           1      1      0        Managers                   4.0   \n",
       "9707       1           0      1      1        Managers                   2.0   \n",
       "9708       1           0      0      0        Managers                   2.0   \n",
       "\n",
       "      Reject  \n",
       "0          0  \n",
       "1          0  \n",
       "2          0  \n",
       "3          0  \n",
       "4          0  \n",
       "...      ...  \n",
       "9704       0  \n",
       "9705       0  \n",
       "9706       0  \n",
       "9707       0  \n",
       "9708       0  \n",
       "\n",
       "[9709 rows x 19 columns]"
      ]
     },
     "execution_count": 8,
     "metadata": {},
     "output_type": "execute_result"
    }
   ],
   "source": [
    "df"
   ]
  },
  {
   "cell_type": "code",
   "execution_count": 9,
   "metadata": {
    "execution": {
     "iopub.execute_input": "2020-11-27T05:15:39.049493Z",
     "iopub.status.busy": "2020-11-27T05:15:39.048527Z",
     "iopub.status.idle": "2020-11-27T05:15:39.052336Z",
     "shell.execute_reply": "2020-11-27T05:15:39.053171Z"
    },
    "papermill": {
     "duration": 0.058843,
     "end_time": "2020-11-27T05:15:39.053379",
     "exception": false,
     "start_time": "2020-11-27T05:15:38.994536",
     "status": "completed"
    },
    "tags": []
   },
   "outputs": [
    {
     "name": "stdout",
     "output_type": "stream",
     "text": [
      "There are 206 rejected applicants\n",
      " 2.12% in 9710 applicants\n"
     ]
    }
   ],
   "source": [
    "print('There are '+str(df.Reject.sum()) +' rejected applicants\\n', str(round(df.Reject.sum()/len(df)*100,2)) +'% in 9710 applicants')\n"
   ]
  },
  {
   "cell_type": "markdown",
   "metadata": {
    "papermill": {
     "duration": 0.047815,
     "end_time": "2020-11-27T05:15:39.148832",
     "exception": false,
     "start_time": "2020-11-27T05:15:39.101017",
     "status": "completed"
    },
    "tags": []
   },
   "source": [
    "## 2. Exploratory data analysis"
   ]
  },
  {
   "cell_type": "markdown",
   "metadata": {
    "papermill": {
     "duration": 0.046378,
     "end_time": "2020-11-27T05:15:39.242364",
     "exception": false,
     "start_time": "2020-11-27T05:15:39.195986",
     "status": "completed"
    },
    "tags": []
   },
   "source": [
    "### 2.1 binary features\n",
    "There are 7 binary features in the dataset `Gender`, `Car`, `Realty`, `Mobile`, `Work_phone`, `Phone` and `Email`. We find every applicant has a mobile. So we drop column `Mobile`.\n"
   ]
  },
  {
   "cell_type": "code",
   "execution_count": 10,
   "metadata": {
    "execution": {
     "iopub.execute_input": "2020-11-27T05:15:39.354509Z",
     "iopub.status.busy": "2020-11-27T05:15:39.353664Z",
     "iopub.status.idle": "2020-11-27T05:15:39.755707Z",
     "shell.execute_reply": "2020-11-27T05:15:39.755081Z"
    },
    "papermill": {
     "duration": 0.466491,
     "end_time": "2020-11-27T05:15:39.755833",
     "exception": false,
     "start_time": "2020-11-27T05:15:39.289342",
     "status": "completed"
    },
    "tags": []
   },
   "outputs": [
    {
     "data": {
      "image/png": "[encoded data removed]",
      "text/plain": [
       "<Figure size 432x288 with 1 Axes>"
      ]
     },
     "metadata": {
      "needs_background": "light"
     },
     "output_type": "display_data"
    },
    {
     "data": {
      "text/html": [
       "<div>\n",
       "<style scoped>\n",
       "    .dataframe tbody tr th:only-of-type {\n",
       "        vertical-align: middle;\n",
       "    }\n",
       "\n",
       "    .dataframe tbody tr th {\n",
       "        vertical-align: top;\n",
       "    }\n",
       "\n",
       "    .dataframe thead th {\n",
       "        text-align: right;\n",
       "    }\n",
       "</style>\n",
       "<table border=\"1\" class=\"dataframe\">\n",
       "  <thead>\n",
       "    <tr style=\"text-align: right;\">\n",
       "      <th></th>\n",
       "      <th>feature</th>\n",
       "      <th>type</th>\n",
       "      <th>reject_rate in type</th>\n",
       "      <th>count</th>\n",
       "      <th>Reject_count</th>\n",
       "    </tr>\n",
       "  </thead>\n",
       "  <tbody>\n",
       "    <tr>\n",
       "      <th>0</th>\n",
       "      <td>Gender</td>\n",
       "      <td>0</td>\n",
       "      <td>0.018346</td>\n",
       "      <td>6323</td>\n",
       "      <td>116</td>\n",
       "    </tr>\n",
       "    <tr>\n",
       "      <th>1</th>\n",
       "      <td>Gender</td>\n",
       "      <td>1</td>\n",
       "      <td>0.026580</td>\n",
       "      <td>3386</td>\n",
       "      <td>90</td>\n",
       "    </tr>\n",
       "    <tr>\n",
       "      <th>2</th>\n",
       "      <td>Car</td>\n",
       "      <td>0</td>\n",
       "      <td>0.021828</td>\n",
       "      <td>6139</td>\n",
       "      <td>134</td>\n",
       "    </tr>\n",
       "    <tr>\n",
       "      <th>3</th>\n",
       "      <td>Car</td>\n",
       "      <td>1</td>\n",
       "      <td>0.020168</td>\n",
       "      <td>3570</td>\n",
       "      <td>72</td>\n",
       "    </tr>\n",
       "    <tr>\n",
       "      <th>4</th>\n",
       "      <td>Realty</td>\n",
       "      <td>0</td>\n",
       "      <td>0.027281</td>\n",
       "      <td>3189</td>\n",
       "      <td>87</td>\n",
       "    </tr>\n",
       "    <tr>\n",
       "      <th>5</th>\n",
       "      <td>Realty</td>\n",
       "      <td>1</td>\n",
       "      <td>0.018252</td>\n",
       "      <td>6520</td>\n",
       "      <td>119</td>\n",
       "    </tr>\n",
       "    <tr>\n",
       "      <th>6</th>\n",
       "      <td>Work_phone</td>\n",
       "      <td>0</td>\n",
       "      <td>0.021979</td>\n",
       "      <td>7598</td>\n",
       "      <td>167</td>\n",
       "    </tr>\n",
       "    <tr>\n",
       "      <th>7</th>\n",
       "      <td>Work_phone</td>\n",
       "      <td>1</td>\n",
       "      <td>0.018475</td>\n",
       "      <td>2111</td>\n",
       "      <td>39</td>\n",
       "    </tr>\n",
       "    <tr>\n",
       "      <th>8</th>\n",
       "      <td>Phone</td>\n",
       "      <td>0</td>\n",
       "      <td>0.020677</td>\n",
       "      <td>6916</td>\n",
       "      <td>143</td>\n",
       "    </tr>\n",
       "    <tr>\n",
       "      <th>9</th>\n",
       "      <td>Phone</td>\n",
       "      <td>1</td>\n",
       "      <td>0.022556</td>\n",
       "      <td>2793</td>\n",
       "      <td>63</td>\n",
       "    </tr>\n",
       "    <tr>\n",
       "      <th>10</th>\n",
       "      <td>Email</td>\n",
       "      <td>0</td>\n",
       "      <td>0.021673</td>\n",
       "      <td>8859</td>\n",
       "      <td>192</td>\n",
       "    </tr>\n",
       "    <tr>\n",
       "      <th>11</th>\n",
       "      <td>Email</td>\n",
       "      <td>1</td>\n",
       "      <td>0.016471</td>\n",
       "      <td>850</td>\n",
       "      <td>14</td>\n",
       "    </tr>\n",
       "  </tbody>\n",
       "</table>\n",
       "</div>"
      ],
      "text/plain": [
       "       feature  type  reject_rate in type  count  Reject_count\n",
       "0       Gender     0             0.018346   6323           116\n",
       "1       Gender     1             0.026580   3386            90\n",
       "2          Car     0             0.021828   6139           134\n",
       "3          Car     1             0.020168   3570            72\n",
       "4       Realty     0             0.027281   3189            87\n",
       "5       Realty     1             0.018252   6520           119\n",
       "6   Work_phone     0             0.021979   7598           167\n",
       "7   Work_phone     1             0.018475   2111            39\n",
       "8        Phone     0             0.020677   6916           143\n",
       "9        Phone     1             0.022556   2793            63\n",
       "10       Email     0             0.021673   8859           192\n",
       "11       Email     1             0.016471    850            14"
      ]
     },
     "execution_count": 10,
     "metadata": {},
     "output_type": "execute_result"
    }
   ],
   "source": [
    "binary_features = ['Gender', 'Car', 'Realty', 'Work_phone', 'Phone', 'Email']\n",
    "binary_df = df[binary_features+['Reject']].replace('M', 1).replace('F', 0).replace('Y', 1).replace('N', 0)\n",
    "dict_list = []\n",
    "for feature in binary_features:\n",
    "    for one_type in [0, 1]:\n",
    "        dict_list.append({'feature': feature,\n",
    "                          'type': one_type,\n",
    "                          'reject_rate in type': len(binary_df[binary_df[feature]==one_type][binary_df.Reject==1])/len(binary_df[binary_df[feature]==one_type]),\n",
    "                          'count': len(binary_df[binary_df[feature]==one_type]),\n",
    "                          'Reject_count': len(binary_df[binary_df[feature]==one_type][binary_df.Reject==1])\n",
    "                         })\n",
    "\n",
    "group_binary = pd.DataFrame.from_dict(dict_list)\n",
    "sns.barplot(x=\"feature\", y=\"reject_rate in type\", hue=\"type\", data=group_binary)\n",
    "plt.show()\n",
    "group_binary"
   ]
  },
  {
   "cell_type": "markdown",
   "metadata": {
    "papermill": {
     "duration": 0.04875,
     "end_time": "2020-11-27T05:15:39.853987",
     "exception": false,
     "start_time": "2020-11-27T05:15:39.805237",
     "status": "completed"
    },
    "tags": []
   },
   "source": [
    "In the figure above, we can notice that Gender and Realty are high value columns for credit approval, but Phone and Car are not."
   ]
  },
  {
   "cell_type": "markdown",
   "metadata": {
    "papermill": {
     "duration": 0.048884,
     "end_time": "2020-11-27T05:15:39.951701",
     "exception": false,
     "start_time": "2020-11-27T05:15:39.902817",
     "status": "completed"
    },
    "tags": []
   },
   "source": [
    "### 2.2 Digital features\n",
    "There are 5 digital features in the dataset `children_count`, `income_amount`, `Days_birth`, `Days_employed` and `Count_family_members`. `children_count` and `Count_family_members` are features with a small scale.\n",
    "\n"
   ]
  },
  {
   "cell_type": "markdown",
   "metadata": {
    "papermill": {
     "duration": 0.05069,
     "end_time": "2020-11-27T05:15:40.052254",
     "exception": false,
     "start_time": "2020-11-27T05:15:40.001564",
     "status": "completed"
    },
    "tags": []
   },
   "source": [
    "#### 2.2.1 children_count"
   ]
  },
  {
   "cell_type": "code",
   "execution_count": 11,
   "metadata": {
    "execution": {
     "iopub.execute_input": "2020-11-27T05:15:40.166453Z",
     "iopub.status.busy": "2020-11-27T05:15:40.165577Z",
     "iopub.status.idle": "2020-11-27T05:15:40.380874Z",
     "shell.execute_reply": "2020-11-27T05:15:40.380193Z"
    },
    "papermill": {
     "duration": 0.276567,
     "end_time": "2020-11-27T05:15:40.380998",
     "exception": false,
     "start_time": "2020-11-27T05:15:40.104431",
     "status": "completed"
    },
    "tags": []
   },
   "outputs": [
    {
     "data": {
      "image/png": "[encoded data removed]",
      "text/plain": [
       "<Figure size 432x288 with 1 Axes>"
      ]
     },
     "metadata": {
      "needs_background": "light"
     },
     "output_type": "display_data"
    }
   ],
   "source": [
    "sns.countplot(x=\"children_count\", data=df, palette=\"Greens_d\")\n",
    "children_count = df.children_count.value_counts()\n",
    "for a,b in zip(range(len(children_count)), children_count):\n",
    "    plt.text(a, b+50, '%.0f' % b, ha='center', va= 'bottom',fontsize=14)\n",
    "plt.show()"
   ]
  },
  {
   "cell_type": "markdown",
   "metadata": {
    "papermill": {
     "duration": 0.049306,
     "end_time": "2020-11-27T05:15:40.481276",
     "exception": false,
     "start_time": "2020-11-27T05:15:40.431970",
     "status": "completed"
    },
    "tags": []
   },
   "source": [
    "From the figure above, we can find that few of applicants have more than 2 child, so we seperate the applicants into four parts.\n",
    "\n",
    "The reject rate of applicants with 0, 1 or 2 children are not quite different."
   ]
  },
  {
   "cell_type": "code",
   "execution_count": 12,
   "metadata": {
    "execution": {
     "iopub.execute_input": "2020-11-27T05:15:40.591919Z",
     "iopub.status.busy": "2020-11-27T05:15:40.589120Z",
     "iopub.status.idle": "2020-11-27T05:15:40.615771Z",
     "shell.execute_reply": "2020-11-27T05:15:40.615146Z"
    },
    "papermill": {
     "duration": 0.084983,
     "end_time": "2020-11-27T05:15:40.615924",
     "exception": false,
     "start_time": "2020-11-27T05:15:40.530941",
     "status": "completed"
    },
    "tags": []
   },
   "outputs": [
    {
     "data": {
      "text/html": [
       "<div>\n",
       "<style scoped>\n",
       "    .dataframe tbody tr th:only-of-type {\n",
       "        vertical-align: middle;\n",
       "    }\n",
       "\n",
       "    .dataframe tbody tr th {\n",
       "        vertical-align: top;\n",
       "    }\n",
       "\n",
       "    .dataframe thead th {\n",
       "        text-align: right;\n",
       "    }\n",
       "</style>\n",
       "<table border=\"1\" class=\"dataframe\">\n",
       "  <thead>\n",
       "    <tr style=\"text-align: right;\">\n",
       "      <th></th>\n",
       "      <th>children_count</th>\n",
       "      <th>reject_count</th>\n",
       "      <th>approved_count</th>\n",
       "      <th>reject_rate</th>\n",
       "    </tr>\n",
       "  </thead>\n",
       "  <tbody>\n",
       "    <tr>\n",
       "      <th>0</th>\n",
       "      <td>6819</td>\n",
       "      <td>138</td>\n",
       "      <td>6681</td>\n",
       "      <td>0.020238</td>\n",
       "    </tr>\n",
       "    <tr>\n",
       "      <th>1</th>\n",
       "      <td>1886</td>\n",
       "      <td>42</td>\n",
       "      <td>1844</td>\n",
       "      <td>0.022269</td>\n",
       "    </tr>\n",
       "    <tr>\n",
       "      <th>2</th>\n",
       "      <td>852</td>\n",
       "      <td>20</td>\n",
       "      <td>832</td>\n",
       "      <td>0.023474</td>\n",
       "    </tr>\n",
       "    <tr>\n",
       "      <th>3</th>\n",
       "      <td>152</td>\n",
       "      <td>6</td>\n",
       "      <td>146</td>\n",
       "      <td>0.039474</td>\n",
       "    </tr>\n",
       "  </tbody>\n",
       "</table>\n",
       "</div>"
      ],
      "text/plain": [
       "   children_count  reject_count  approved_count  reject_rate\n",
       "0            6819           138            6681     0.020238\n",
       "1            1886            42            1844     0.022269\n",
       "2             852            20             832     0.023474\n",
       "3             152             6             146     0.039474"
      ]
     },
     "execution_count": 12,
     "metadata": {},
     "output_type": "execute_result"
    }
   ],
   "source": [
    "children_count_4 = [children_count[0], children_count[1], children_count[2], children_count[3:].sum()]\n",
    "children_count_4_reject = [len(df[df.children_count==0][df.Reject==1]),\n",
    "                           len(df[df.children_count==1][df.Reject==1]),\n",
    "                           len(df[df.children_count==2][df.Reject==1]),\n",
    "                           len(df[df.children_count>=3][df.Reject==1])]\n",
    "\n",
    "children_count_df = pd.DataFrame.from_dict({'children_count':children_count_4, 'reject_count':children_count_4_reject})\n",
    "children_count_df['approved_count'] = children_count_df.children_count - children_count_df.reject_count\n",
    "children_count_df['reject_rate'] = children_count_df.reject_count/children_count_df.children_count\n",
    "children_count_df"
   ]
  },
  {
   "cell_type": "markdown",
   "metadata": {
    "papermill": {
     "duration": 0.050197,
     "end_time": "2020-11-27T05:15:40.716921",
     "exception": false,
     "start_time": "2020-11-27T05:15:40.666724",
     "status": "completed"
    },
    "tags": []
   },
   "source": [
    "#### 2.2.2 Count_family_members"
   ]
  },
  {
   "cell_type": "code",
   "execution_count": 13,
   "metadata": {
    "execution": {
     "iopub.execute_input": "2020-11-27T05:15:40.826638Z",
     "iopub.status.busy": "2020-11-27T05:15:40.825795Z",
     "iopub.status.idle": "2020-11-27T05:15:41.050571Z",
     "shell.execute_reply": "2020-11-27T05:15:41.049793Z"
    },
    "papermill": {
     "duration": 0.283318,
     "end_time": "2020-11-27T05:15:41.050698",
     "exception": false,
     "start_time": "2020-11-27T05:15:40.767380",
     "status": "completed"
    },
    "tags": []
   },
   "outputs": [
    {
     "data": {
      "image/png": "[encoded data removed]",
      "text/plain": [
       "<Figure size 432x288 with 1 Axes>"
      ]
     },
     "metadata": {
      "needs_background": "light"
     },
     "output_type": "display_data"
    }
   ],
   "source": [
    "sns.countplot(x=\"Count_family_members\", data=df, palette=\"Greens_d\")\n",
    "family_members_count = df.Count_family_members.apply(int).value_counts().sort_index()\n",
    "for a,b in zip(range(len(family_members_count)), family_members_count):\n",
    "    plt.text(a, b+50, '%.0f' % b, ha='center', va= 'bottom',fontsize=14)\n",
    "plt.show()"
   ]
  },
  {
   "cell_type": "code",
   "execution_count": 14,
   "metadata": {
    "execution": {
     "iopub.execute_input": "2020-11-27T05:15:41.166715Z",
     "iopub.status.busy": "2020-11-27T05:15:41.165976Z",
     "iopub.status.idle": "2020-11-27T05:15:41.190199Z",
     "shell.execute_reply": "2020-11-27T05:15:41.189587Z"
    },
    "papermill": {
     "duration": 0.087766,
     "end_time": "2020-11-27T05:15:41.190328",
     "exception": false,
     "start_time": "2020-11-27T05:15:41.102562",
     "status": "completed"
    },
    "tags": []
   },
   "outputs": [
    {
     "data": {
      "text/html": [
       "<div>\n",
       "<style scoped>\n",
       "    .dataframe tbody tr th:only-of-type {\n",
       "        vertical-align: middle;\n",
       "    }\n",
       "\n",
       "    .dataframe tbody tr th {\n",
       "        vertical-align: top;\n",
       "    }\n",
       "\n",
       "    .dataframe thead th {\n",
       "        text-align: right;\n",
       "    }\n",
       "</style>\n",
       "<table border=\"1\" class=\"dataframe\">\n",
       "  <thead>\n",
       "    <tr style=\"text-align: right;\">\n",
       "      <th></th>\n",
       "      <th>family_members_count</th>\n",
       "      <th>reject_count</th>\n",
       "      <th>approved_count</th>\n",
       "      <th>reject_rate</th>\n",
       "    </tr>\n",
       "  </thead>\n",
       "  <tbody>\n",
       "    <tr>\n",
       "      <th>0</th>\n",
       "      <td>1947</td>\n",
       "      <td>47</td>\n",
       "      <td>1900</td>\n",
       "      <td>0.024140</td>\n",
       "    </tr>\n",
       "    <tr>\n",
       "      <th>1</th>\n",
       "      <td>5183</td>\n",
       "      <td>104</td>\n",
       "      <td>5079</td>\n",
       "      <td>0.020066</td>\n",
       "    </tr>\n",
       "    <tr>\n",
       "      <th>2</th>\n",
       "      <td>1635</td>\n",
       "      <td>34</td>\n",
       "      <td>1601</td>\n",
       "      <td>0.020795</td>\n",
       "    </tr>\n",
       "    <tr>\n",
       "      <th>3</th>\n",
       "      <td>142</td>\n",
       "      <td>21</td>\n",
       "      <td>121</td>\n",
       "      <td>0.147887</td>\n",
       "    </tr>\n",
       "  </tbody>\n",
       "</table>\n",
       "</div>"
      ],
      "text/plain": [
       "   family_members_count  reject_count  approved_count  reject_rate\n",
       "0                  1947            47            1900     0.024140\n",
       "1                  5183           104            5079     0.020066\n",
       "2                  1635            34            1601     0.020795\n",
       "3                   142            21             121     0.147887"
      ]
     },
     "execution_count": 14,
     "metadata": {},
     "output_type": "execute_result"
    }
   ],
   "source": [
    "family_members_4 = [family_members_count[1], family_members_count[2], family_members_count[3], family_members_count[4:].sum()]\n",
    "family_members_4_reject = [len(df[df.Count_family_members==1.0][df.Reject==1]),\n",
    "                           len(df[df.Count_family_members==2.0][df.Reject==1]),\n",
    "                           len(df[df.Count_family_members==3.0][df.Reject==1]),\n",
    "                           len(df[df.Count_family_members>=4.0][df.Reject==1])]\n",
    "\n",
    "family_members_count_df = pd.DataFrame.from_dict({'family_members_count':family_members_4, 'reject_count':family_members_4_reject})\n",
    "family_members_count_df['approved_count'] = family_members_count_df.family_members_count - family_members_count_df.reject_count\n",
    "family_members_count_df['reject_rate'] = family_members_count_df.reject_count/family_members_count_df.family_members_count\n",
    "family_members_count_df"
   ]
  },
  {
   "cell_type": "markdown",
   "metadata": {
    "papermill": {
     "duration": 0.051887,
     "end_time": "2020-11-27T05:15:41.294454",
     "exception": false,
     "start_time": "2020-11-27T05:15:41.242567",
     "status": "completed"
    },
    "tags": []
   },
   "source": [
    "From the chart above, Reject rate of applicants with 1, 2 or 3 family members are similar. More children usually means more family members, so the conclusion seems similar."
   ]
  },
  {
   "cell_type": "code",
   "execution_count": 15,
   "metadata": {
    "execution": {
     "iopub.execute_input": "2020-11-27T05:15:41.417393Z",
     "iopub.status.busy": "2020-11-27T05:15:41.415032Z",
     "iopub.status.idle": "2020-11-27T05:15:41.554447Z",
     "shell.execute_reply": "2020-11-27T05:15:41.553776Z"
    },
    "papermill": {
     "duration": 0.208082,
     "end_time": "2020-11-27T05:15:41.554579",
     "exception": false,
     "start_time": "2020-11-27T05:15:41.346497",
     "status": "completed"
    },
    "tags": []
   },
   "outputs": [
    {
     "data": {
      "image/png": "[encoded data removed]",
      "text/plain": [
       "<Figure size 432x288 with 1 Axes>"
      ]
     },
     "metadata": {
      "needs_background": "light"
     },
     "output_type": "display_data"
    }
   ],
   "source": [
    "fig = plt.figure()\n",
    "ax = fig.add_subplot(111)\n",
    "gp=df.groupby(by=['children_count','Count_family_members'])\n",
    "gp_df = gp.size().reset_index(name='times').sort_values('times', ascending=False)[:6]\n",
    "gp_df['times_10'] = gp_df['times'].apply(lambda x: x/10)\n",
    "ax.scatter(gp_df['children_count'], gp_df['Count_family_members'], s=gp_df['times_10'])\n",
    "plt.xticks(range(4))\n",
    "plt.yticks(range(6))\n",
    "plt.xlabel('children_count')\n",
    "plt.ylabel('Count_family_members')\n",
    "plt.show()"
   ]
  },
  {
   "cell_type": "code",
   "execution_count": 16,
   "metadata": {
    "execution": {
     "iopub.execute_input": "2020-11-27T05:15:41.669955Z",
     "iopub.status.busy": "2020-11-27T05:15:41.668846Z",
     "iopub.status.idle": "2020-11-27T05:15:41.684721Z",
     "shell.execute_reply": "2020-11-27T05:15:41.683972Z"
    },
    "papermill": {
     "duration": 0.076849,
     "end_time": "2020-11-27T05:15:41.684867",
     "exception": false,
     "start_time": "2020-11-27T05:15:41.608018",
     "status": "completed"
    },
    "tags": []
   },
   "outputs": [
    {
     "data": {
      "text/html": [
       "<div>\n",
       "<style scoped>\n",
       "    .dataframe tbody tr th:only-of-type {\n",
       "        vertical-align: middle;\n",
       "    }\n",
       "\n",
       "    .dataframe tbody tr th {\n",
       "        vertical-align: top;\n",
       "    }\n",
       "\n",
       "    .dataframe thead th {\n",
       "        text-align: right;\n",
       "    }\n",
       "</style>\n",
       "<table border=\"1\" class=\"dataframe\">\n",
       "  <thead>\n",
       "    <tr style=\"text-align: right;\">\n",
       "      <th></th>\n",
       "      <th>children_count</th>\n",
       "      <th>Count_family_members</th>\n",
       "      <th>times</th>\n",
       "    </tr>\n",
       "  </thead>\n",
       "  <tbody>\n",
       "    <tr>\n",
       "      <th>1</th>\n",
       "      <td>0</td>\n",
       "      <td>2.0</td>\n",
       "      <td>4880</td>\n",
       "    </tr>\n",
       "    <tr>\n",
       "      <th>0</th>\n",
       "      <td>0</td>\n",
       "      <td>1.0</td>\n",
       "      <td>1939</td>\n",
       "    </tr>\n",
       "    <tr>\n",
       "      <th>4</th>\n",
       "      <td>1</td>\n",
       "      <td>3.0</td>\n",
       "      <td>1577</td>\n",
       "    </tr>\n",
       "    <tr>\n",
       "      <th>7</th>\n",
       "      <td>2</td>\n",
       "      <td>4.0</td>\n",
       "      <td>792</td>\n",
       "    </tr>\n",
       "    <tr>\n",
       "      <th>3</th>\n",
       "      <td>1</td>\n",
       "      <td>2.0</td>\n",
       "      <td>303</td>\n",
       "    </tr>\n",
       "    <tr>\n",
       "      <th>9</th>\n",
       "      <td>3</td>\n",
       "      <td>5.0</td>\n",
       "      <td>116</td>\n",
       "    </tr>\n",
       "  </tbody>\n",
       "</table>\n",
       "</div>"
      ],
      "text/plain": [
       "   children_count  Count_family_members  times\n",
       "1               0                   2.0   4880\n",
       "0               0                   1.0   1939\n",
       "4               1                   3.0   1577\n",
       "7               2                   4.0    792\n",
       "3               1                   2.0    303\n",
       "9               3                   5.0    116"
      ]
     },
     "execution_count": 16,
     "metadata": {},
     "output_type": "execute_result"
    }
   ],
   "source": [
    "gp=df.groupby(by=['children_count','Count_family_members'])\n",
    "gp_df = gp.size().reset_index(name='times').sort_values('times', ascending=False)[:6]\n",
    "\n",
    "gp_df"
   ]
  },
  {
   "cell_type": "markdown",
   "metadata": {
    "papermill": {
     "duration": 0.053906,
     "end_time": "2020-11-27T05:15:41.793613",
     "exception": false,
     "start_time": "2020-11-27T05:15:41.739707",
     "status": "completed"
    },
    "tags": []
   },
   "source": [
    "#### 2.2.3 income_amount\n",
    "The following figures are a **histogram** and **Box diagram**"
   ]
  },
  {
   "cell_type": "code",
   "execution_count": 17,
   "metadata": {
    "execution": {
     "iopub.execute_input": "2020-11-27T05:15:41.914268Z",
     "iopub.status.busy": "2020-11-27T05:15:41.913362Z",
     "iopub.status.idle": "2020-11-27T05:15:42.311784Z",
     "shell.execute_reply": "2020-11-27T05:15:42.311023Z"
    },
    "papermill": {
     "duration": 0.464299,
     "end_time": "2020-11-27T05:15:42.311929",
     "exception": false,
     "start_time": "2020-11-27T05:15:41.847630",
     "status": "completed"
    },
    "tags": []
   },
   "outputs": [
    {
     "data": {
      "image/png": "[encoded data removed]",
      "text/plain": [
       "<Figure size 432x288 with 1 Axes>"
      ]
     },
     "metadata": {
      "needs_background": "light"
     },
     "output_type": "display_data"
    }
   ],
   "source": [
    "income_plot = pd.Series(df.income_amount, name=\"income\")\n",
    "plt.ylabel('Reject_rate')\n",
    "sns.distplot(income_plot)\n",
    "plt.show()"
   ]
  },
  {
   "cell_type": "markdown",
   "metadata": {
    "papermill": {
     "duration": 0.055883,
     "end_time": "2020-11-27T05:15:42.423085",
     "exception": false,
     "start_time": "2020-11-27T05:15:42.367202",
     "status": "completed"
    },
    "tags": []
   },
   "source": [
    "We can notice that most applicants' income is lower than 40000. So we select these applicants to get box plot."
   ]
  },
  {
   "cell_type": "code",
   "execution_count": 18,
   "metadata": {
    "execution": {
     "iopub.execute_input": "2020-11-27T05:15:42.543195Z",
     "iopub.status.busy": "2020-11-27T05:15:42.542395Z",
     "iopub.status.idle": "2020-11-27T05:15:42.722972Z",
     "shell.execute_reply": "2020-11-27T05:15:42.721646Z"
    },
    "papermill": {
     "duration": 0.244674,
     "end_time": "2020-11-27T05:15:42.723191",
     "exception": false,
     "start_time": "2020-11-27T05:15:42.478517",
     "status": "completed"
    },
    "tags": []
   },
   "outputs": [
    {
     "data": {
      "image/png": "[encoded data removed]",
      "text/plain": [
       "<Figure size 432x288 with 1 Axes>"
      ]
     },
     "metadata": {
      "needs_background": "light"
     },
     "output_type": "display_data"
    }
   ],
   "source": [
    "sns.boxplot(x=\"Reject\", y=\"income_amount\", data=df[df.income_amount<=400000])\n",
    "plt.show()"
   ]
  },
  {
   "cell_type": "markdown",
   "metadata": {
    "papermill": {
     "duration": 0.065412,
     "end_time": "2020-11-27T05:15:42.864715",
     "exception": false,
     "start_time": "2020-11-27T05:15:42.799303",
     "status": "completed"
    },
    "tags": []
   },
   "source": [
    "#### 2.2.4 Days_birth\n",
    "We firstly transform the days from birth into years, and get the **histogram** and **Box diagram**."
   ]
  },
  {
   "cell_type": "code",
   "execution_count": 19,
   "metadata": {
    "execution": {
     "iopub.execute_input": "2020-11-27T05:15:43.019515Z",
     "iopub.status.busy": "2020-11-27T05:15:43.012727Z",
     "iopub.status.idle": "2020-11-27T05:15:43.272521Z",
     "shell.execute_reply": "2020-11-27T05:15:43.273410Z"
    },
    "papermill": {
     "duration": 0.345859,
     "end_time": "2020-11-27T05:15:43.273620",
     "exception": false,
     "start_time": "2020-11-27T05:15:42.927761",
     "status": "completed"
    },
    "tags": []
   },
   "outputs": [
    {
     "data": {
      "image/png": "[encoded data removed]",
      "text/plain": [
       "<Figure size 432x288 with 1 Axes>"
      ]
     },
     "metadata": {
      "needs_background": "light"
     },
     "output_type": "display_data"
    }
   ],
   "source": [
    "age_series = df.Days_birth.apply(lambda x: int(-x / 365.25))\n",
    "plt.ylabel('Reject_rate')\n",
    "age_plot = pd.Series(age_series, name=\"age\")\n",
    "sns.distplot(age_plot)\n",
    "plt.show()"
   ]
  },
  {
   "cell_type": "code",
   "execution_count": 20,
   "metadata": {
    "execution": {
     "iopub.execute_input": "2020-11-27T05:15:43.402373Z",
     "iopub.status.busy": "2020-11-27T05:15:43.401225Z",
     "iopub.status.idle": "2020-11-27T05:15:43.581940Z",
     "shell.execute_reply": "2020-11-27T05:15:43.581128Z"
    },
    "papermill": {
     "duration": 0.245546,
     "end_time": "2020-11-27T05:15:43.582073",
     "exception": false,
     "start_time": "2020-11-27T05:15:43.336527",
     "status": "completed"
    },
    "tags": []
   },
   "outputs": [
    {
     "data": {
      "image/png": "[encoded data removed]",
      "text/plain": [
       "<Figure size 432x288 with 1 Axes>"
      ]
     },
     "metadata": {
      "needs_background": "light"
     },
     "output_type": "display_data"
    }
   ],
   "source": [
    "sns.boxplot(x=\"Reject\", y=\"Days_birth\", data=df)\n",
    "plt.show()"
   ]
  },
  {
   "cell_type": "markdown",
   "metadata": {
    "papermill": {
     "duration": 0.058972,
     "end_time": "2020-11-27T05:15:43.700161",
     "exception": false,
     "start_time": "2020-11-27T05:15:43.641189",
     "status": "completed"
    },
    "tags": []
   },
   "source": [
    "#### 2.2.5 Days_employed\n",
    "\n",
    "There are error values in this column. We will drop them first and get the employed year of each applicants"
   ]
  },
  {
   "cell_type": "code",
   "execution_count": 21,
   "metadata": {
    "execution": {
     "iopub.execute_input": "2020-11-27T05:15:43.827825Z",
     "iopub.status.busy": "2020-11-27T05:15:43.826698Z",
     "iopub.status.idle": "2020-11-27T05:15:44.142782Z",
     "shell.execute_reply": "2020-11-27T05:15:44.142055Z"
    },
    "papermill": {
     "duration": 0.384301,
     "end_time": "2020-11-27T05:15:44.142925",
     "exception": false,
     "start_time": "2020-11-27T05:15:43.758624",
     "status": "completed"
    },
    "tags": []
   },
   "outputs": [
    {
     "data": {
      "image/png": "[encoded data removed]",
      "text/plain": [
       "<Figure size 432x288 with 1 Axes>"
      ]
     },
     "metadata": {
      "needs_background": "light"
     },
     "output_type": "display_data"
    }
   ],
   "source": [
    "employed_year_series = df[df.Days_employed<0].Days_employed.apply(lambda x: int(-x // 365.25))\n",
    "plt.ylabel('Reject_rate')\n",
    "employed_year_plot = pd.Series(employed_year_series, name=\"employed_year\")\n",
    "sns.distplot(employed_year_plot)\n",
    "plt.show()"
   ]
  },
  {
   "cell_type": "code",
   "execution_count": 22,
   "metadata": {
    "execution": {
     "iopub.execute_input": "2020-11-27T05:15:44.269565Z",
     "iopub.status.busy": "2020-11-27T05:15:44.268721Z",
     "iopub.status.idle": "2020-11-27T05:15:44.454291Z",
     "shell.execute_reply": "2020-11-27T05:15:44.453453Z"
    },
    "papermill": {
     "duration": 0.251523,
     "end_time": "2020-11-27T05:15:44.454429",
     "exception": false,
     "start_time": "2020-11-27T05:15:44.202906",
     "status": "completed"
    },
    "tags": []
   },
   "outputs": [
    {
     "data": {
      "image/png": "[encoded data removed]",
      "text/plain": [
       "<Figure size 432x288 with 1 Axes>"
      ]
     },
     "metadata": {
      "needs_background": "light"
     },
     "output_type": "display_data"
    }
   ],
   "source": [
    "sns.boxplot(x=\"Reject\", y=\"Days_employed\", data=df[df.Days_employed<0])\n",
    "plt.show()"
   ]
  },
  {
   "cell_type": "markdown",
   "metadata": {
    "papermill": {
     "duration": 0.059875,
     "end_time": "2020-11-27T05:15:44.581551",
     "exception": false,
     "start_time": "2020-11-27T05:15:44.521676",
     "status": "completed"
    },
    "tags": []
   },
   "source": [
    "### 2.3 EDA for digital features\n",
    "We are going to develop the relation between `Reject` with `age` and `income` or `employed years` and `income`."
   ]
  },
  {
   "cell_type": "code",
   "execution_count": 23,
   "metadata": {
    "execution": {
     "iopub.execute_input": "2020-11-27T05:15:44.754916Z",
     "iopub.status.busy": "2020-11-27T05:15:44.721657Z",
     "iopub.status.idle": "2020-11-27T05:15:45.928381Z",
     "shell.execute_reply": "2020-11-27T05:15:45.927634Z"
    },
    "papermill": {
     "duration": 1.286417,
     "end_time": "2020-11-27T05:15:45.928506",
     "exception": false,
     "start_time": "2020-11-27T05:15:44.642089",
     "status": "completed"
    },
    "tags": []
   },
   "outputs": [
    {
     "data": {
      "image/png": "[encoded data removed]",
      "text/plain": [
       "<Figure size 432x288 with 1 Axes>"
      ]
     },
     "metadata": {
      "needs_background": "light"
     },
     "output_type": "display_data"
    },
    {
     "data": {
      "image/png": "[encoded data removed]",
      "text/plain": [
       "<Figure size 432x288 with 1 Axes>"
      ]
     },
     "metadata": {
      "needs_background": "light"
     },
     "output_type": "display_data"
    }
   ],
   "source": [
    "new_df= df\n",
    "new_df['income_5000'] = df.Days_birth.apply(lambda x: int(-x / 365.25 /5) *5)\n",
    "new_df['age_5'] = df.Days_birth.apply(lambda x: int(-x / 365.25 /5) *5)\n",
    "new_df['employed_year_5'] = df.Days_employed.apply(lambda x: int(-x / 365.25 /5) *5)\n",
    "plot_fig = plt.figure()\n",
    "aei_plot = sns.boxplot(x=\"age_5\", y=\"income_amount\", hue='Reject', data=df[df.income_amount<=400000])\n",
    "plt.show()\n",
    "aei_plot = sns.boxplot(x=\"employed_year_5\", y=\"income_amount\", hue='Reject', data=df[df.income_amount<=400000])\n",
    "plt.show()"
   ]
  },
  {
   "cell_type": "markdown",
   "metadata": {
    "papermill": {
     "duration": 0.064096,
     "end_time": "2020-11-27T05:15:46.056092",
     "exception": false,
     "start_time": "2020-11-27T05:15:45.991996",
     "status": "completed"
    },
    "tags": []
   },
   "source": [
    "As figures above, we can know that in terms of age and income rejected applicants are not quite different from approved applicants through the combination of five-number summary in boxplot. However, in terms of age and employed year, applicants with more than 20 years of service are more likely not to be rejected."
   ]
  },
  {
   "cell_type": "markdown",
   "metadata": {
    "papermill": {
     "duration": 0.063253,
     "end_time": "2020-11-27T05:15:46.182559",
     "exception": false,
     "start_time": "2020-11-27T05:15:46.119306",
     "status": "completed"
    },
    "tags": []
   },
   "source": [
    "Then I am going to generate a barplot to show the relation between reject rate and age_income or employed_year_income."
   ]
  },
  {
   "cell_type": "code",
   "execution_count": 24,
   "metadata": {
    "execution": {
     "iopub.execute_input": "2020-11-27T05:15:46.326886Z",
     "iopub.status.busy": "2020-11-27T05:15:46.323198Z",
     "iopub.status.idle": "2020-11-27T05:15:46.675567Z",
     "shell.execute_reply": "2020-11-27T05:15:46.674698Z"
    },
    "papermill": {
     "duration": 0.43014,
     "end_time": "2020-11-27T05:15:46.675704",
     "exception": false,
     "start_time": "2020-11-27T05:15:46.245564",
     "status": "completed"
    },
    "tags": []
   },
   "outputs": [
    {
     "data": {
      "image/png": "[encoded data removed]",
      "text/plain": [
       "<Figure size 432x288 with 1 Axes>"
      ]
     },
     "metadata": {
      "needs_background": "light"
     },
     "output_type": "display_data"
    }
   ],
   "source": [
    "# remove outliers and error rows \n",
    "new_df = df[df.income_amount<=400000][df.Days_employed<0]\n",
    "\n",
    "# transform days to month\n",
    "new_df['age_month'] = df.Days_birth.apply(lambda x: int(-x / 30.417))\n",
    "new_df['employed_month'] = df.Days_employed.apply(lambda x: int(-x / 30.417))\n",
    "\n",
    "# seperate age_month, employed_month, and income\n",
    "quantile_new_df = new_df[['age_month', 'employed_month', 'income_amount']].quantile([0, 0.25, 0.5, 0.75, 1])\n",
    "new_df['cut_age'] = pd.cut(new_df['age_month'],bins=quantile_new_df.age_month, right=False, labels=[1, 2, 3, 4])\n",
    "new_df['cut_employed_month'] = pd.cut(new_df['employed_month'],bins=quantile_new_df.employed_month, right=False, labels=[1, 2, 3, 4])\n",
    "new_df['cut_income_amount'] = pd.cut(new_df['income_amount'],bins=quantile_new_df.income_amount, right=False, labels=[1, 2, 3, 4])\n",
    "\n",
    "# group the new_df by age and income\n",
    "gp_age_income_reject = new_df[new_df.Reject==1].groupby(by=['cut_age','cut_income_amount']).size().reset_index(name='reject_times')\n",
    "gp_age_income_total = new_df.groupby(by=['cut_age','cut_income_amount']).size().reset_index(name='times')\n",
    "gp_age_income_reject_rate = pd.merge(gp_age_income_total, gp_age_income_reject, how='outer', on=['cut_age','cut_income_amount'])\n",
    "gp_age_income_reject_rate['reject_rate'] = gp_age_income_reject_rate.reject_times/gp_age_income_reject_rate.times\n",
    "sns.barplot(x=\"cut_age\", y=\"reject_rate\", hue=\"cut_income_amount\", data=gp_age_income_reject_rate)\n",
    "plt.show()"
   ]
  },
  {
   "cell_type": "markdown",
   "metadata": {
    "papermill": {
     "duration": 0.064087,
     "end_time": "2020-11-27T05:15:46.811725",
     "exception": false,
     "start_time": "2020-11-27T05:15:46.747638",
     "status": "completed"
    },
    "tags": []
   },
   "source": [
    "From the figure above, we can know that the older applicants with a lower income is more likely to be rejected during credit card approval. In contrast, the older applicants with a higher income will be approved."
   ]
  },
  {
   "cell_type": "code",
   "execution_count": 25,
   "metadata": {
    "execution": {
     "iopub.execute_input": "2020-11-27T05:15:46.959520Z",
     "iopub.status.busy": "2020-11-27T05:15:46.958757Z",
     "iopub.status.idle": "2020-11-27T05:15:47.369981Z",
     "shell.execute_reply": "2020-11-27T05:15:47.370568Z"
    },
    "papermill": {
     "duration": 0.494243,
     "end_time": "2020-11-27T05:15:47.370745",
     "exception": false,
     "start_time": "2020-11-27T05:15:46.876502",
     "status": "completed"
    },
    "tags": []
   },
   "outputs": [
    {
     "data": {
      "image/png": "[encoded data removed]",
      "text/plain": [
       "<Figure size 432x288 with 1 Axes>"
      ]
     },
     "metadata": {
      "needs_background": "light"
     },
     "output_type": "display_data"
    }
   ],
   "source": [
    "# group the dataset through cut_employed_year and income.\n",
    "gp_employed_income_reject = new_df[new_df.Reject==1].groupby(by=['cut_employed_month','cut_income_amount']).size().reset_index(name='reject_times')\n",
    "gp_employed_income_total = new_df.groupby(by=['cut_employed_month','cut_income_amount']).size().reset_index(name='times')\n",
    "gp_employed_income_reject_rate = pd.merge(gp_employed_income_total, gp_employed_income_reject, how='outer', on=['cut_employed_month','cut_income_amount'])\n",
    "gp_employed_income_reject_rate['reject_rate'] = gp_employed_income_reject_rate.reject_times/gp_employed_income_reject_rate.times\n",
    "sns.barplot(x=\"cut_employed_month\", y=\"reject_rate\", hue=\"cut_income_amount\", data=gp_employed_income_reject_rate)\n",
    "plt.show()"
   ]
  },
  {
   "cell_type": "markdown",
   "metadata": {
    "papermill": {
     "duration": 0.08726,
     "end_time": "2020-11-27T05:15:47.532566",
     "exception": false,
     "start_time": "2020-11-27T05:15:47.445306",
     "status": "completed"
    },
    "tags": []
   },
   "source": [
    "From the figure above, we can know that the applicants with a lower income and higher employed years is more likely not to be rejected."
   ]
  },
  {
   "cell_type": "markdown",
   "metadata": {
    "papermill": {
     "duration": 0.064656,
     "end_time": "2020-11-27T05:15:47.678341",
     "exception": false,
     "start_time": "2020-11-27T05:15:47.613685",
     "status": "completed"
    },
    "tags": []
   },
   "source": [
    "### 2.3 class features\n",
    "\n",
    "There are five type of class features: `income_type`, `education_type`,`Family_status`,`Housing_type`,`Occupation_type`."
   ]
  },
  {
   "cell_type": "markdown",
   "metadata": {
    "papermill": {
     "duration": 0.064643,
     "end_time": "2020-11-27T05:15:47.810572",
     "exception": false,
     "start_time": "2020-11-27T05:15:47.745929",
     "status": "completed"
    },
    "tags": []
   },
   "source": [
    "#### 2.3.1 income_type"
   ]
  },
  {
   "cell_type": "code",
   "execution_count": 26,
   "metadata": {
    "execution": {
     "iopub.execute_input": "2020-11-27T05:15:48.005483Z",
     "iopub.status.busy": "2020-11-27T05:15:48.004166Z",
     "iopub.status.idle": "2020-11-27T05:15:48.206027Z",
     "shell.execute_reply": "2020-11-27T05:15:48.205166Z"
    },
    "papermill": {
     "duration": 0.330677,
     "end_time": "2020-11-27T05:15:48.206169",
     "exception": false,
     "start_time": "2020-11-27T05:15:47.875492",
     "status": "completed"
    },
    "tags": []
   },
   "outputs": [
    {
     "data": {
      "image/png": "[encoded data removed]",
      "text/plain": [
       "<Figure size 432x288 with 1 Axes>"
      ]
     },
     "metadata": {
      "needs_background": "light"
     },
     "output_type": "display_data"
    },
    {
     "data": {
      "text/html": [
       "<div>\n",
       "<style scoped>\n",
       "    .dataframe tbody tr th:only-of-type {\n",
       "        vertical-align: middle;\n",
       "    }\n",
       "\n",
       "    .dataframe tbody tr th {\n",
       "        vertical-align: top;\n",
       "    }\n",
       "\n",
       "    .dataframe thead th {\n",
       "        text-align: right;\n",
       "    }\n",
       "</style>\n",
       "<table border=\"1\" class=\"dataframe\">\n",
       "  <thead>\n",
       "    <tr style=\"text-align: right;\">\n",
       "      <th></th>\n",
       "      <th>income_type</th>\n",
       "      <th>times</th>\n",
       "      <th>reject_times</th>\n",
       "      <th>reject_rate</th>\n",
       "    </tr>\n",
       "  </thead>\n",
       "  <tbody>\n",
       "    <tr>\n",
       "      <th>0</th>\n",
       "      <td>Commercial associate</td>\n",
       "      <td>2312</td>\n",
       "      <td>38.0</td>\n",
       "      <td>0.016436</td>\n",
       "    </tr>\n",
       "    <tr>\n",
       "      <th>1</th>\n",
       "      <td>Pensioner</td>\n",
       "      <td>1712</td>\n",
       "      <td>67.0</td>\n",
       "      <td>0.039136</td>\n",
       "    </tr>\n",
       "    <tr>\n",
       "      <th>2</th>\n",
       "      <td>State servant</td>\n",
       "      <td>722</td>\n",
       "      <td>10.0</td>\n",
       "      <td>0.013850</td>\n",
       "    </tr>\n",
       "    <tr>\n",
       "      <th>3</th>\n",
       "      <td>Student</td>\n",
       "      <td>3</td>\n",
       "      <td>0.0</td>\n",
       "      <td>0.000000</td>\n",
       "    </tr>\n",
       "    <tr>\n",
       "      <th>4</th>\n",
       "      <td>Working</td>\n",
       "      <td>4960</td>\n",
       "      <td>91.0</td>\n",
       "      <td>0.018347</td>\n",
       "    </tr>\n",
       "  </tbody>\n",
       "</table>\n",
       "</div>"
      ],
      "text/plain": [
       "            income_type  times  reject_times  reject_rate\n",
       "0  Commercial associate   2312          38.0     0.016436\n",
       "1             Pensioner   1712          67.0     0.039136\n",
       "2         State servant    722          10.0     0.013850\n",
       "3               Student      3           0.0     0.000000\n",
       "4               Working   4960          91.0     0.018347"
      ]
     },
     "execution_count": 26,
     "metadata": {},
     "output_type": "execute_result"
    }
   ],
   "source": [
    "gp_total=df.groupby(by=['income_type']).size().reset_index(name='times')\n",
    "gp_reject = df[df.Reject==1].groupby(by=['income_type']).size().reset_index(name='reject_times')\n",
    "gp_reject_rate = pd.merge(gp_total, gp_reject, how='outer', on=['income_type']).fillna(0)\n",
    "gp_reject_rate['reject_rate'] = gp_reject_rate.reject_times / gp_reject_rate.times\n",
    "sns.barplot(x=\"income_type\", y=\"reject_rate\", data=gp_reject_rate)\n",
    "plt.show()\n",
    "gp_reject_rate"
   ]
  },
  {
   "cell_type": "markdown",
   "metadata": {
    "papermill": {
     "duration": 0.066706,
     "end_time": "2020-11-27T05:15:48.341393",
     "exception": false,
     "start_time": "2020-11-27T05:15:48.274687",
     "status": "completed"
    },
    "tags": []
   },
   "source": [
    "#### 2.3.2 education_type"
   ]
  },
  {
   "cell_type": "code",
   "execution_count": 27,
   "metadata": {
    "execution": {
     "iopub.execute_input": "2020-11-27T05:15:48.487225Z",
     "iopub.status.busy": "2020-11-27T05:15:48.486439Z",
     "iopub.status.idle": "2020-11-27T05:15:48.674258Z",
     "shell.execute_reply": "2020-11-27T05:15:48.673491Z"
    },
    "papermill": {
     "duration": 0.26591,
     "end_time": "2020-11-27T05:15:48.674385",
     "exception": false,
     "start_time": "2020-11-27T05:15:48.408475",
     "status": "completed"
    },
    "tags": []
   },
   "outputs": [
    {
     "data": {
      "image/png": "[encoded data removed]",
      "text/plain": [
       "<Figure size 432x288 with 1 Axes>"
      ]
     },
     "metadata": {
      "needs_background": "light"
     },
     "output_type": "display_data"
    },
    {
     "data": {
      "text/html": [
       "<div>\n",
       "<style scoped>\n",
       "    .dataframe tbody tr th:only-of-type {\n",
       "        vertical-align: middle;\n",
       "    }\n",
       "\n",
       "    .dataframe tbody tr th {\n",
       "        vertical-align: top;\n",
       "    }\n",
       "\n",
       "    .dataframe thead th {\n",
       "        text-align: right;\n",
       "    }\n",
       "</style>\n",
       "<table border=\"1\" class=\"dataframe\">\n",
       "  <thead>\n",
       "    <tr style=\"text-align: right;\">\n",
       "      <th></th>\n",
       "      <th>education_type</th>\n",
       "      <th>times</th>\n",
       "      <th>reject_times</th>\n",
       "      <th>reject_rate</th>\n",
       "    </tr>\n",
       "  </thead>\n",
       "  <tbody>\n",
       "    <tr>\n",
       "      <th>0</th>\n",
       "      <td>Academic degree</td>\n",
       "      <td>6</td>\n",
       "      <td>0.0</td>\n",
       "      <td>0.000000</td>\n",
       "    </tr>\n",
       "    <tr>\n",
       "      <th>1</th>\n",
       "      <td>Higher education</td>\n",
       "      <td>2457</td>\n",
       "      <td>53.0</td>\n",
       "      <td>0.021571</td>\n",
       "    </tr>\n",
       "    <tr>\n",
       "      <th>2</th>\n",
       "      <td>Incomplete higher</td>\n",
       "      <td>371</td>\n",
       "      <td>7.0</td>\n",
       "      <td>0.018868</td>\n",
       "    </tr>\n",
       "    <tr>\n",
       "      <th>3</th>\n",
       "      <td>Lower secondary</td>\n",
       "      <td>114</td>\n",
       "      <td>5.0</td>\n",
       "      <td>0.043860</td>\n",
       "    </tr>\n",
       "    <tr>\n",
       "      <th>4</th>\n",
       "      <td>Secondary / secondary special</td>\n",
       "      <td>6761</td>\n",
       "      <td>141.0</td>\n",
       "      <td>0.020855</td>\n",
       "    </tr>\n",
       "  </tbody>\n",
       "</table>\n",
       "</div>"
      ],
      "text/plain": [
       "                  education_type  times  reject_times  reject_rate\n",
       "0                Academic degree      6           0.0     0.000000\n",
       "1               Higher education   2457          53.0     0.021571\n",
       "2              Incomplete higher    371           7.0     0.018868\n",
       "3                Lower secondary    114           5.0     0.043860\n",
       "4  Secondary / secondary special   6761         141.0     0.020855"
      ]
     },
     "execution_count": 27,
     "metadata": {},
     "output_type": "execute_result"
    }
   ],
   "source": [
    "gp_total=df.groupby(by=['education_type']).size().reset_index(name='times')\n",
    "gp_reject = df[df.Reject==1].groupby(by=['education_type']).size().reset_index(name='reject_times')\n",
    "gp_reject_rate = pd.merge(gp_total, gp_reject, how='outer', on=['education_type']).fillna(0)\n",
    "gp_reject_rate['reject_rate'] = gp_reject_rate.reject_times / gp_reject_rate.times\n",
    "sns.barplot(x=\"education_type\", y=\"reject_rate\", data=gp_reject_rate)\n",
    "plt.show()\n",
    "gp_reject_rate"
   ]
  },
  {
   "cell_type": "markdown",
   "metadata": {
    "papermill": {
     "duration": 0.068244,
     "end_time": "2020-11-27T05:15:48.813406",
     "exception": false,
     "start_time": "2020-11-27T05:15:48.745162",
     "status": "completed"
    },
    "tags": []
   },
   "source": [
    "#### 2.3.3 Family_status"
   ]
  },
  {
   "cell_type": "code",
   "execution_count": 28,
   "metadata": {
    "execution": {
     "iopub.execute_input": "2020-11-27T05:15:48.965969Z",
     "iopub.status.busy": "2020-11-27T05:15:48.965076Z",
     "iopub.status.idle": "2020-11-27T05:15:49.168446Z",
     "shell.execute_reply": "2020-11-27T05:15:49.167808Z"
    },
    "papermill": {
     "duration": 0.286223,
     "end_time": "2020-11-27T05:15:49.168576",
     "exception": false,
     "start_time": "2020-11-27T05:15:48.882353",
     "status": "completed"
    },
    "tags": []
   },
   "outputs": [
    {
     "data": {
      "image/png": "[encoded data removed]",
      "text/plain": [
       "<Figure size 432x288 with 1 Axes>"
      ]
     },
     "metadata": {
      "needs_background": "light"
     },
     "output_type": "display_data"
    },
    {
     "data": {
      "text/html": [
       "<div>\n",
       "<style scoped>\n",
       "    .dataframe tbody tr th:only-of-type {\n",
       "        vertical-align: middle;\n",
       "    }\n",
       "\n",
       "    .dataframe tbody tr th {\n",
       "        vertical-align: top;\n",
       "    }\n",
       "\n",
       "    .dataframe thead th {\n",
       "        text-align: right;\n",
       "    }\n",
       "</style>\n",
       "<table border=\"1\" class=\"dataframe\">\n",
       "  <thead>\n",
       "    <tr style=\"text-align: right;\">\n",
       "      <th></th>\n",
       "      <th>Family_status</th>\n",
       "      <th>times</th>\n",
       "      <th>reject_times</th>\n",
       "      <th>reject_rate</th>\n",
       "    </tr>\n",
       "  </thead>\n",
       "  <tbody>\n",
       "    <tr>\n",
       "      <th>0</th>\n",
       "      <td>Civil marriage</td>\n",
       "      <td>836</td>\n",
       "      <td>12</td>\n",
       "      <td>0.014354</td>\n",
       "    </tr>\n",
       "    <tr>\n",
       "      <th>1</th>\n",
       "      <td>Married</td>\n",
       "      <td>6530</td>\n",
       "      <td>118</td>\n",
       "      <td>0.018070</td>\n",
       "    </tr>\n",
       "    <tr>\n",
       "      <th>2</th>\n",
       "      <td>Separated</td>\n",
       "      <td>574</td>\n",
       "      <td>13</td>\n",
       "      <td>0.022648</td>\n",
       "    </tr>\n",
       "    <tr>\n",
       "      <th>3</th>\n",
       "      <td>Single / not married</td>\n",
       "      <td>1359</td>\n",
       "      <td>51</td>\n",
       "      <td>0.037528</td>\n",
       "    </tr>\n",
       "    <tr>\n",
       "      <th>4</th>\n",
       "      <td>Widow</td>\n",
       "      <td>410</td>\n",
       "      <td>12</td>\n",
       "      <td>0.029268</td>\n",
       "    </tr>\n",
       "  </tbody>\n",
       "</table>\n",
       "</div>"
      ],
      "text/plain": [
       "          Family_status  times  reject_times  reject_rate\n",
       "0        Civil marriage    836            12     0.014354\n",
       "1               Married   6530           118     0.018070\n",
       "2             Separated    574            13     0.022648\n",
       "3  Single / not married   1359            51     0.037528\n",
       "4                 Widow    410            12     0.029268"
      ]
     },
     "execution_count": 28,
     "metadata": {},
     "output_type": "execute_result"
    }
   ],
   "source": [
    "gp_total=df.groupby(by=['Family_status']).size().reset_index(name='times')\n",
    "gp_reject = df[df.Reject==1].groupby(by=['Family_status']).size().reset_index(name='reject_times')\n",
    "gp_reject_rate = pd.merge(gp_total, gp_reject, how='outer', on=['Family_status']).fillna(0)\n",
    "gp_reject_rate['reject_rate'] = gp_reject_rate.reject_times / gp_reject_rate.times\n",
    "sns.barplot(x=\"Family_status\", y=\"reject_rate\", data=gp_reject_rate)\n",
    "plt.show()\n",
    "gp_reject_rate"
   ]
  },
  {
   "cell_type": "markdown",
   "metadata": {
    "papermill": {
     "duration": 0.069913,
     "end_time": "2020-11-27T05:15:49.309028",
     "exception": false,
     "start_time": "2020-11-27T05:15:49.239115",
     "status": "completed"
    },
    "tags": []
   },
   "source": [
    "#### 2.3.4 Housing_type"
   ]
  },
  {
   "cell_type": "code",
   "execution_count": 29,
   "metadata": {
    "execution": {
     "iopub.execute_input": "2020-11-27T05:15:49.460074Z",
     "iopub.status.busy": "2020-11-27T05:15:49.459299Z",
     "iopub.status.idle": "2020-11-27T05:15:49.655526Z",
     "shell.execute_reply": "2020-11-27T05:15:49.654743Z"
    },
    "papermill": {
     "duration": 0.276871,
     "end_time": "2020-11-27T05:15:49.655652",
     "exception": false,
     "start_time": "2020-11-27T05:15:49.378781",
     "status": "completed"
    },
    "tags": []
   },
   "outputs": [
    {
     "data": {
      "image/png": "[encoded data removed]",
      "text/plain": [
       "<Figure size 432x288 with 1 Axes>"
      ]
     },
     "metadata": {
      "needs_background": "light"
     },
     "output_type": "display_data"
    },
    {
     "data": {
      "text/html": [
       "<div>\n",
       "<style scoped>\n",
       "    .dataframe tbody tr th:only-of-type {\n",
       "        vertical-align: middle;\n",
       "    }\n",
       "\n",
       "    .dataframe tbody tr th {\n",
       "        vertical-align: top;\n",
       "    }\n",
       "\n",
       "    .dataframe thead th {\n",
       "        text-align: right;\n",
       "    }\n",
       "</style>\n",
       "<table border=\"1\" class=\"dataframe\">\n",
       "  <thead>\n",
       "    <tr style=\"text-align: right;\">\n",
       "      <th></th>\n",
       "      <th>Housing_type</th>\n",
       "      <th>times</th>\n",
       "      <th>reject_times</th>\n",
       "      <th>reject_rate</th>\n",
       "    </tr>\n",
       "  </thead>\n",
       "  <tbody>\n",
       "    <tr>\n",
       "      <th>0</th>\n",
       "      <td>Co-op apartment</td>\n",
       "      <td>34</td>\n",
       "      <td>0.0</td>\n",
       "      <td>0.000000</td>\n",
       "    </tr>\n",
       "    <tr>\n",
       "      <th>1</th>\n",
       "      <td>House / apartment</td>\n",
       "      <td>8684</td>\n",
       "      <td>179.0</td>\n",
       "      <td>0.020613</td>\n",
       "    </tr>\n",
       "    <tr>\n",
       "      <th>2</th>\n",
       "      <td>Municipal apartment</td>\n",
       "      <td>323</td>\n",
       "      <td>14.0</td>\n",
       "      <td>0.043344</td>\n",
       "    </tr>\n",
       "    <tr>\n",
       "      <th>3</th>\n",
       "      <td>Office apartment</td>\n",
       "      <td>76</td>\n",
       "      <td>1.0</td>\n",
       "      <td>0.013158</td>\n",
       "    </tr>\n",
       "    <tr>\n",
       "      <th>4</th>\n",
       "      <td>Rented apartment</td>\n",
       "      <td>144</td>\n",
       "      <td>3.0</td>\n",
       "      <td>0.020833</td>\n",
       "    </tr>\n",
       "    <tr>\n",
       "      <th>5</th>\n",
       "      <td>With parents</td>\n",
       "      <td>448</td>\n",
       "      <td>9.0</td>\n",
       "      <td>0.020089</td>\n",
       "    </tr>\n",
       "  </tbody>\n",
       "</table>\n",
       "</div>"
      ],
      "text/plain": [
       "          Housing_type  times  reject_times  reject_rate\n",
       "0      Co-op apartment     34           0.0     0.000000\n",
       "1    House / apartment   8684         179.0     0.020613\n",
       "2  Municipal apartment    323          14.0     0.043344\n",
       "3     Office apartment     76           1.0     0.013158\n",
       "4     Rented apartment    144           3.0     0.020833\n",
       "5         With parents    448           9.0     0.020089"
      ]
     },
     "execution_count": 29,
     "metadata": {},
     "output_type": "execute_result"
    }
   ],
   "source": [
    "gp_total=df.groupby(by=['Housing_type']).size().reset_index(name='times')\n",
    "gp_reject = df[df.Reject==1].groupby(by=['Housing_type']).size().reset_index(name='reject_times')\n",
    "gp_reject_rate = pd.merge(gp_total, gp_reject, how='outer', on=['Housing_type']).fillna(0)\n",
    "gp_reject_rate['reject_rate'] = gp_reject_rate.reject_times / gp_reject_rate.times\n",
    "sns.barplot(x=\"Housing_type\", y=\"reject_rate\", data=gp_reject_rate)\n",
    "plt.show()\n",
    "gp_reject_rate"
   ]
  },
  {
   "cell_type": "markdown",
   "metadata": {
    "papermill": {
     "duration": 0.076716,
     "end_time": "2020-11-27T05:15:49.809672",
     "exception": false,
     "start_time": "2020-11-27T05:15:49.732956",
     "status": "completed"
    },
    "tags": []
   },
   "source": [
    "#### 2.3.5 Occupation_type"
   ]
  },
  {
   "cell_type": "code",
   "execution_count": 30,
   "metadata": {
    "execution": {
     "iopub.execute_input": "2020-11-27T05:15:49.976467Z",
     "iopub.status.busy": "2020-11-27T05:15:49.967072Z",
     "iopub.status.idle": "2020-11-27T05:15:50.292104Z",
     "shell.execute_reply": "2020-11-27T05:15:50.291482Z"
    },
    "papermill": {
     "duration": 0.410816,
     "end_time": "2020-11-27T05:15:50.292239",
     "exception": false,
     "start_time": "2020-11-27T05:15:49.881423",
     "status": "completed"
    },
    "tags": []
   },
   "outputs": [
    {
     "data": {
      "image/png": "[encoded data removed]",
      "text/plain": [
       "<Figure size 432x288 with 1 Axes>"
      ]
     },
     "metadata": {
      "needs_background": "light"
     },
     "output_type": "display_data"
    },
    {
     "data": {
      "text/html": [
       "<div>\n",
       "<style scoped>\n",
       "    .dataframe tbody tr th:only-of-type {\n",
       "        vertical-align: middle;\n",
       "    }\n",
       "\n",
       "    .dataframe tbody tr th {\n",
       "        vertical-align: top;\n",
       "    }\n",
       "\n",
       "    .dataframe thead th {\n",
       "        text-align: right;\n",
       "    }\n",
       "</style>\n",
       "<table border=\"1\" class=\"dataframe\">\n",
       "  <thead>\n",
       "    <tr style=\"text-align: right;\">\n",
       "      <th></th>\n",
       "      <th>Occupation_type</th>\n",
       "      <th>times</th>\n",
       "      <th>reject_times</th>\n",
       "      <th>reject_rate</th>\n",
       "    </tr>\n",
       "  </thead>\n",
       "  <tbody>\n",
       "    <tr>\n",
       "      <th>15</th>\n",
       "      <td>Secretaries</td>\n",
       "      <td>46</td>\n",
       "      <td>0.0</td>\n",
       "      <td>0.000000</td>\n",
       "    </tr>\n",
       "    <tr>\n",
       "      <th>13</th>\n",
       "      <td>Realty agents</td>\n",
       "      <td>16</td>\n",
       "      <td>0.0</td>\n",
       "      <td>0.000000</td>\n",
       "    </tr>\n",
       "    <tr>\n",
       "      <th>5</th>\n",
       "      <td>HR staff</td>\n",
       "      <td>22</td>\n",
       "      <td>0.0</td>\n",
       "      <td>0.000000</td>\n",
       "    </tr>\n",
       "    <tr>\n",
       "      <th>7</th>\n",
       "      <td>IT staff</td>\n",
       "      <td>18</td>\n",
       "      <td>0.0</td>\n",
       "      <td>0.000000</td>\n",
       "    </tr>\n",
       "    <tr>\n",
       "      <th>11</th>\n",
       "      <td>Medicine staff</td>\n",
       "      <td>291</td>\n",
       "      <td>2.0</td>\n",
       "      <td>0.006873</td>\n",
       "    </tr>\n",
       "    <tr>\n",
       "      <th>12</th>\n",
       "      <td>Private service staff</td>\n",
       "      <td>86</td>\n",
       "      <td>1.0</td>\n",
       "      <td>0.011628</td>\n",
       "    </tr>\n",
       "    <tr>\n",
       "      <th>14</th>\n",
       "      <td>Sales staff</td>\n",
       "      <td>959</td>\n",
       "      <td>12.0</td>\n",
       "      <td>0.012513</td>\n",
       "    </tr>\n",
       "    <tr>\n",
       "      <th>16</th>\n",
       "      <td>Security staff</td>\n",
       "      <td>182</td>\n",
       "      <td>3.0</td>\n",
       "      <td>0.016484</td>\n",
       "    </tr>\n",
       "    <tr>\n",
       "      <th>10</th>\n",
       "      <td>Managers</td>\n",
       "      <td>782</td>\n",
       "      <td>13.0</td>\n",
       "      <td>0.016624</td>\n",
       "    </tr>\n",
       "    <tr>\n",
       "      <th>8</th>\n",
       "      <td>Laborers</td>\n",
       "      <td>1724</td>\n",
       "      <td>30.0</td>\n",
       "      <td>0.017401</td>\n",
       "    </tr>\n",
       "    <tr>\n",
       "      <th>0</th>\n",
       "      <td>Accountants</td>\n",
       "      <td>300</td>\n",
       "      <td>6.0</td>\n",
       "      <td>0.020000</td>\n",
       "    </tr>\n",
       "    <tr>\n",
       "      <th>1</th>\n",
       "      <td>Cleaning staff</td>\n",
       "      <td>146</td>\n",
       "      <td>3.0</td>\n",
       "      <td>0.020548</td>\n",
       "    </tr>\n",
       "    <tr>\n",
       "      <th>2</th>\n",
       "      <td>Cooking staff</td>\n",
       "      <td>193</td>\n",
       "      <td>4.0</td>\n",
       "      <td>0.020725</td>\n",
       "    </tr>\n",
       "    <tr>\n",
       "      <th>17</th>\n",
       "      <td>Waiters/barmen staff</td>\n",
       "      <td>40</td>\n",
       "      <td>1.0</td>\n",
       "      <td>0.025000</td>\n",
       "    </tr>\n",
       "    <tr>\n",
       "      <th>6</th>\n",
       "      <td>High skill tech staff</td>\n",
       "      <td>357</td>\n",
       "      <td>9.0</td>\n",
       "      <td>0.025210</td>\n",
       "    </tr>\n",
       "    <tr>\n",
       "      <th>4</th>\n",
       "      <td>Drivers</td>\n",
       "      <td>623</td>\n",
       "      <td>16.0</td>\n",
       "      <td>0.025682</td>\n",
       "    </tr>\n",
       "    <tr>\n",
       "      <th>3</th>\n",
       "      <td>Core staff</td>\n",
       "      <td>877</td>\n",
       "      <td>29.0</td>\n",
       "      <td>0.033067</td>\n",
       "    </tr>\n",
       "    <tr>\n",
       "      <th>9</th>\n",
       "      <td>Low-skill Laborers</td>\n",
       "      <td>53</td>\n",
       "      <td>3.0</td>\n",
       "      <td>0.056604</td>\n",
       "    </tr>\n",
       "  </tbody>\n",
       "</table>\n",
       "</div>"
      ],
      "text/plain": [
       "          Occupation_type  times  reject_times  reject_rate\n",
       "15            Secretaries     46           0.0     0.000000\n",
       "13          Realty agents     16           0.0     0.000000\n",
       "5                HR staff     22           0.0     0.000000\n",
       "7                IT staff     18           0.0     0.000000\n",
       "11         Medicine staff    291           2.0     0.006873\n",
       "12  Private service staff     86           1.0     0.011628\n",
       "14            Sales staff    959          12.0     0.012513\n",
       "16         Security staff    182           3.0     0.016484\n",
       "10               Managers    782          13.0     0.016624\n",
       "8                Laborers   1724          30.0     0.017401\n",
       "0             Accountants    300           6.0     0.020000\n",
       "1          Cleaning staff    146           3.0     0.020548\n",
       "2           Cooking staff    193           4.0     0.020725\n",
       "17   Waiters/barmen staff     40           1.0     0.025000\n",
       "6   High skill tech staff    357           9.0     0.025210\n",
       "4                 Drivers    623          16.0     0.025682\n",
       "3              Core staff    877          29.0     0.033067\n",
       "9      Low-skill Laborers     53           3.0     0.056604"
      ]
     },
     "execution_count": 30,
     "metadata": {},
     "output_type": "execute_result"
    }
   ],
   "source": [
    "gp_total=df.groupby(by=['Occupation_type']).size().reset_index(name='times')\n",
    "gp_reject = df[df.Reject==1].groupby(by=['Occupation_type']).size().reset_index(name='reject_times')\n",
    "gp_reject_rate = pd.merge(gp_total, gp_reject, how='outer', on=['Occupation_type']).fillna(0)\n",
    "gp_reject_rate['reject_rate'] = gp_reject_rate.reject_times / gp_reject_rate.times\n",
    "sns.barplot(x=\"Occupation_type\", y=\"reject_rate\", data=gp_reject_rate)\n",
    "plt.show()\n",
    "gp_reject_rate.sort_values('reject_rate')"
   ]
  },
  {
   "cell_type": "code",
   "execution_count": null,
   "metadata": {
    "papermill": {
     "duration": 0.073394,
     "end_time": "2020-11-27T05:15:50.439184",
     "exception": false,
     "start_time": "2020-11-27T05:15:50.365790",
     "status": "completed"
    },
    "tags": []
   },
   "outputs": [],
   "source": []
  },
  {
   "cell_type": "code",
   "execution_count": null,
   "metadata": {
    "papermill": {
     "duration": 0.073547,
     "end_time": "2020-11-27T05:15:50.587371",
     "exception": false,
     "start_time": "2020-11-27T05:15:50.513824",
     "status": "completed"
    },
    "tags": []
   },
   "outputs": [],
   "source": []
  },
  {
   "cell_type": "code",
   "execution_count": null,
   "metadata": {
    "papermill": {
     "duration": 0.073999,
     "end_time": "2020-11-27T05:15:50.734805",
     "exception": false,
     "start_time": "2020-11-27T05:15:50.660806",
     "status": "completed"
    },
    "tags": []
   },
   "outputs": [],
   "source": []
  },
  {
   "cell_type": "code",
   "execution_count": null,
   "metadata": {
    "papermill": {
     "duration": 0.072884,
     "end_time": "2020-11-27T05:15:50.880803",
     "exception": false,
     "start_time": "2020-11-27T05:15:50.807919",
     "status": "completed"
    },
    "tags": []
   },
   "outputs": [],
   "source": []
  },
  {
   "cell_type": "code",
   "execution_count": null,
   "metadata": {
    "papermill": {
     "duration": 0.073808,
     "end_time": "2020-11-27T05:15:51.029083",
     "exception": false,
     "start_time": "2020-11-27T05:15:50.955275",
     "status": "completed"
    },
    "tags": []
   },
   "outputs": [],
   "source": []
  }
 ],
 "metadata": {
  "kernelspec": {
   "display_name": "Python 3",
   "language": "python",
   "name": "python3"
  },
  "language_info": {
   "codemirror_mode": {
    "name": "ipython",
    "version": 3
   },
   "file_extension": ".py",
   "mimetype": "text/x-python",
   "name": "python",
   "nbconvert_exporter": "python",
   "pygments_lexer": "ipython3",
   "version": "3.7.4"
  },
  "papermill": {
   "duration": 22.899049,
   "end_time": "2020-11-27T05:15:51.211341",
   "environment_variables": {},
   "exception": null,
   "input_path": "__notebook__.ipynb",
   "output_path": "__notebook__.ipynb",
   "parameters": {},
   "start_time": "2020-11-27T05:15:28.312292",
   "version": "2.1.0"
  }
 },
 "nbformat": 4,
 "nbformat_minor": 4
}
