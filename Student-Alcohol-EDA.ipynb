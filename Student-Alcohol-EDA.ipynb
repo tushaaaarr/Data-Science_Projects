{
 "cells": [
  {
   "cell_type": "markdown",
   "metadata": {
    "execution": {
     "iopub.execute_input": "2020-12-21T21:07:23.818318Z",
     "iopub.status.busy": "2020-12-21T21:07:23.817117Z",
     "iopub.status.idle": "2020-12-21T21:07:25.187434Z",
     "shell.execute_reply": "2020-12-21T21:07:25.186634Z"
    },
    "papermill": {
     "duration": 1.455616,
     "end_time": "2020-12-21T21:07:25.187587",
     "exception": false,
     "start_time": "2020-12-21T21:07:23.731971",
     "status": "completed"
    },
    "tags": []
   },
   "source": [
    "# Project:-Student Alcohol prediction and EDA"
   ]
  },
  {
   "cell_type": "code",
   "execution_count": 20,
   "metadata": {},
   "outputs": [],
   "source": [
    "import pandas as pd\n",
    "import numpy as np\n",
    "import matplotlib.pyplot as plt\n",
    "import seaborn as sns\n",
    "%matplotlib inline"
   ]
  },
  {
   "cell_type": "code",
   "execution_count": null,
   "metadata": {},
   "outputs": [],
   "source": []
  },
  {
   "cell_type": "code",
   "execution_count": 2,
   "metadata": {
    "execution": {
     "iopub.execute_input": "2020-12-21T21:07:25.319781Z",
     "iopub.status.busy": "2020-12-21T21:07:25.318949Z",
     "iopub.status.idle": "2020-12-21T21:07:25.363112Z",
     "shell.execute_reply": "2020-12-21T21:07:25.363611Z"
    },
    "papermill": {
     "duration": 0.115779,
     "end_time": "2020-12-21T21:07:25.363885",
     "exception": false,
     "start_time": "2020-12-21T21:07:25.248106",
     "status": "completed"
    },
    "tags": []
   },
   "outputs": [],
   "source": [
    "math = pd.read_csv('student-mat.csv')\n",
    "por = pd.read_csv(\"student-por.csv\")"
   ]
  },
  {
   "cell_type": "code",
   "execution_count": 4,
   "metadata": {
    "execution": {
     "iopub.execute_input": "2020-12-21T21:07:25.636191Z",
     "iopub.status.busy": "2020-12-21T21:07:25.635445Z",
     "iopub.status.idle": "2020-12-21T21:07:25.659593Z",
     "shell.execute_reply": "2020-12-21T21:07:25.658873Z"
    },
    "papermill": {
     "duration": 0.115593,
     "end_time": "2020-12-21T21:07:25.659716",
     "exception": false,
     "start_time": "2020-12-21T21:07:25.544123",
     "status": "completed"
    },
    "tags": []
   },
   "outputs": [
    {
     "data": {
      "text/html": [
       "<div>\n",
       "<style scoped>\n",
       "    .dataframe tbody tr th:only-of-type {\n",
       "        vertical-align: middle;\n",
       "    }\n",
       "\n",
       "    .dataframe tbody tr th {\n",
       "        vertical-align: top;\n",
       "    }\n",
       "\n",
       "    .dataframe thead th {\n",
       "        text-align: right;\n",
       "    }\n",
       "</style>\n",
       "<table border=\"1\" class=\"dataframe\">\n",
       "  <thead>\n",
       "    <tr style=\"text-align: right;\">\n",
       "      <th></th>\n",
       "      <th>school</th>\n",
       "      <th>sex</th>\n",
       "      <th>age</th>\n",
       "      <th>address</th>\n",
       "      <th>famsize</th>\n",
       "      <th>Pstatus</th>\n",
       "      <th>Medu</th>\n",
       "      <th>Fedu</th>\n",
       "      <th>Mjob</th>\n",
       "      <th>Fjob</th>\n",
       "      <th>...</th>\n",
       "      <th>famrel</th>\n",
       "      <th>freetime</th>\n",
       "      <th>goout</th>\n",
       "      <th>Dalc</th>\n",
       "      <th>Walc</th>\n",
       "      <th>health</th>\n",
       "      <th>absences</th>\n",
       "      <th>G1</th>\n",
       "      <th>G2</th>\n",
       "      <th>G3</th>\n",
       "    </tr>\n",
       "  </thead>\n",
       "  <tbody>\n",
       "    <tr>\n",
       "      <th>0</th>\n",
       "      <td>GP</td>\n",
       "      <td>F</td>\n",
       "      <td>18</td>\n",
       "      <td>U</td>\n",
       "      <td>GT3</td>\n",
       "      <td>A</td>\n",
       "      <td>4</td>\n",
       "      <td>4</td>\n",
       "      <td>at_home</td>\n",
       "      <td>teacher</td>\n",
       "      <td>...</td>\n",
       "      <td>4</td>\n",
       "      <td>3</td>\n",
       "      <td>4</td>\n",
       "      <td>1</td>\n",
       "      <td>1</td>\n",
       "      <td>3</td>\n",
       "      <td>6</td>\n",
       "      <td>5</td>\n",
       "      <td>6</td>\n",
       "      <td>6</td>\n",
       "    </tr>\n",
       "    <tr>\n",
       "      <th>1</th>\n",
       "      <td>GP</td>\n",
       "      <td>F</td>\n",
       "      <td>17</td>\n",
       "      <td>U</td>\n",
       "      <td>GT3</td>\n",
       "      <td>T</td>\n",
       "      <td>1</td>\n",
       "      <td>1</td>\n",
       "      <td>at_home</td>\n",
       "      <td>other</td>\n",
       "      <td>...</td>\n",
       "      <td>5</td>\n",
       "      <td>3</td>\n",
       "      <td>3</td>\n",
       "      <td>1</td>\n",
       "      <td>1</td>\n",
       "      <td>3</td>\n",
       "      <td>4</td>\n",
       "      <td>5</td>\n",
       "      <td>5</td>\n",
       "      <td>6</td>\n",
       "    </tr>\n",
       "    <tr>\n",
       "      <th>2</th>\n",
       "      <td>GP</td>\n",
       "      <td>F</td>\n",
       "      <td>15</td>\n",
       "      <td>U</td>\n",
       "      <td>LE3</td>\n",
       "      <td>T</td>\n",
       "      <td>1</td>\n",
       "      <td>1</td>\n",
       "      <td>at_home</td>\n",
       "      <td>other</td>\n",
       "      <td>...</td>\n",
       "      <td>4</td>\n",
       "      <td>3</td>\n",
       "      <td>2</td>\n",
       "      <td>2</td>\n",
       "      <td>3</td>\n",
       "      <td>3</td>\n",
       "      <td>10</td>\n",
       "      <td>7</td>\n",
       "      <td>8</td>\n",
       "      <td>10</td>\n",
       "    </tr>\n",
       "    <tr>\n",
       "      <th>3</th>\n",
       "      <td>GP</td>\n",
       "      <td>F</td>\n",
       "      <td>15</td>\n",
       "      <td>U</td>\n",
       "      <td>GT3</td>\n",
       "      <td>T</td>\n",
       "      <td>4</td>\n",
       "      <td>2</td>\n",
       "      <td>health</td>\n",
       "      <td>services</td>\n",
       "      <td>...</td>\n",
       "      <td>3</td>\n",
       "      <td>2</td>\n",
       "      <td>2</td>\n",
       "      <td>1</td>\n",
       "      <td>1</td>\n",
       "      <td>5</td>\n",
       "      <td>2</td>\n",
       "      <td>15</td>\n",
       "      <td>14</td>\n",
       "      <td>15</td>\n",
       "    </tr>\n",
       "    <tr>\n",
       "      <th>4</th>\n",
       "      <td>GP</td>\n",
       "      <td>F</td>\n",
       "      <td>16</td>\n",
       "      <td>U</td>\n",
       "      <td>GT3</td>\n",
       "      <td>T</td>\n",
       "      <td>3</td>\n",
       "      <td>3</td>\n",
       "      <td>other</td>\n",
       "      <td>other</td>\n",
       "      <td>...</td>\n",
       "      <td>4</td>\n",
       "      <td>3</td>\n",
       "      <td>2</td>\n",
       "      <td>1</td>\n",
       "      <td>2</td>\n",
       "      <td>5</td>\n",
       "      <td>4</td>\n",
       "      <td>6</td>\n",
       "      <td>10</td>\n",
       "      <td>10</td>\n",
       "    </tr>\n",
       "  </tbody>\n",
       "</table>\n",
       "<p>5 rows × 33 columns</p>\n",
       "</div>"
      ],
      "text/plain": [
       "  school sex  age address famsize Pstatus  Medu  Fedu     Mjob      Fjob  ...  \\\n",
       "0     GP   F   18       U     GT3       A     4     4  at_home   teacher  ...   \n",
       "1     GP   F   17       U     GT3       T     1     1  at_home     other  ...   \n",
       "2     GP   F   15       U     LE3       T     1     1  at_home     other  ...   \n",
       "3     GP   F   15       U     GT3       T     4     2   health  services  ...   \n",
       "4     GP   F   16       U     GT3       T     3     3    other     other  ...   \n",
       "\n",
       "  famrel freetime  goout  Dalc  Walc health absences  G1  G2  G3  \n",
       "0      4        3      4     1     1      3        6   5   6   6  \n",
       "1      5        3      3     1     1      3        4   5   5   6  \n",
       "2      4        3      2     2     3      3       10   7   8  10  \n",
       "3      3        2      2     1     1      5        2  15  14  15  \n",
       "4      4        3      2     1     2      5        4   6  10  10  \n",
       "\n",
       "[5 rows x 33 columns]"
      ]
     },
     "execution_count": 4,
     "metadata": {},
     "output_type": "execute_result"
    }
   ],
   "source": [
    "math.head(5)"
   ]
  },
  {
   "cell_type": "code",
   "execution_count": 5,
   "metadata": {
    "execution": {
     "iopub.execute_input": "2020-12-21T21:07:25.794106Z",
     "iopub.status.busy": "2020-12-21T21:07:25.793416Z",
     "iopub.status.idle": "2020-12-21T21:07:25.797949Z",
     "shell.execute_reply": "2020-12-21T21:07:25.797396Z"
    },
    "papermill": {
     "duration": 0.076806,
     "end_time": "2020-12-21T21:07:25.798075",
     "exception": false,
     "start_time": "2020-12-21T21:07:25.721269",
     "status": "completed"
    },
    "tags": []
   },
   "outputs": [
    {
     "data": {
      "text/plain": [
       "395"
      ]
     },
     "execution_count": 5,
     "metadata": {},
     "output_type": "execute_result"
    }
   ],
   "source": [
    "len(math)"
   ]
  },
  {
   "cell_type": "code",
   "execution_count": 6,
   "metadata": {
    "execution": {
     "iopub.execute_input": "2020-12-21T21:07:25.946299Z",
     "iopub.status.busy": "2020-12-21T21:07:25.935614Z",
     "iopub.status.idle": "2020-12-21T21:07:25.950866Z",
     "shell.execute_reply": "2020-12-21T21:07:25.950215Z"
    },
    "papermill": {
     "duration": 0.091314,
     "end_time": "2020-12-21T21:07:25.950992",
     "exception": false,
     "start_time": "2020-12-21T21:07:25.859678",
     "status": "completed"
    },
    "tags": []
   },
   "outputs": [
    {
     "data": {
      "text/html": [
       "<div>\n",
       "<style scoped>\n",
       "    .dataframe tbody tr th:only-of-type {\n",
       "        vertical-align: middle;\n",
       "    }\n",
       "\n",
       "    .dataframe tbody tr th {\n",
       "        vertical-align: top;\n",
       "    }\n",
       "\n",
       "    .dataframe thead th {\n",
       "        text-align: right;\n",
       "    }\n",
       "</style>\n",
       "<table border=\"1\" class=\"dataframe\">\n",
       "  <thead>\n",
       "    <tr style=\"text-align: right;\">\n",
       "      <th></th>\n",
       "      <th>school</th>\n",
       "      <th>sex</th>\n",
       "      <th>age</th>\n",
       "      <th>address</th>\n",
       "      <th>famsize</th>\n",
       "      <th>Pstatus</th>\n",
       "      <th>Medu</th>\n",
       "      <th>Fedu</th>\n",
       "      <th>Mjob</th>\n",
       "      <th>Fjob</th>\n",
       "      <th>...</th>\n",
       "      <th>famrel</th>\n",
       "      <th>freetime</th>\n",
       "      <th>goout</th>\n",
       "      <th>Dalc</th>\n",
       "      <th>Walc</th>\n",
       "      <th>health</th>\n",
       "      <th>absences</th>\n",
       "      <th>G1</th>\n",
       "      <th>G2</th>\n",
       "      <th>G3</th>\n",
       "    </tr>\n",
       "  </thead>\n",
       "  <tbody>\n",
       "    <tr>\n",
       "      <th>0</th>\n",
       "      <td>GP</td>\n",
       "      <td>F</td>\n",
       "      <td>18</td>\n",
       "      <td>U</td>\n",
       "      <td>GT3</td>\n",
       "      <td>A</td>\n",
       "      <td>4</td>\n",
       "      <td>4</td>\n",
       "      <td>at_home</td>\n",
       "      <td>teacher</td>\n",
       "      <td>...</td>\n",
       "      <td>4</td>\n",
       "      <td>3</td>\n",
       "      <td>4</td>\n",
       "      <td>1</td>\n",
       "      <td>1</td>\n",
       "      <td>3</td>\n",
       "      <td>4</td>\n",
       "      <td>0</td>\n",
       "      <td>11</td>\n",
       "      <td>11</td>\n",
       "    </tr>\n",
       "    <tr>\n",
       "      <th>1</th>\n",
       "      <td>GP</td>\n",
       "      <td>F</td>\n",
       "      <td>17</td>\n",
       "      <td>U</td>\n",
       "      <td>GT3</td>\n",
       "      <td>T</td>\n",
       "      <td>1</td>\n",
       "      <td>1</td>\n",
       "      <td>at_home</td>\n",
       "      <td>other</td>\n",
       "      <td>...</td>\n",
       "      <td>5</td>\n",
       "      <td>3</td>\n",
       "      <td>3</td>\n",
       "      <td>1</td>\n",
       "      <td>1</td>\n",
       "      <td>3</td>\n",
       "      <td>2</td>\n",
       "      <td>9</td>\n",
       "      <td>11</td>\n",
       "      <td>11</td>\n",
       "    </tr>\n",
       "    <tr>\n",
       "      <th>2</th>\n",
       "      <td>GP</td>\n",
       "      <td>F</td>\n",
       "      <td>15</td>\n",
       "      <td>U</td>\n",
       "      <td>LE3</td>\n",
       "      <td>T</td>\n",
       "      <td>1</td>\n",
       "      <td>1</td>\n",
       "      <td>at_home</td>\n",
       "      <td>other</td>\n",
       "      <td>...</td>\n",
       "      <td>4</td>\n",
       "      <td>3</td>\n",
       "      <td>2</td>\n",
       "      <td>2</td>\n",
       "      <td>3</td>\n",
       "      <td>3</td>\n",
       "      <td>6</td>\n",
       "      <td>12</td>\n",
       "      <td>13</td>\n",
       "      <td>12</td>\n",
       "    </tr>\n",
       "    <tr>\n",
       "      <th>3</th>\n",
       "      <td>GP</td>\n",
       "      <td>F</td>\n",
       "      <td>15</td>\n",
       "      <td>U</td>\n",
       "      <td>GT3</td>\n",
       "      <td>T</td>\n",
       "      <td>4</td>\n",
       "      <td>2</td>\n",
       "      <td>health</td>\n",
       "      <td>services</td>\n",
       "      <td>...</td>\n",
       "      <td>3</td>\n",
       "      <td>2</td>\n",
       "      <td>2</td>\n",
       "      <td>1</td>\n",
       "      <td>1</td>\n",
       "      <td>5</td>\n",
       "      <td>0</td>\n",
       "      <td>14</td>\n",
       "      <td>14</td>\n",
       "      <td>14</td>\n",
       "    </tr>\n",
       "    <tr>\n",
       "      <th>4</th>\n",
       "      <td>GP</td>\n",
       "      <td>F</td>\n",
       "      <td>16</td>\n",
       "      <td>U</td>\n",
       "      <td>GT3</td>\n",
       "      <td>T</td>\n",
       "      <td>3</td>\n",
       "      <td>3</td>\n",
       "      <td>other</td>\n",
       "      <td>other</td>\n",
       "      <td>...</td>\n",
       "      <td>4</td>\n",
       "      <td>3</td>\n",
       "      <td>2</td>\n",
       "      <td>1</td>\n",
       "      <td>2</td>\n",
       "      <td>5</td>\n",
       "      <td>0</td>\n",
       "      <td>11</td>\n",
       "      <td>13</td>\n",
       "      <td>13</td>\n",
       "    </tr>\n",
       "  </tbody>\n",
       "</table>\n",
       "<p>5 rows × 33 columns</p>\n",
       "</div>"
      ],
      "text/plain": [
       "  school sex  age address famsize Pstatus  Medu  Fedu     Mjob      Fjob  ...  \\\n",
       "0     GP   F   18       U     GT3       A     4     4  at_home   teacher  ...   \n",
       "1     GP   F   17       U     GT3       T     1     1  at_home     other  ...   \n",
       "2     GP   F   15       U     LE3       T     1     1  at_home     other  ...   \n",
       "3     GP   F   15       U     GT3       T     4     2   health  services  ...   \n",
       "4     GP   F   16       U     GT3       T     3     3    other     other  ...   \n",
       "\n",
       "  famrel freetime  goout  Dalc  Walc health absences  G1  G2  G3  \n",
       "0      4        3      4     1     1      3        4   0  11  11  \n",
       "1      5        3      3     1     1      3        2   9  11  11  \n",
       "2      4        3      2     2     3      3        6  12  13  12  \n",
       "3      3        2      2     1     1      5        0  14  14  14  \n",
       "4      4        3      2     1     2      5        0  11  13  13  \n",
       "\n",
       "[5 rows x 33 columns]"
      ]
     },
     "execution_count": 6,
     "metadata": {},
     "output_type": "execute_result"
    }
   ],
   "source": [
    "por.head()"
   ]
  },
  {
   "cell_type": "code",
   "execution_count": 7,
   "metadata": {
    "execution": {
     "iopub.execute_input": "2020-12-21T21:07:26.087289Z",
     "iopub.status.busy": "2020-12-21T21:07:26.086237Z",
     "iopub.status.idle": "2020-12-21T21:07:26.091084Z",
     "shell.execute_reply": "2020-12-21T21:07:26.090358Z"
    },
    "papermill": {
     "duration": 0.075239,
     "end_time": "2020-12-21T21:07:26.091214",
     "exception": false,
     "start_time": "2020-12-21T21:07:26.015975",
     "status": "completed"
    },
    "tags": []
   },
   "outputs": [
    {
     "data": {
      "text/plain": [
       "649"
      ]
     },
     "execution_count": 7,
     "metadata": {},
     "output_type": "execute_result"
    }
   ],
   "source": [
    "len(por)"
   ]
  },
  {
   "cell_type": "code",
   "execution_count": 8,
   "metadata": {
    "execution": {
     "iopub.execute_input": "2020-12-21T21:07:26.229759Z",
     "iopub.status.busy": "2020-12-21T21:07:26.228535Z",
     "iopub.status.idle": "2020-12-21T21:07:26.232910Z",
     "shell.execute_reply": "2020-12-21T21:07:26.232169Z"
    },
    "papermill": {
     "duration": 0.078873,
     "end_time": "2020-12-21T21:07:26.233035",
     "exception": false,
     "start_time": "2020-12-21T21:07:26.154162",
     "status": "completed"
    },
    "tags": []
   },
   "outputs": [],
   "source": [
    "math.rename(columns={'G1':'G1_Mat', 'G2':'G2_Mat', 'G3':'G3_Mat'}, inplace=True)"
   ]
  },
  {
   "cell_type": "code",
   "execution_count": 9,
   "metadata": {
    "execution": {
     "iopub.execute_input": "2020-12-21T21:07:26.367003Z",
     "iopub.status.busy": "2020-12-21T21:07:26.365943Z",
     "iopub.status.idle": "2020-12-21T21:07:26.370034Z",
     "shell.execute_reply": "2020-12-21T21:07:26.368697Z"
    },
    "papermill": {
     "duration": 0.07303,
     "end_time": "2020-12-21T21:07:26.370166",
     "exception": false,
     "start_time": "2020-12-21T21:07:26.297136",
     "status": "completed"
    },
    "tags": []
   },
   "outputs": [],
   "source": [
    "por.rename(columns={'G1':'G1_Por', 'G2':'G2_Por', 'G3':'G3_Por'}, inplace=True)"
   ]
  },
  {
   "cell_type": "code",
   "execution_count": 10,
   "metadata": {
    "execution": {
     "iopub.execute_input": "2020-12-21T21:07:26.504533Z",
     "iopub.status.busy": "2020-12-21T21:07:26.503707Z",
     "iopub.status.idle": "2020-12-21T21:07:26.509224Z",
     "shell.execute_reply": "2020-12-21T21:07:26.508414Z"
    },
    "papermill": {
     "duration": 0.075435,
     "end_time": "2020-12-21T21:07:26.509364",
     "exception": false,
     "start_time": "2020-12-21T21:07:26.433929",
     "status": "completed"
    },
    "tags": []
   },
   "outputs": [
    {
     "data": {
      "text/plain": [
       "Index(['school', 'sex', 'age', 'address', 'famsize', 'Pstatus', 'Medu', 'Fedu',\n",
       "       'Mjob', 'Fjob', 'reason', 'guardian', 'traveltime', 'studytime',\n",
       "       'failures', 'schoolsup', 'famsup', 'paid', 'activities', 'nursery',\n",
       "       'higher', 'internet', 'romantic', 'famrel', 'freetime', 'goout', 'Dalc',\n",
       "       'Walc', 'health', 'absences', 'G1_Mat', 'G2_Mat', 'G3_Mat'],\n",
       "      dtype='object')"
      ]
     },
     "execution_count": 10,
     "metadata": {},
     "output_type": "execute_result"
    }
   ],
   "source": [
    "math.columns"
   ]
  },
  {
   "cell_type": "code",
   "execution_count": 11,
   "metadata": {
    "execution": {
     "iopub.execute_input": "2020-12-21T21:07:26.654831Z",
     "iopub.status.busy": "2020-12-21T21:07:26.653638Z",
     "iopub.status.idle": "2020-12-21T21:07:26.680816Z",
     "shell.execute_reply": "2020-12-21T21:07:26.680233Z"
    },
    "papermill": {
     "duration": 0.107904,
     "end_time": "2020-12-21T21:07:26.680950",
     "exception": false,
     "start_time": "2020-12-21T21:07:26.573046",
     "status": "completed"
    },
    "tags": []
   },
   "outputs": [],
   "source": [
    "# Students with grades in Math and Portuguese\n",
    "both = pd.merge(math, por, on=['school', 'sex', 'age', 'address', 'famsize', 'Pstatus', 'Medu', 'Fedu',\n",
    "       'Mjob', 'Fjob', 'reason', 'guardian', 'traveltime', 'studytime',\n",
    "       'failures', 'schoolsup', 'famsup', 'activities', 'nursery',\n",
    "       'higher', 'internet', 'romantic', 'famrel', 'freetime', 'goout', 'Dalc',\n",
    "       'Walc', 'health', 'absences'])\n",
    "both = both.drop_duplicates()"
   ]
  },
  {
   "cell_type": "code",
   "execution_count": 12,
   "metadata": {
    "execution": {
     "iopub.execute_input": "2020-12-21T21:07:26.833642Z",
     "iopub.status.busy": "2020-12-21T21:07:26.832489Z",
     "iopub.status.idle": "2020-12-21T21:07:26.837210Z",
     "shell.execute_reply": "2020-12-21T21:07:26.836439Z"
    },
    "papermill": {
     "duration": 0.08626,
     "end_time": "2020-12-21T21:07:26.837347",
     "exception": false,
     "start_time": "2020-12-21T21:07:26.751087",
     "status": "completed"
    },
    "tags": []
   },
   "outputs": [
    {
     "data": {
      "text/plain": [
       "85"
      ]
     },
     "execution_count": 12,
     "metadata": {},
     "output_type": "execute_result"
    }
   ],
   "source": [
    "len(both)"
   ]
  },
  {
   "cell_type": "code",
   "execution_count": 13,
   "metadata": {
    "execution": {
     "iopub.execute_input": "2020-12-21T21:07:26.989143Z",
     "iopub.status.busy": "2020-12-21T21:07:26.988325Z",
     "iopub.status.idle": "2020-12-21T21:07:26.998587Z",
     "shell.execute_reply": "2020-12-21T21:07:26.999362Z"
    },
    "papermill": {
     "duration": 0.087643,
     "end_time": "2020-12-21T21:07:26.999553",
     "exception": false,
     "start_time": "2020-12-21T21:07:26.911910",
     "status": "completed"
    },
    "tags": []
   },
   "outputs": [
    {
     "data": {
      "text/plain": [
       "school        0\n",
       "sex           0\n",
       "age           0\n",
       "address       0\n",
       "famsize       0\n",
       "Pstatus       0\n",
       "Medu          0\n",
       "Fedu          0\n",
       "Mjob          0\n",
       "Fjob          0\n",
       "reason        0\n",
       "guardian      0\n",
       "traveltime    0\n",
       "studytime     0\n",
       "failures      0\n",
       "schoolsup     0\n",
       "famsup        0\n",
       "paid          0\n",
       "activities    0\n",
       "nursery       0\n",
       "higher        0\n",
       "internet      0\n",
       "romantic      0\n",
       "famrel        0\n",
       "freetime      0\n",
       "goout         0\n",
       "Dalc          0\n",
       "Walc          0\n",
       "health        0\n",
       "absences      0\n",
       "G1_Por        0\n",
       "G2_Por        0\n",
       "G3_Por        0\n",
       "dtype: int64"
      ]
     },
     "execution_count": 13,
     "metadata": {},
     "output_type": "execute_result"
    }
   ],
   "source": [
    "por.isna().sum()"
   ]
  },
  {
   "cell_type": "code",
   "execution_count": 14,
   "metadata": {
    "execution": {
     "iopub.execute_input": "2020-12-21T21:07:27.136515Z",
     "iopub.status.busy": "2020-12-21T21:07:27.135583Z",
     "iopub.status.idle": "2020-12-21T21:07:27.170770Z",
     "shell.execute_reply": "2020-12-21T21:07:27.171319Z"
    },
    "papermill": {
     "duration": 0.102884,
     "end_time": "2020-12-21T21:07:27.171510",
     "exception": false,
     "start_time": "2020-12-21T21:07:27.068626",
     "status": "completed"
    },
    "tags": []
   },
   "outputs": [
    {
     "data": {
      "text/plain": [
       "GP    0.651772\n",
       "MS    0.348228\n",
       "Name: school, dtype: float64"
      ]
     },
     "execution_count": 14,
     "metadata": {},
     "output_type": "execute_result"
    }
   ],
   "source": [
    "por.school.value_counts(normalize=True)"
   ]
  },
  {
   "cell_type": "code",
   "execution_count": 15,
   "metadata": {
    "execution": {
     "iopub.execute_input": "2020-12-21T21:07:27.306936Z",
     "iopub.status.busy": "2020-12-21T21:07:27.306020Z",
     "iopub.status.idle": "2020-12-21T21:07:27.314378Z",
     "shell.execute_reply": "2020-12-21T21:07:27.313413Z"
    },
    "papermill": {
     "duration": 0.076948,
     "end_time": "2020-12-21T21:07:27.314519",
     "exception": false,
     "start_time": "2020-12-21T21:07:27.237571",
     "status": "completed"
    },
    "tags": []
   },
   "outputs": [
    {
     "name": "stdout",
     "output_type": "stream",
     "text": [
      "65.18% of the students are in Gabriel Pereira school\n"
     ]
    }
   ],
   "source": [
    "print(\"%s%% of the students are in Gabriel Pereira school\" % (100*round(por.school.value_counts(normalize=True)[0],4)))"
   ]
  },
  {
   "cell_type": "code",
   "execution_count": 16,
   "metadata": {
    "execution": {
     "iopub.execute_input": "2020-12-21T21:07:27.461923Z",
     "iopub.status.busy": "2020-12-21T21:07:27.460819Z",
     "iopub.status.idle": "2020-12-21T21:07:27.465450Z",
     "shell.execute_reply": "2020-12-21T21:07:27.465962Z"
    },
    "papermill": {
     "duration": 0.083626,
     "end_time": "2020-12-21T21:07:27.466138",
     "exception": false,
     "start_time": "2020-12-21T21:07:27.382512",
     "status": "completed"
    },
    "tags": []
   },
   "outputs": [
    {
     "data": {
      "text/plain": [
       "F    0.590139\n",
       "M    0.409861\n",
       "Name: sex, dtype: float64"
      ]
     },
     "execution_count": 16,
     "metadata": {},
     "output_type": "execute_result"
    }
   ],
   "source": [
    "por.sex.value_counts(normalize=True)"
   ]
  },
  {
   "cell_type": "code",
   "execution_count": 17,
   "metadata": {
    "execution": {
     "iopub.execute_input": "2020-12-21T21:07:27.614406Z",
     "iopub.status.busy": "2020-12-21T21:07:27.613150Z",
     "iopub.status.idle": "2020-12-21T21:07:27.625076Z",
     "shell.execute_reply": "2020-12-21T21:07:27.623879Z"
    },
    "papermill": {
     "duration": 0.082599,
     "end_time": "2020-12-21T21:07:27.625290",
     "exception": false,
     "start_time": "2020-12-21T21:07:27.542691",
     "status": "completed"
    },
    "tags": []
   },
   "outputs": [
    {
     "name": "stdout",
     "output_type": "stream",
     "text": [
      "59.01% of the students are girls\n"
     ]
    }
   ],
   "source": [
    "print(\"%s%% of the students are girls\" % (100*round(por.sex.value_counts(normalize=True)[0],4)))"
   ]
  },
  {
   "cell_type": "code",
   "execution_count": 18,
   "metadata": {
    "execution": {
     "iopub.execute_input": "2020-12-21T21:07:27.773599Z",
     "iopub.status.busy": "2020-12-21T21:07:27.772416Z",
     "iopub.status.idle": "2020-12-21T21:07:28.041027Z",
     "shell.execute_reply": "2020-12-21T21:07:28.040406Z"
    },
    "papermill": {
     "duration": 0.348977,
     "end_time": "2020-12-21T21:07:28.041152",
     "exception": false,
     "start_time": "2020-12-21T21:07:27.692175",
     "status": "completed"
    },
    "tags": []
   },
   "outputs": [
    {
     "ename": "NameError",
     "evalue": "name 'sns' is not defined",
     "output_type": "error",
     "traceback": [
      "\u001b[1;31m---------------------------------------------------------------------------\u001b[0m",
      "\u001b[1;31mNameError\u001b[0m                                 Traceback (most recent call last)",
      "\u001b[1;32m<ipython-input-18-7c9b1cba048b>\u001b[0m in \u001b[0;36m<module>\u001b[1;34m\u001b[0m\n\u001b[1;32m----> 1\u001b[1;33m \u001b[0msns\u001b[0m\u001b[1;33m.\u001b[0m\u001b[0mset\u001b[0m\u001b[1;33m(\u001b[0m\u001b[0mrc\u001b[0m\u001b[1;33m=\u001b[0m\u001b[1;33m{\u001b[0m\u001b[1;34m'figure.figsize'\u001b[0m\u001b[1;33m:\u001b[0m\u001b[1;33m(\u001b[0m\u001b[1;36m8\u001b[0m\u001b[1;33m,\u001b[0m\u001b[1;36m6\u001b[0m\u001b[1;33m)\u001b[0m\u001b[1;33m}\u001b[0m\u001b[1;33m)\u001b[0m\u001b[1;33m\u001b[0m\u001b[1;33m\u001b[0m\u001b[0m\n\u001b[0m\u001b[0;32m      2\u001b[0m \u001b[0msns\u001b[0m\u001b[1;33m.\u001b[0m\u001b[0mcountplot\u001b[0m\u001b[1;33m(\u001b[0m\u001b[0mx\u001b[0m\u001b[1;33m=\u001b[0m\u001b[1;34m\"school\"\u001b[0m\u001b[1;33m,\u001b[0m \u001b[0mhue\u001b[0m \u001b[1;33m=\u001b[0m\u001b[1;34m\"sex\"\u001b[0m\u001b[1;33m,\u001b[0m \u001b[0mdata\u001b[0m\u001b[1;33m=\u001b[0m\u001b[0mpor\u001b[0m\u001b[1;33m)\u001b[0m\u001b[1;33m\u001b[0m\u001b[1;33m\u001b[0m\u001b[0m\n",
      "\u001b[1;31mNameError\u001b[0m: name 'sns' is not defined"
     ]
    }
   ],
   "source": [
    "sns.set(rc={'figure.figsize':(8,6)})\n",
    "sns.countplot(x=\"school\", hue =\"sex\", data=por)"
   ]
  },
  {
   "cell_type": "code",
   "execution_count": 21,
   "metadata": {
    "execution": {
     "iopub.execute_input": "2020-12-21T21:07:28.187070Z",
     "iopub.status.busy": "2020-12-21T21:07:28.186088Z",
     "iopub.status.idle": "2020-12-21T21:07:28.410331Z",
     "shell.execute_reply": "2020-12-21T21:07:28.409555Z"
    },
    "papermill": {
     "duration": 0.299488,
     "end_time": "2020-12-21T21:07:28.410468",
     "exception": false,
     "start_time": "2020-12-21T21:07:28.110980",
     "status": "completed"
    },
    "tags": []
   },
   "outputs": [
    {
     "name": "stderr",
     "output_type": "stream",
     "text": [
      "c:\\python37\\lib\\site-packages\\seaborn\\_decorators.py:43: FutureWarning: Pass the following variable as a keyword arg: x. From version 0.12, the only valid positional argument will be `data`, and passing other arguments without an explicit keyword will result in an error or misinterpretation.\n",
      "  FutureWarning\n"
     ]
    },
    {
     "data": {
      "text/plain": [
       "<AxesSubplot:xlabel='age', ylabel='count'>"
      ]
     },
     "execution_count": 21,
     "metadata": {},
     "output_type": "execute_result"
    },
    {
     "data": {
      "image/png": "[encoded data removed]",
      "text/plain": [
       "<Figure size 432x288 with 1 Axes>"
      ]
     },
     "metadata": {
      "needs_background": "light"
     },
     "output_type": "display_data"
    }
   ],
   "source": [
    "sns.countplot(por.age)"
   ]
  },
  {
   "cell_type": "code",
   "execution_count": 22,
   "metadata": {
    "execution": {
     "iopub.execute_input": "2020-12-21T21:07:28.561292Z",
     "iopub.status.busy": "2020-12-21T21:07:28.560438Z",
     "iopub.status.idle": "2020-12-21T21:07:28.565627Z",
     "shell.execute_reply": "2020-12-21T21:07:28.565018Z"
    },
    "papermill": {
     "duration": 0.086339,
     "end_time": "2020-12-21T21:07:28.565772",
     "exception": false,
     "start_time": "2020-12-21T21:07:28.479433",
     "status": "completed"
    },
    "tags": []
   },
   "outputs": [
    {
     "data": {
      "text/plain": [
       "U    0.696456\n",
       "R    0.303544\n",
       "Name: address, dtype: float64"
      ]
     },
     "execution_count": 22,
     "metadata": {},
     "output_type": "execute_result"
    }
   ],
   "source": [
    "por.address.value_counts(normalize=True)"
   ]
  },
  {
   "cell_type": "code",
   "execution_count": 23,
   "metadata": {
    "execution": {
     "iopub.execute_input": "2020-12-21T21:07:28.721587Z",
     "iopub.status.busy": "2020-12-21T21:07:28.720865Z",
     "iopub.status.idle": "2020-12-21T21:07:28.725226Z",
     "shell.execute_reply": "2020-12-21T21:07:28.726165Z"
    },
    "papermill": {
     "duration": 0.090389,
     "end_time": "2020-12-21T21:07:28.726771",
     "exception": false,
     "start_time": "2020-12-21T21:07:28.636382",
     "status": "completed"
    },
    "tags": []
   },
   "outputs": [
    {
     "name": "stdout",
     "output_type": "stream",
     "text": [
      "69.65% of the students live in an urban area\n"
     ]
    }
   ],
   "source": [
    "print(\"%s%% of the students live in an urban area\" % (100*round(por.address.value_counts(normalize=True)[0],4)))"
   ]
  },
  {
   "cell_type": "code",
   "execution_count": 24,
   "metadata": {
    "execution": {
     "iopub.execute_input": "2020-12-21T21:07:28.886499Z",
     "iopub.status.busy": "2020-12-21T21:07:28.885675Z",
     "iopub.status.idle": "2020-12-21T21:07:28.890756Z",
     "shell.execute_reply": "2020-12-21T21:07:28.891371Z"
    },
    "papermill": {
     "duration": 0.088582,
     "end_time": "2020-12-21T21:07:28.891526",
     "exception": false,
     "start_time": "2020-12-21T21:07:28.802944",
     "status": "completed"
    },
    "tags": []
   },
   "outputs": [
    {
     "data": {
      "text/plain": [
       "GT3    0.70416\n",
       "LE3    0.29584\n",
       "Name: famsize, dtype: float64"
      ]
     },
     "execution_count": 24,
     "metadata": {},
     "output_type": "execute_result"
    }
   ],
   "source": [
    "por.famsize.value_counts(normalize=True)"
   ]
  },
  {
   "cell_type": "code",
   "execution_count": 25,
   "metadata": {
    "execution": {
     "iopub.execute_input": "2020-12-21T21:07:29.047731Z",
     "iopub.status.busy": "2020-12-21T21:07:29.047052Z",
     "iopub.status.idle": "2020-12-21T21:07:29.052280Z",
     "shell.execute_reply": "2020-12-21T21:07:29.051594Z"
    },
    "papermill": {
     "duration": 0.088039,
     "end_time": "2020-12-21T21:07:29.052398",
     "exception": false,
     "start_time": "2020-12-21T21:07:28.964359",
     "status": "completed"
    },
    "tags": []
   },
   "outputs": [
    {
     "name": "stdout",
     "output_type": "stream",
     "text": [
      "70.42% of the students live in a family with more than 3 members\n"
     ]
    }
   ],
   "source": [
    "print(\"%s%% of the students live in a family with more than 3 members\" % (100*round(por.famsize.value_counts(normalize=True)[0],4)))"
   ]
  },
  {
   "cell_type": "code",
   "execution_count": 26,
   "metadata": {
    "execution": {
     "iopub.execute_input": "2020-12-21T21:07:29.207811Z",
     "iopub.status.busy": "2020-12-21T21:07:29.206814Z",
     "iopub.status.idle": "2020-12-21T21:07:29.385128Z",
     "shell.execute_reply": "2020-12-21T21:07:29.384398Z"
    },
    "papermill": {
     "duration": 0.258371,
     "end_time": "2020-12-21T21:07:29.385259",
     "exception": false,
     "start_time": "2020-12-21T21:07:29.126888",
     "status": "completed"
    },
    "tags": []
   },
   "outputs": [
    {
     "data": {
      "text/plain": [
       "<AxesSubplot:xlabel='school', ylabel='count'>"
      ]
     },
     "execution_count": 26,
     "metadata": {},
     "output_type": "execute_result"
    },
    {
     "data": {
      "image/png": "[encoded data removed]",
      "text/plain": [
       "<Figure size 432x288 with 1 Axes>"
      ]
     },
     "metadata": {
      "needs_background": "light"
     },
     "output_type": "display_data"
    }
   ],
   "source": [
    "sns.countplot(x=\"school\", hue =\"address\", data=por)"
   ]
  },
  {
   "cell_type": "code",
   "execution_count": 27,
   "metadata": {
    "execution": {
     "iopub.execute_input": "2020-12-21T21:07:29.540074Z",
     "iopub.status.busy": "2020-12-21T21:07:29.537325Z",
     "iopub.status.idle": "2020-12-21T21:07:29.544311Z",
     "shell.execute_reply": "2020-12-21T21:07:29.544838Z"
    },
    "papermill": {
     "duration": 0.087228,
     "end_time": "2020-12-21T21:07:29.545000",
     "exception": false,
     "start_time": "2020-12-21T21:07:29.457772",
     "status": "completed"
    },
    "tags": []
   },
   "outputs": [
    {
     "data": {
      "text/plain": [
       "T    0.876733\n",
       "A    0.123267\n",
       "Name: Pstatus, dtype: float64"
      ]
     },
     "execution_count": 27,
     "metadata": {},
     "output_type": "execute_result"
    }
   ],
   "source": [
    "por.Pstatus.value_counts(normalize=True)"
   ]
  },
  {
   "cell_type": "code",
   "execution_count": 28,
   "metadata": {
    "execution": {
     "iopub.execute_input": "2020-12-21T21:07:29.702330Z",
     "iopub.status.busy": "2020-12-21T21:07:29.701357Z",
     "iopub.status.idle": "2020-12-21T21:07:29.705977Z",
     "shell.execute_reply": "2020-12-21T21:07:29.706464Z"
    },
    "papermill": {
     "duration": 0.086758,
     "end_time": "2020-12-21T21:07:29.706621",
     "exception": false,
     "start_time": "2020-12-21T21:07:29.619863",
     "status": "completed"
    },
    "tags": []
   },
   "outputs": [
    {
     "name": "stdout",
     "output_type": "stream",
     "text": [
      "87.67% of the students' parents live together\n"
     ]
    }
   ],
   "source": [
    "print(\"%s%% of the students' parents live together\" % (100*round(por.Pstatus.value_counts(normalize=True)[0],4)))"
   ]
  },
  {
   "cell_type": "code",
   "execution_count": 29,
   "metadata": {
    "execution": {
     "iopub.execute_input": "2020-12-21T21:07:29.870141Z",
     "iopub.status.busy": "2020-12-21T21:07:29.865869Z",
     "iopub.status.idle": "2020-12-21T21:07:30.061271Z",
     "shell.execute_reply": "2020-12-21T21:07:30.060460Z"
    },
    "papermill": {
     "duration": 0.276553,
     "end_time": "2020-12-21T21:07:30.061411",
     "exception": false,
     "start_time": "2020-12-21T21:07:29.784858",
     "status": "completed"
    },
    "tags": []
   },
   "outputs": [
    {
     "data": {
      "text/plain": [
       "<AxesSubplot:xlabel='Pstatus', ylabel='count'>"
      ]
     },
     "execution_count": 29,
     "metadata": {},
     "output_type": "execute_result"
    },
    {
     "data": {
      "image/png": "[encoded data removed]",
      "text/plain": [
       "<Figure size 432x288 with 1 Axes>"
      ]
     },
     "metadata": {
      "needs_background": "light"
     },
     "output_type": "display_data"
    }
   ],
   "source": [
    "sns.countplot(x=\"Pstatus\", hue =\"famsize\", data=por)"
   ]
  },
  {
   "cell_type": "code",
   "execution_count": 27,
   "metadata": {
    "execution": {
     "iopub.execute_input": "2020-12-21T21:07:30.222063Z",
     "iopub.status.busy": "2020-12-21T21:07:30.221342Z",
     "iopub.status.idle": "2020-12-21T21:07:30.408991Z",
     "shell.execute_reply": "2020-12-21T21:07:30.408414Z"
    },
    "papermill": {
     "duration": 0.268828,
     "end_time": "2020-12-21T21:07:30.409117",
     "exception": false,
     "start_time": "2020-12-21T21:07:30.140289",
     "status": "completed"
    },
    "tags": []
   },
   "outputs": [
    {
     "data": {
      "text/plain": [
       "<matplotlib.axes._subplots.AxesSubplot at 0x7f6928b48b50>"
      ]
     },
     "execution_count": 27,
     "metadata": {},
     "output_type": "execute_result"
    },
    {
     "data": {
      "image/png": "[encoded data removed]",
      "text/plain": [
       "<Figure size 576x432 with 1 Axes>"
      ]
     },
     "metadata": {},
     "output_type": "display_data"
    }
   ],
   "source": [
    "sns.countplot(por.Medu)"
   ]
  },
  {
   "cell_type": "code",
   "execution_count": 28,
   "metadata": {
    "execution": {
     "iopub.execute_input": "2020-12-21T21:07:30.571341Z",
     "iopub.status.busy": "2020-12-21T21:07:30.567207Z",
     "iopub.status.idle": "2020-12-21T21:07:30.849120Z",
     "shell.execute_reply": "2020-12-21T21:07:30.848306Z"
    },
    "papermill": {
     "duration": 0.363984,
     "end_time": "2020-12-21T21:07:30.849256",
     "exception": false,
     "start_time": "2020-12-21T21:07:30.485272",
     "status": "completed"
    },
    "tags": []
   },
   "outputs": [
    {
     "data": {
      "text/plain": [
       "<matplotlib.axes._subplots.AxesSubplot at 0x7f6928bd73d0>"
      ]
     },
     "execution_count": 28,
     "metadata": {},
     "output_type": "execute_result"
    },
    {
     "data": {
      "image/png": "[encoded data removed]",
      "text/plain": [
       "<Figure size 576x432 with 1 Axes>"
      ]
     },
     "metadata": {},
     "output_type": "display_data"
    }
   ],
   "source": [
    "sns.countplot(por.Fedu)"
   ]
  },
  {
   "cell_type": "code",
   "execution_count": 29,
   "metadata": {
    "execution": {
     "iopub.execute_input": "2020-12-21T21:07:31.018575Z",
     "iopub.status.busy": "2020-12-21T21:07:31.017836Z",
     "iopub.status.idle": "2020-12-21T21:07:31.306569Z",
     "shell.execute_reply": "2020-12-21T21:07:31.305863Z"
    },
    "papermill": {
     "duration": 0.376195,
     "end_time": "2020-12-21T21:07:31.306690",
     "exception": false,
     "start_time": "2020-12-21T21:07:30.930495",
     "status": "completed"
    },
    "tags": []
   },
   "outputs": [
    {
     "data": {
      "text/plain": [
       "<matplotlib.axes._subplots.AxesSubplot at 0x7f6928b59310>"
      ]
     },
     "execution_count": 29,
     "metadata": {},
     "output_type": "execute_result"
    },
    {
     "data": {
      "image/png": "[encoded data removed]",
      "text/plain": [
       "<Figure size 576x432 with 1 Axes>"
      ]
     },
     "metadata": {},
     "output_type": "display_data"
    }
   ],
   "source": [
    "sns.countplot(x=\"Medu\", hue =\"Fedu\", data=por)"
   ]
  },
  {
   "cell_type": "code",
   "execution_count": 30,
   "metadata": {
    "execution": {
     "iopub.execute_input": "2020-12-21T21:07:31.473079Z",
     "iopub.status.busy": "2020-12-21T21:07:31.470017Z",
     "iopub.status.idle": "2020-12-21T21:07:31.641897Z",
     "shell.execute_reply": "2020-12-21T21:07:31.642444Z"
    },
    "papermill": {
     "duration": 0.256698,
     "end_time": "2020-12-21T21:07:31.642684",
     "exception": false,
     "start_time": "2020-12-21T21:07:31.385986",
     "status": "completed"
    },
    "tags": []
   },
   "outputs": [
    {
     "data": {
      "text/plain": [
       "<matplotlib.axes._subplots.AxesSubplot at 0x7f69289c0490>"
      ]
     },
     "execution_count": 30,
     "metadata": {},
     "output_type": "execute_result"
    },
    {
     "data": {
      "image/png": "[encoded data removed]",
      "text/plain": [
       "<Figure size 576x432 with 1 Axes>"
      ]
     },
     "metadata": {},
     "output_type": "display_data"
    }
   ],
   "source": [
    "sns.countplot(por.Mjob)"
   ]
  },
  {
   "cell_type": "code",
   "execution_count": 31,
   "metadata": {
    "execution": {
     "iopub.execute_input": "2020-12-21T21:07:31.822445Z",
     "iopub.status.busy": "2020-12-21T21:07:31.821285Z",
     "iopub.status.idle": "2020-12-21T21:07:31.826762Z",
     "shell.execute_reply": "2020-12-21T21:07:31.826056Z"
    },
    "papermill": {
     "duration": 0.103864,
     "end_time": "2020-12-21T21:07:31.826889",
     "exception": false,
     "start_time": "2020-12-21T21:07:31.723025",
     "status": "completed"
    },
    "tags": []
   },
   "outputs": [
    {
     "data": {
      "text/plain": [
       "other       0.397535\n",
       "services    0.209553\n",
       "at_home     0.208012\n",
       "teacher     0.110940\n",
       "health      0.073960\n",
       "Name: Mjob, dtype: float64"
      ]
     },
     "execution_count": 31,
     "metadata": {},
     "output_type": "execute_result"
    }
   ],
   "source": [
    "por.Mjob.value_counts(normalize=True)"
   ]
  },
  {
   "cell_type": "code",
   "execution_count": 32,
   "metadata": {
    "execution": {
     "iopub.execute_input": "2020-12-21T21:07:31.994382Z",
     "iopub.status.busy": "2020-12-21T21:07:31.993333Z",
     "iopub.status.idle": "2020-12-21T21:07:32.000055Z",
     "shell.execute_reply": "2020-12-21T21:07:32.000818Z"
    },
    "papermill": {
     "duration": 0.093282,
     "end_time": "2020-12-21T21:07:32.000996",
     "exception": false,
     "start_time": "2020-12-21T21:07:31.907714",
     "status": "completed"
    },
    "tags": []
   },
   "outputs": [
    {
     "name": "stdout",
     "output_type": "stream",
     "text": [
      "20.8% of the mothers are at home\n"
     ]
    }
   ],
   "source": [
    "print(\"%s%% of the mothers are at home\" % (100*round(por.Mjob.value_counts(normalize=True)[2],4)))"
   ]
  },
  {
   "cell_type": "code",
   "execution_count": 33,
   "metadata": {
    "execution": {
     "iopub.execute_input": "2020-12-21T21:07:32.172529Z",
     "iopub.status.busy": "2020-12-21T21:07:32.171812Z",
     "iopub.status.idle": "2020-12-21T21:07:32.347861Z",
     "shell.execute_reply": "2020-12-21T21:07:32.348429Z"
    },
    "papermill": {
     "duration": 0.265467,
     "end_time": "2020-12-21T21:07:32.348596",
     "exception": false,
     "start_time": "2020-12-21T21:07:32.083129",
     "status": "completed"
    },
    "tags": []
   },
   "outputs": [
    {
     "data": {
      "text/plain": [
       "<matplotlib.axes._subplots.AxesSubplot at 0x7f69289a4590>"
      ]
     },
     "execution_count": 33,
     "metadata": {},
     "output_type": "execute_result"
    },
    {
     "data": {
      "image/png": "[encoded data removed]",
      "text/plain": [
       "<Figure size 576x432 with 1 Axes>"
      ]
     },
     "metadata": {},
     "output_type": "display_data"
    }
   ],
   "source": [
    "sns.countplot(por.Fjob)"
   ]
  },
  {
   "cell_type": "code",
   "execution_count": 34,
   "metadata": {
    "execution": {
     "iopub.execute_input": "2020-12-21T21:07:32.521191Z",
     "iopub.status.busy": "2020-12-21T21:07:32.520103Z",
     "iopub.status.idle": "2020-12-21T21:07:32.524913Z",
     "shell.execute_reply": "2020-12-21T21:07:32.524368Z"
    },
    "papermill": {
     "duration": 0.095041,
     "end_time": "2020-12-21T21:07:32.525035",
     "exception": false,
     "start_time": "2020-12-21T21:07:32.429994",
     "status": "completed"
    },
    "tags": []
   },
   "outputs": [
    {
     "data": {
      "text/plain": [
       "other       0.565485\n",
       "services    0.278891\n",
       "at_home     0.064715\n",
       "teacher     0.055470\n",
       "health      0.035439\n",
       "Name: Fjob, dtype: float64"
      ]
     },
     "execution_count": 34,
     "metadata": {},
     "output_type": "execute_result"
    }
   ],
   "source": [
    "por.Fjob.value_counts(normalize=True)"
   ]
  },
  {
   "cell_type": "code",
   "execution_count": 35,
   "metadata": {
    "execution": {
     "iopub.execute_input": "2020-12-21T21:07:32.697084Z",
     "iopub.status.busy": "2020-12-21T21:07:32.696173Z",
     "iopub.status.idle": "2020-12-21T21:07:32.699418Z",
     "shell.execute_reply": "2020-12-21T21:07:32.699956Z"
    },
    "papermill": {
     "duration": 0.09326,
     "end_time": "2020-12-21T21:07:32.700101",
     "exception": false,
     "start_time": "2020-12-21T21:07:32.606841",
     "status": "completed"
    },
    "tags": []
   },
   "outputs": [
    {
     "name": "stdout",
     "output_type": "stream",
     "text": [
      "6.47% of the fathers are at home\n"
     ]
    }
   ],
   "source": [
    "print(\"%s%% of the fathers are at home\" % (100*round(por.Fjob.value_counts(normalize=True)[2],4)))"
   ]
  },
  {
   "cell_type": "code",
   "execution_count": 36,
   "metadata": {
    "execution": {
     "iopub.execute_input": "2020-12-21T21:07:32.893932Z",
     "iopub.status.busy": "2020-12-21T21:07:32.874223Z",
     "iopub.status.idle": "2020-12-21T21:07:33.160649Z",
     "shell.execute_reply": "2020-12-21T21:07:33.159954Z"
    },
    "papermill": {
     "duration": 0.37689,
     "end_time": "2020-12-21T21:07:33.160813",
     "exception": false,
     "start_time": "2020-12-21T21:07:32.783923",
     "status": "completed"
    },
    "tags": []
   },
   "outputs": [
    {
     "data": {
      "text/plain": [
       "<matplotlib.axes._subplots.AxesSubplot at 0x7f6928928590>"
      ]
     },
     "execution_count": 36,
     "metadata": {},
     "output_type": "execute_result"
    },
    {
     "data": {
      "image/png": "[encoded data removed]",
      "text/plain": [
       "<Figure size 576x432 with 1 Axes>"
      ]
     },
     "metadata": {},
     "output_type": "display_data"
    }
   ],
   "source": [
    "sns.countplot(x=\"Mjob\", hue =\"Medu\", data=por)"
   ]
  },
  {
   "cell_type": "code",
   "execution_count": 37,
   "metadata": {
    "execution": {
     "iopub.execute_input": "2020-12-21T21:07:33.364445Z",
     "iopub.status.busy": "2020-12-21T21:07:33.340367Z",
     "iopub.status.idle": "2020-12-21T21:07:33.624354Z",
     "shell.execute_reply": "2020-12-21T21:07:33.623649Z"
    },
    "papermill": {
     "duration": 0.378331,
     "end_time": "2020-12-21T21:07:33.624479",
     "exception": false,
     "start_time": "2020-12-21T21:07:33.246148",
     "status": "completed"
    },
    "tags": []
   },
   "outputs": [
    {
     "data": {
      "text/plain": [
       "<matplotlib.axes._subplots.AxesSubplot at 0x7f692884f490>"
      ]
     },
     "execution_count": 37,
     "metadata": {},
     "output_type": "execute_result"
    },
    {
     "data": {
      "image/png": "[encoded data removed]",
      "text/plain": [
       "<Figure size 576x432 with 1 Axes>"
      ]
     },
     "metadata": {},
     "output_type": "display_data"
    }
   ],
   "source": [
    "sns.countplot(x=\"Fjob\", hue =\"Fedu\", data=por)"
   ]
  },
  {
   "cell_type": "code",
   "execution_count": 38,
   "metadata": {
    "execution": {
     "iopub.execute_input": "2020-12-21T21:07:33.807472Z",
     "iopub.status.busy": "2020-12-21T21:07:33.804143Z",
     "iopub.status.idle": "2020-12-21T21:07:33.967345Z",
     "shell.execute_reply": "2020-12-21T21:07:33.966798Z"
    },
    "papermill": {
     "duration": 0.258554,
     "end_time": "2020-12-21T21:07:33.967469",
     "exception": false,
     "start_time": "2020-12-21T21:07:33.708915",
     "status": "completed"
    },
    "tags": []
   },
   "outputs": [
    {
     "data": {
      "text/plain": [
       "<matplotlib.axes._subplots.AxesSubplot at 0x7f69287f1850>"
      ]
     },
     "execution_count": 38,
     "metadata": {},
     "output_type": "execute_result"
    },
    {
     "data": {
      "image/png": "[encoded data removed]",
      "text/plain": [
       "<Figure size 576x432 with 1 Axes>"
      ]
     },
     "metadata": {},
     "output_type": "display_data"
    }
   ],
   "source": [
    "sns.countplot(por.reason)"
   ]
  },
  {
   "cell_type": "code",
   "execution_count": 39,
   "metadata": {
    "execution": {
     "iopub.execute_input": "2020-12-21T21:07:34.155344Z",
     "iopub.status.busy": "2020-12-21T21:07:34.154542Z",
     "iopub.status.idle": "2020-12-21T21:07:34.157889Z",
     "shell.execute_reply": "2020-12-21T21:07:34.158446Z"
    },
    "papermill": {
     "duration": 0.102401,
     "end_time": "2020-12-21T21:07:34.158615",
     "exception": false,
     "start_time": "2020-12-21T21:07:34.056214",
     "status": "completed"
    },
    "tags": []
   },
   "outputs": [
    {
     "data": {
      "text/plain": [
       "mother    0.701079\n",
       "father    0.235747\n",
       "other     0.063174\n",
       "Name: guardian, dtype: float64"
      ]
     },
     "execution_count": 39,
     "metadata": {},
     "output_type": "execute_result"
    }
   ],
   "source": [
    "por.guardian.value_counts(normalize=True)"
   ]
  },
  {
   "cell_type": "code",
   "execution_count": 40,
   "metadata": {
    "execution": {
     "iopub.execute_input": "2020-12-21T21:07:34.336575Z",
     "iopub.status.busy": "2020-12-21T21:07:34.335843Z",
     "iopub.status.idle": "2020-12-21T21:07:34.635973Z",
     "shell.execute_reply": "2020-12-21T21:07:34.636569Z"
    },
    "papermill": {
     "duration": 0.391057,
     "end_time": "2020-12-21T21:07:34.636759",
     "exception": false,
     "start_time": "2020-12-21T21:07:34.245702",
     "status": "completed"
    },
    "tags": []
   },
   "outputs": [
    {
     "data": {
      "text/plain": [
       "<matplotlib.axes._subplots.AxesSubplot at 0x7f6928862350>"
      ]
     },
     "execution_count": 40,
     "metadata": {},
     "output_type": "execute_result"
    },
    {
     "data": {
      "image/png": "[encoded data removed]",
      "text/plain": [
       "<Figure size 576x432 with 1 Axes>"
      ]
     },
     "metadata": {},
     "output_type": "display_data"
    }
   ],
   "source": [
    "sns.countplot(x=\"age\", hue =\"guardian\", data=por)"
   ]
  },
  {
   "cell_type": "code",
   "execution_count": 41,
   "metadata": {
    "execution": {
     "iopub.execute_input": "2020-12-21T21:07:34.822529Z",
     "iopub.status.busy": "2020-12-21T21:07:34.821767Z",
     "iopub.status.idle": "2020-12-21T21:07:34.995168Z",
     "shell.execute_reply": "2020-12-21T21:07:34.993857Z"
    },
    "papermill": {
     "duration": 0.269268,
     "end_time": "2020-12-21T21:07:34.995308",
     "exception": false,
     "start_time": "2020-12-21T21:07:34.726040",
     "status": "completed"
    },
    "tags": []
   },
   "outputs": [
    {
     "data": {
      "text/plain": [
       "<matplotlib.axes._subplots.AxesSubplot at 0x7f6928776310>"
      ]
     },
     "execution_count": 41,
     "metadata": {},
     "output_type": "execute_result"
    },
    {
     "data": {
      "image/png": "[encoded data removed]",
      "text/plain": [
       "<Figure size 576x432 with 1 Axes>"
      ]
     },
     "metadata": {},
     "output_type": "display_data"
    }
   ],
   "source": [
    "sns.countplot(por.traveltime)"
   ]
  },
  {
   "cell_type": "code",
   "execution_count": 42,
   "metadata": {
    "execution": {
     "iopub.execute_input": "2020-12-21T21:07:35.188917Z",
     "iopub.status.busy": "2020-12-21T21:07:35.188187Z",
     "iopub.status.idle": "2020-12-21T21:07:35.382084Z",
     "shell.execute_reply": "2020-12-21T21:07:35.381439Z"
    },
    "papermill": {
     "duration": 0.293286,
     "end_time": "2020-12-21T21:07:35.382212",
     "exception": false,
     "start_time": "2020-12-21T21:07:35.088926",
     "status": "completed"
    },
    "tags": []
   },
   "outputs": [
    {
     "data": {
      "text/plain": [
       "<matplotlib.axes._subplots.AxesSubplot at 0x7f6928612b90>"
      ]
     },
     "execution_count": 42,
     "metadata": {},
     "output_type": "execute_result"
    },
    {
     "data": {
      "image/png": "[encoded data removed]",
      "text/plain": [
       "<Figure size 576x432 with 1 Axes>"
      ]
     },
     "metadata": {},
     "output_type": "display_data"
    }
   ],
   "source": [
    "sns.countplot(x=\"address\", hue =\"traveltime\", data=por)"
   ]
  },
  {
   "cell_type": "code",
   "execution_count": 43,
   "metadata": {
    "execution": {
     "iopub.execute_input": "2020-12-21T21:07:35.588262Z",
     "iopub.status.busy": "2020-12-21T21:07:35.574615Z",
     "iopub.status.idle": "2020-12-21T21:07:35.776536Z",
     "shell.execute_reply": "2020-12-21T21:07:35.775795Z"
    },
    "papermill": {
     "duration": 0.302574,
     "end_time": "2020-12-21T21:07:35.776659",
     "exception": false,
     "start_time": "2020-12-21T21:07:35.474085",
     "status": "completed"
    },
    "tags": []
   },
   "outputs": [
    {
     "data": {
      "text/plain": [
       "<matplotlib.axes._subplots.AxesSubplot at 0x7f692858c350>"
      ]
     },
     "execution_count": 43,
     "metadata": {},
     "output_type": "execute_result"
    },
    {
     "data": {
      "image/png": "[encoded data removed]",
      "text/plain": [
       "<Figure size 576x432 with 1 Axes>"
      ]
     },
     "metadata": {},
     "output_type": "display_data"
    }
   ],
   "source": [
    "sns.countplot(x=\"school\", hue =\"traveltime\", data=por)"
   ]
  },
  {
   "cell_type": "code",
   "execution_count": 44,
   "metadata": {
    "execution": {
     "iopub.execute_input": "2020-12-21T21:07:35.971538Z",
     "iopub.status.busy": "2020-12-21T21:07:35.969293Z",
     "iopub.status.idle": "2020-12-21T21:07:36.140690Z",
     "shell.execute_reply": "2020-12-21T21:07:36.141375Z"
    },
    "papermill": {
     "duration": 0.271232,
     "end_time": "2020-12-21T21:07:36.141548",
     "exception": false,
     "start_time": "2020-12-21T21:07:35.870316",
     "status": "completed"
    },
    "tags": []
   },
   "outputs": [
    {
     "data": {
      "text/plain": [
       "<matplotlib.axes._subplots.AxesSubplot at 0x7f692850ad90>"
      ]
     },
     "execution_count": 44,
     "metadata": {},
     "output_type": "execute_result"
    },
    {
     "data": {
      "image/png": "[encoded data removed]",
      "text/plain": [
       "<Figure size 576x432 with 1 Axes>"
      ]
     },
     "metadata": {},
     "output_type": "display_data"
    }
   ],
   "source": [
    "sns.countplot(por.studytime)"
   ]
  },
  {
   "cell_type": "code",
   "execution_count": 45,
   "metadata": {
    "execution": {
     "iopub.execute_input": "2020-12-21T21:07:36.371607Z",
     "iopub.status.busy": "2020-12-21T21:07:36.364291Z",
     "iopub.status.idle": "2020-12-21T21:07:36.596706Z",
     "shell.execute_reply": "2020-12-21T21:07:36.595982Z"
    },
    "papermill": {
     "duration": 0.361338,
     "end_time": "2020-12-21T21:07:36.596891",
     "exception": false,
     "start_time": "2020-12-21T21:07:36.235553",
     "status": "completed"
    },
    "tags": []
   },
   "outputs": [
    {
     "data": {
      "text/plain": [
       "<matplotlib.axes._subplots.AxesSubplot at 0x7f69284f0cd0>"
      ]
     },
     "execution_count": 45,
     "metadata": {},
     "output_type": "execute_result"
    },
    {
     "data": {
      "image/png": "[encoded data removed]",
      "text/plain": [
       "<Figure size 576x432 with 1 Axes>"
      ]
     },
     "metadata": {},
     "output_type": "display_data"
    }
   ],
   "source": [
    "sns.countplot(x=\"school\", hue =\"studytime\", data=por)"
   ]
  },
  {
   "cell_type": "code",
   "execution_count": 46,
   "metadata": {
    "execution": {
     "iopub.execute_input": "2020-12-21T21:07:36.821337Z",
     "iopub.status.busy": "2020-12-21T21:07:36.820184Z",
     "iopub.status.idle": "2020-12-21T21:07:37.059425Z",
     "shell.execute_reply": "2020-12-21T21:07:37.058036Z"
    },
    "papermill": {
     "duration": 0.366183,
     "end_time": "2020-12-21T21:07:37.059619",
     "exception": false,
     "start_time": "2020-12-21T21:07:36.693436",
     "status": "completed"
    },
    "tags": []
   },
   "outputs": [
    {
     "data": {
      "text/plain": [
       "<matplotlib.axes._subplots.AxesSubplot at 0x7f6928572e10>"
      ]
     },
     "execution_count": 46,
     "metadata": {},
     "output_type": "execute_result"
    },
    {
     "data": {
      "image/png": "[encoded data removed]",
      "text/plain": [
       "<Figure size 576x432 with 1 Axes>"
      ]
     },
     "metadata": {},
     "output_type": "display_data"
    }
   ],
   "source": [
    "sns.countplot(por.failures)"
   ]
  },
  {
   "cell_type": "code",
   "execution_count": 47,
   "metadata": {
    "execution": {
     "iopub.execute_input": "2020-12-21T21:07:37.296289Z",
     "iopub.status.busy": "2020-12-21T21:07:37.267484Z",
     "iopub.status.idle": "2020-12-21T21:07:37.604947Z",
     "shell.execute_reply": "2020-12-21T21:07:37.604341Z"
    },
    "papermill": {
     "duration": 0.439877,
     "end_time": "2020-12-21T21:07:37.605067",
     "exception": false,
     "start_time": "2020-12-21T21:07:37.165190",
     "status": "completed"
    },
    "tags": []
   },
   "outputs": [
    {
     "data": {
      "text/plain": [
       "<matplotlib.axes._subplots.AxesSubplot at 0x7f69283be0d0>"
      ]
     },
     "execution_count": 47,
     "metadata": {},
     "output_type": "execute_result"
    },
    {
     "data": {
      "image/png": "[encoded data removed]",
      "text/plain": [
       "<Figure size 576x432 with 1 Axes>"
      ]
     },
     "metadata": {},
     "output_type": "display_data"
    }
   ],
   "source": [
    "sns.countplot(x=\"age\", hue=\"failures\", data=por)"
   ]
  },
  {
   "cell_type": "code",
   "execution_count": 48,
   "metadata": {
    "execution": {
     "iopub.execute_input": "2020-12-21T21:07:37.808702Z",
     "iopub.status.busy": "2020-12-21T21:07:37.807770Z",
     "iopub.status.idle": "2020-12-21T21:07:37.813171Z",
     "shell.execute_reply": "2020-12-21T21:07:37.812488Z"
    },
    "papermill": {
     "duration": 0.110823,
     "end_time": "2020-12-21T21:07:37.813304",
     "exception": false,
     "start_time": "2020-12-21T21:07:37.702481",
     "status": "completed"
    },
    "tags": []
   },
   "outputs": [
    {
     "data": {
      "text/plain": [
       "no     0.895223\n",
       "yes    0.104777\n",
       "Name: schoolsup, dtype: float64"
      ]
     },
     "execution_count": 48,
     "metadata": {},
     "output_type": "execute_result"
    }
   ],
   "source": [
    "por.schoolsup.value_counts(normalize=True)"
   ]
  },
  {
   "cell_type": "code",
   "execution_count": 49,
   "metadata": {
    "execution": {
     "iopub.execute_input": "2020-12-21T21:07:38.029615Z",
     "iopub.status.busy": "2020-12-21T21:07:38.028712Z",
     "iopub.status.idle": "2020-12-21T21:07:38.036088Z",
     "shell.execute_reply": "2020-12-21T21:07:38.035528Z"
    },
    "papermill": {
     "duration": 0.124488,
     "end_time": "2020-12-21T21:07:38.036212",
     "exception": false,
     "start_time": "2020-12-21T21:07:37.911724",
     "status": "completed"
    },
    "tags": []
   },
   "outputs": [
    {
     "data": {
      "text/plain": [
       "yes    0.613251\n",
       "no     0.386749\n",
       "Name: famsup, dtype: float64"
      ]
     },
     "execution_count": 49,
     "metadata": {},
     "output_type": "execute_result"
    }
   ],
   "source": [
    "por.famsup.value_counts(normalize=True)"
   ]
  },
  {
   "cell_type": "code",
   "execution_count": 50,
   "metadata": {
    "execution": {
     "iopub.execute_input": "2020-12-21T21:07:38.243472Z",
     "iopub.status.busy": "2020-12-21T21:07:38.242598Z",
     "iopub.status.idle": "2020-12-21T21:07:38.516785Z",
     "shell.execute_reply": "2020-12-21T21:07:38.516142Z"
    },
    "papermill": {
     "duration": 0.378287,
     "end_time": "2020-12-21T21:07:38.516909",
     "exception": false,
     "start_time": "2020-12-21T21:07:38.138622",
     "status": "completed"
    },
    "tags": []
   },
   "outputs": [
    {
     "data": {
      "text/plain": [
       "<matplotlib.axes._subplots.AxesSubplot at 0x7f6928321150>"
      ]
     },
     "execution_count": 50,
     "metadata": {},
     "output_type": "execute_result"
    },
    {
     "data": {
      "image/png": "[encoded data removed]",
      "text/plain": [
       "<Figure size 576x432 with 1 Axes>"
      ]
     },
     "metadata": {},
     "output_type": "display_data"
    }
   ],
   "source": [
    "sns.countplot(x=\"school\", hue=\"famsup\", data=por)"
   ]
  },
  {
   "cell_type": "code",
   "execution_count": 51,
   "metadata": {
    "execution": {
     "iopub.execute_input": "2020-12-21T21:07:38.726706Z",
     "iopub.status.busy": "2020-12-21T21:07:38.725554Z",
     "iopub.status.idle": "2020-12-21T21:07:38.730361Z",
     "shell.execute_reply": "2020-12-21T21:07:38.729804Z"
    },
    "papermill": {
     "duration": 0.114296,
     "end_time": "2020-12-21T21:07:38.730477",
     "exception": false,
     "start_time": "2020-12-21T21:07:38.616181",
     "status": "completed"
    },
    "tags": []
   },
   "outputs": [
    {
     "data": {
      "text/plain": [
       "no     0.939908\n",
       "yes    0.060092\n",
       "Name: paid, dtype: float64"
      ]
     },
     "execution_count": 51,
     "metadata": {},
     "output_type": "execute_result"
    }
   ],
   "source": [
    "por.paid.value_counts(normalize=True)"
   ]
  },
  {
   "cell_type": "code",
   "execution_count": 52,
   "metadata": {
    "execution": {
     "iopub.execute_input": "2020-12-21T21:07:38.952263Z",
     "iopub.status.busy": "2020-12-21T21:07:38.947235Z",
     "iopub.status.idle": "2020-12-21T21:07:39.088472Z",
     "shell.execute_reply": "2020-12-21T21:07:39.087771Z"
    },
    "papermill": {
     "duration": 0.258628,
     "end_time": "2020-12-21T21:07:39.088591",
     "exception": false,
     "start_time": "2020-12-21T21:07:38.829963",
     "status": "completed"
    },
    "tags": []
   },
   "outputs": [
    {
     "data": {
      "text/plain": [
       "<matplotlib.axes._subplots.AxesSubplot at 0x7f69287bc390>"
      ]
     },
     "execution_count": 52,
     "metadata": {},
     "output_type": "execute_result"
    },
    {
     "data": {
      "image/png": "[encoded data removed]",
      "text/plain": [
       "<Figure size 576x432 with 1 Axes>"
      ]
     },
     "metadata": {},
     "output_type": "display_data"
    }
   ],
   "source": [
    "sns.countplot(por[por.paid == 'yes']['famsup'])"
   ]
  },
  {
   "cell_type": "code",
   "execution_count": 53,
   "metadata": {
    "execution": {
     "iopub.execute_input": "2020-12-21T21:07:39.301840Z",
     "iopub.status.busy": "2020-12-21T21:07:39.300942Z",
     "iopub.status.idle": "2020-12-21T21:07:39.305040Z",
     "shell.execute_reply": "2020-12-21T21:07:39.304349Z"
    },
    "papermill": {
     "duration": 0.114162,
     "end_time": "2020-12-21T21:07:39.305161",
     "exception": false,
     "start_time": "2020-12-21T21:07:39.190999",
     "status": "completed"
    },
    "tags": []
   },
   "outputs": [
    {
     "data": {
      "text/plain": [
       "no     0.514638\n",
       "yes    0.485362\n",
       "Name: activities, dtype: float64"
      ]
     },
     "execution_count": 53,
     "metadata": {},
     "output_type": "execute_result"
    }
   ],
   "source": [
    "por.activities.value_counts(normalize=True)"
   ]
  },
  {
   "cell_type": "code",
   "execution_count": 54,
   "metadata": {
    "execution": {
     "iopub.execute_input": "2020-12-21T21:07:39.515054Z",
     "iopub.status.busy": "2020-12-21T21:07:39.514293Z",
     "iopub.status.idle": "2020-12-21T21:07:39.675380Z",
     "shell.execute_reply": "2020-12-21T21:07:39.674637Z"
    },
    "papermill": {
     "duration": 0.268968,
     "end_time": "2020-12-21T21:07:39.675504",
     "exception": false,
     "start_time": "2020-12-21T21:07:39.406536",
     "status": "completed"
    },
    "tags": []
   },
   "outputs": [
    {
     "data": {
      "text/plain": [
       "<matplotlib.axes._subplots.AxesSubplot at 0x7f6928569f10>"
      ]
     },
     "execution_count": 54,
     "metadata": {},
     "output_type": "execute_result"
    },
    {
     "data": {
      "image/png": "[encoded data removed]",
      "text/plain": [
       "<Figure size 576x432 with 1 Axes>"
      ]
     },
     "metadata": {},
     "output_type": "display_data"
    }
   ],
   "source": [
    "sns.countplot(x=\"sex\", hue=\"activities\", data=por)"
   ]
  },
  {
   "cell_type": "code",
   "execution_count": 55,
   "metadata": {
    "execution": {
     "iopub.execute_input": "2020-12-21T21:07:39.890573Z",
     "iopub.status.busy": "2020-12-21T21:07:39.889878Z",
     "iopub.status.idle": "2020-12-21T21:07:39.894027Z",
     "shell.execute_reply": "2020-12-21T21:07:39.893489Z"
    },
    "papermill": {
     "duration": 0.114901,
     "end_time": "2020-12-21T21:07:39.894150",
     "exception": false,
     "start_time": "2020-12-21T21:07:39.779249",
     "status": "completed"
    },
    "tags": []
   },
   "outputs": [
    {
     "data": {
      "text/plain": [
       "yes    0.802773\n",
       "no     0.197227\n",
       "Name: nursery, dtype: float64"
      ]
     },
     "execution_count": 55,
     "metadata": {},
     "output_type": "execute_result"
    }
   ],
   "source": [
    "por.nursery.value_counts(normalize=True)"
   ]
  },
  {
   "cell_type": "code",
   "execution_count": 56,
   "metadata": {
    "execution": {
     "iopub.execute_input": "2020-12-21T21:07:40.109326Z",
     "iopub.status.busy": "2020-12-21T21:07:40.107228Z",
     "iopub.status.idle": "2020-12-21T21:07:40.339621Z",
     "shell.execute_reply": "2020-12-21T21:07:40.340340Z"
    },
    "papermill": {
     "duration": 0.342623,
     "end_time": "2020-12-21T21:07:40.340551",
     "exception": false,
     "start_time": "2020-12-21T21:07:39.997928",
     "status": "completed"
    },
    "tags": []
   },
   "outputs": [
    {
     "data": {
      "text/plain": [
       "<matplotlib.axes._subplots.AxesSubplot at 0x7f6928223d90>"
      ]
     },
     "execution_count": 56,
     "metadata": {},
     "output_type": "execute_result"
    },
    {
     "data": {
      "image/png": "[encoded data removed]",
      "text/plain": [
       "<Figure size 576x432 with 1 Axes>"
      ]
     },
     "metadata": {},
     "output_type": "display_data"
    }
   ],
   "source": [
    "sns.countplot(x=\"Medu\", hue=\"nursery\", data=por)"
   ]
  },
  {
   "cell_type": "code",
   "execution_count": 57,
   "metadata": {
    "execution": {
     "iopub.execute_input": "2020-12-21T21:07:40.564529Z",
     "iopub.status.busy": "2020-12-21T21:07:40.563552Z",
     "iopub.status.idle": "2020-12-21T21:07:40.568775Z",
     "shell.execute_reply": "2020-12-21T21:07:40.568228Z"
    },
    "papermill": {
     "duration": 0.120804,
     "end_time": "2020-12-21T21:07:40.568902",
     "exception": false,
     "start_time": "2020-12-21T21:07:40.448098",
     "status": "completed"
    },
    "tags": []
   },
   "outputs": [
    {
     "data": {
      "text/plain": [
       "yes    0.893683\n",
       "no     0.106317\n",
       "Name: higher, dtype: float64"
      ]
     },
     "execution_count": 57,
     "metadata": {},
     "output_type": "execute_result"
    }
   ],
   "source": [
    "por.higher.value_counts(normalize=True)"
   ]
  },
  {
   "cell_type": "code",
   "execution_count": 58,
   "metadata": {
    "execution": {
     "iopub.execute_input": "2020-12-21T21:07:40.788413Z",
     "iopub.status.busy": "2020-12-21T21:07:40.787250Z",
     "iopub.status.idle": "2020-12-21T21:07:40.995453Z",
     "shell.execute_reply": "2020-12-21T21:07:40.994839Z"
    },
    "papermill": {
     "duration": 0.320943,
     "end_time": "2020-12-21T21:07:40.995600",
     "exception": false,
     "start_time": "2020-12-21T21:07:40.674657",
     "status": "completed"
    },
    "tags": []
   },
   "outputs": [
    {
     "data": {
      "text/plain": [
       "<matplotlib.axes._subplots.AxesSubplot at 0x7f69281a9b50>"
      ]
     },
     "execution_count": 58,
     "metadata": {},
     "output_type": "execute_result"
    },
    {
     "data": {
      "image/png": "[encoded data removed]",
      "text/plain": [
       "<Figure size 576x432 with 1 Axes>"
      ]
     },
     "metadata": {},
     "output_type": "display_data"
    }
   ],
   "source": [
    "sns.countplot(x=\"failures\", hue=\"higher\", data=por)"
   ]
  },
  {
   "cell_type": "code",
   "execution_count": 59,
   "metadata": {
    "execution": {
     "iopub.execute_input": "2020-12-21T21:07:41.224223Z",
     "iopub.status.busy": "2020-12-21T21:07:41.223095Z",
     "iopub.status.idle": "2020-12-21T21:07:41.499619Z",
     "shell.execute_reply": "2020-12-21T21:07:41.500191Z"
    },
    "papermill": {
     "duration": 0.392178,
     "end_time": "2020-12-21T21:07:41.500362",
     "exception": false,
     "start_time": "2020-12-21T21:07:41.108184",
     "status": "completed"
    },
    "tags": []
   },
   "outputs": [
    {
     "data": {
      "text/plain": [
       "<matplotlib.axes._subplots.AxesSubplot at 0x7f692811d610>"
      ]
     },
     "execution_count": 59,
     "metadata": {},
     "output_type": "execute_result"
    },
    {
     "data": {
      "image/png": "[encoded data removed]",
      "text/plain": [
       "<Figure size 576x432 with 1 Axes>"
      ]
     },
     "metadata": {},
     "output_type": "display_data"
    }
   ],
   "source": [
    "sns.countplot(x=\"age\", hue=\"higher\", data=por)"
   ]
  },
  {
   "cell_type": "code",
   "execution_count": 60,
   "metadata": {
    "execution": {
     "iopub.execute_input": "2020-12-21T21:07:41.727879Z",
     "iopub.status.busy": "2020-12-21T21:07:41.727155Z",
     "iopub.status.idle": "2020-12-21T21:07:41.731661Z",
     "shell.execute_reply": "2020-12-21T21:07:41.731049Z"
    },
    "papermill": {
     "duration": 0.122661,
     "end_time": "2020-12-21T21:07:41.731816",
     "exception": false,
     "start_time": "2020-12-21T21:07:41.609155",
     "status": "completed"
    },
    "tags": []
   },
   "outputs": [
    {
     "data": {
      "text/plain": [
       "yes    0.767334\n",
       "no     0.232666\n",
       "Name: internet, dtype: float64"
      ]
     },
     "execution_count": 60,
     "metadata": {},
     "output_type": "execute_result"
    }
   ],
   "source": [
    "por.internet.value_counts(normalize=True)"
   ]
  },
  {
   "cell_type": "code",
   "execution_count": 61,
   "metadata": {
    "execution": {
     "iopub.execute_input": "2020-12-21T21:07:41.956949Z",
     "iopub.status.busy": "2020-12-21T21:07:41.956180Z",
     "iopub.status.idle": "2020-12-21T21:07:42.192217Z",
     "shell.execute_reply": "2020-12-21T21:07:42.192824Z"
    },
    "papermill": {
     "duration": 0.352388,
     "end_time": "2020-12-21T21:07:42.193000",
     "exception": false,
     "start_time": "2020-12-21T21:07:41.840612",
     "status": "completed"
    },
    "tags": []
   },
   "outputs": [
    {
     "data": {
      "text/plain": [
       "<matplotlib.axes._subplots.AxesSubplot at 0x7f692804a2d0>"
      ]
     },
     "execution_count": 61,
     "metadata": {},
     "output_type": "execute_result"
    },
    {
     "data": {
      "image/png": "[encoded data removed]",
      "text/plain": [
       "<Figure size 576x432 with 1 Axes>"
      ]
     },
     "metadata": {},
     "output_type": "display_data"
    }
   ],
   "source": [
    "sns.countplot(x=\"Medu\", hue=\"internet\", data=por)"
   ]
  },
  {
   "cell_type": "code",
   "execution_count": 62,
   "metadata": {
    "execution": {
     "iopub.execute_input": "2020-12-21T21:07:42.417096Z",
     "iopub.status.busy": "2020-12-21T21:07:42.416332Z",
     "iopub.status.idle": "2020-12-21T21:07:42.639397Z",
     "shell.execute_reply": "2020-12-21T21:07:42.638828Z"
    },
    "papermill": {
     "duration": 0.33611,
     "end_time": "2020-12-21T21:07:42.639522",
     "exception": false,
     "start_time": "2020-12-21T21:07:42.303412",
     "status": "completed"
    },
    "tags": []
   },
   "outputs": [
    {
     "data": {
      "text/plain": [
       "<matplotlib.axes._subplots.AxesSubplot at 0x7f6927fc1690>"
      ]
     },
     "execution_count": 62,
     "metadata": {},
     "output_type": "execute_result"
    },
    {
     "data": {
      "image/png": "[encoded data removed]",
      "text/plain": [
       "<Figure size 576x432 with 1 Axes>"
      ]
     },
     "metadata": {},
     "output_type": "display_data"
    }
   ],
   "source": [
    "sns.countplot(x=\"Mjob\", hue=\"internet\", data=por)"
   ]
  },
  {
   "cell_type": "code",
   "execution_count": 63,
   "metadata": {
    "execution": {
     "iopub.execute_input": "2020-12-21T21:07:42.876028Z",
     "iopub.status.busy": "2020-12-21T21:07:42.870796Z",
     "iopub.status.idle": "2020-12-21T21:07:43.050282Z",
     "shell.execute_reply": "2020-12-21T21:07:43.049536Z"
    },
    "papermill": {
     "duration": 0.299571,
     "end_time": "2020-12-21T21:07:43.050402",
     "exception": false,
     "start_time": "2020-12-21T21:07:42.750831",
     "status": "completed"
    },
    "tags": []
   },
   "outputs": [
    {
     "data": {
      "text/plain": [
       "<matplotlib.axes._subplots.AxesSubplot at 0x7f6927f50650>"
      ]
     },
     "execution_count": 63,
     "metadata": {},
     "output_type": "execute_result"
    },
    {
     "data": {
      "image/png": "[encoded data removed]",
      "text/plain": [
       "<Figure size 576x432 with 1 Axes>"
      ]
     },
     "metadata": {},
     "output_type": "display_data"
    }
   ],
   "source": [
    "sns.countplot(x=\"school\", hue=\"internet\", data=por)"
   ]
  },
  {
   "cell_type": "code",
   "execution_count": 64,
   "metadata": {
    "execution": {
     "iopub.execute_input": "2020-12-21T21:07:43.288375Z",
     "iopub.status.busy": "2020-12-21T21:07:43.287393Z",
     "iopub.status.idle": "2020-12-21T21:07:43.292813Z",
     "shell.execute_reply": "2020-12-21T21:07:43.292254Z"
    },
    "papermill": {
     "duration": 0.127695,
     "end_time": "2020-12-21T21:07:43.292940",
     "exception": false,
     "start_time": "2020-12-21T21:07:43.165245",
     "status": "completed"
    },
    "tags": []
   },
   "outputs": [
    {
     "data": {
      "text/plain": [
       "no     0.631741\n",
       "yes    0.368259\n",
       "Name: romantic, dtype: float64"
      ]
     },
     "execution_count": 64,
     "metadata": {},
     "output_type": "execute_result"
    }
   ],
   "source": [
    "por.romantic.value_counts(normalize=True)"
   ]
  },
  {
   "cell_type": "code",
   "execution_count": 65,
   "metadata": {
    "execution": {
     "iopub.execute_input": "2020-12-21T21:07:43.532808Z",
     "iopub.status.busy": "2020-12-21T21:07:43.524516Z",
     "iopub.status.idle": "2020-12-21T21:07:43.801706Z",
     "shell.execute_reply": "2020-12-21T21:07:43.800916Z"
    },
    "papermill": {
     "duration": 0.395614,
     "end_time": "2020-12-21T21:07:43.801860",
     "exception": false,
     "start_time": "2020-12-21T21:07:43.406246",
     "status": "completed"
    },
    "tags": []
   },
   "outputs": [
    {
     "data": {
      "text/plain": [
       "<matplotlib.axes._subplots.AxesSubplot at 0x7f6927f91550>"
      ]
     },
     "execution_count": 65,
     "metadata": {},
     "output_type": "execute_result"
    },
    {
     "data": {
      "image/png": "[encoded data removed]",
      "text/plain": [
       "<Figure size 576x432 with 1 Axes>"
      ]
     },
     "metadata": {},
     "output_type": "display_data"
    }
   ],
   "source": [
    "sns.countplot(x=\"age\", hue=\"romantic\", data=por)"
   ]
  },
  {
   "cell_type": "code",
   "execution_count": 66,
   "metadata": {
    "execution": {
     "iopub.execute_input": "2020-12-21T21:07:44.039858Z",
     "iopub.status.busy": "2020-12-21T21:07:44.039040Z",
     "iopub.status.idle": "2020-12-21T21:07:44.220315Z",
     "shell.execute_reply": "2020-12-21T21:07:44.219656Z"
    },
    "papermill": {
     "duration": 0.30552,
     "end_time": "2020-12-21T21:07:44.220439",
     "exception": false,
     "start_time": "2020-12-21T21:07:43.914919",
     "status": "completed"
    },
    "tags": []
   },
   "outputs": [
    {
     "data": {
      "text/plain": [
       "<matplotlib.axes._subplots.AxesSubplot at 0x7f6927e580d0>"
      ]
     },
     "execution_count": 66,
     "metadata": {},
     "output_type": "execute_result"
    },
    {
     "data": {
      "image/png": "[encoded data removed]",
      "text/plain": [
       "<Figure size 576x432 with 1 Axes>"
      ]
     },
     "metadata": {},
     "output_type": "display_data"
    }
   ],
   "source": [
    "sns.countplot(por.famrel)"
   ]
  },
  {
   "cell_type": "code",
   "execution_count": 67,
   "metadata": {
    "execution": {
     "iopub.execute_input": "2020-12-21T21:07:44.464651Z",
     "iopub.status.busy": "2020-12-21T21:07:44.456786Z",
     "iopub.status.idle": "2020-12-21T21:07:44.630606Z",
     "shell.execute_reply": "2020-12-21T21:07:44.629890Z"
    },
    "papermill": {
     "duration": 0.295205,
     "end_time": "2020-12-21T21:07:44.630756",
     "exception": false,
     "start_time": "2020-12-21T21:07:44.335551",
     "status": "completed"
    },
    "tags": []
   },
   "outputs": [
    {
     "data": {
      "text/plain": [
       "<matplotlib.axes._subplots.AxesSubplot at 0x7f6927f40210>"
      ]
     },
     "execution_count": 67,
     "metadata": {},
     "output_type": "execute_result"
    },
    {
     "data": {
      "image/png": "[encoded data removed]",
      "text/plain": [
       "<Figure size 576x432 with 1 Axes>"
      ]
     },
     "metadata": {},
     "output_type": "display_data"
    }
   ],
   "source": [
    "sns.countplot(por.freetime)"
   ]
  },
  {
   "cell_type": "code",
   "execution_count": 68,
   "metadata": {
    "execution": {
     "iopub.execute_input": "2020-12-21T21:07:44.889468Z",
     "iopub.status.busy": "2020-12-21T21:07:44.888708Z",
     "iopub.status.idle": "2020-12-21T21:07:44.894603Z",
     "shell.execute_reply": "2020-12-21T21:07:44.894065Z"
    },
    "papermill": {
     "duration": 0.147631,
     "end_time": "2020-12-21T21:07:44.894727",
     "exception": false,
     "start_time": "2020-12-21T21:07:44.747096",
     "status": "completed"
    },
    "tags": []
   },
   "outputs": [
    {
     "data": {
      "text/html": [
       "<div>\n",
       "<style scoped>\n",
       "    .dataframe tbody tr th:only-of-type {\n",
       "        vertical-align: middle;\n",
       "    }\n",
       "\n",
       "    .dataframe tbody tr th {\n",
       "        vertical-align: top;\n",
       "    }\n",
       "\n",
       "    .dataframe thead th {\n",
       "        text-align: right;\n",
       "    }\n",
       "</style>\n",
       "<table border=\"1\" class=\"dataframe\">\n",
       "  <thead>\n",
       "    <tr style=\"text-align: right;\">\n",
       "      <th></th>\n",
       "      <th>school</th>\n",
       "      <th>sex</th>\n",
       "      <th>age</th>\n",
       "      <th>address</th>\n",
       "      <th>famsize</th>\n",
       "      <th>Pstatus</th>\n",
       "      <th>Medu</th>\n",
       "      <th>Fedu</th>\n",
       "      <th>Mjob</th>\n",
       "      <th>Fjob</th>\n",
       "      <th>...</th>\n",
       "      <th>famrel</th>\n",
       "      <th>freetime</th>\n",
       "      <th>goout</th>\n",
       "      <th>Dalc</th>\n",
       "      <th>Walc</th>\n",
       "      <th>health</th>\n",
       "      <th>absences</th>\n",
       "      <th>G1_Por</th>\n",
       "      <th>G2_Por</th>\n",
       "      <th>G3_Por</th>\n",
       "    </tr>\n",
       "  </thead>\n",
       "  <tbody>\n",
       "    <tr>\n",
       "      <th>0</th>\n",
       "      <td>GP</td>\n",
       "      <td>F</td>\n",
       "      <td>18</td>\n",
       "      <td>U</td>\n",
       "      <td>GT3</td>\n",
       "      <td>A</td>\n",
       "      <td>4</td>\n",
       "      <td>4</td>\n",
       "      <td>at_home</td>\n",
       "      <td>teacher</td>\n",
       "      <td>...</td>\n",
       "      <td>4</td>\n",
       "      <td>3</td>\n",
       "      <td>4</td>\n",
       "      <td>1</td>\n",
       "      <td>1</td>\n",
       "      <td>3</td>\n",
       "      <td>4</td>\n",
       "      <td>0</td>\n",
       "      <td>11</td>\n",
       "      <td>11</td>\n",
       "    </tr>\n",
       "    <tr>\n",
       "      <th>1</th>\n",
       "      <td>GP</td>\n",
       "      <td>F</td>\n",
       "      <td>17</td>\n",
       "      <td>U</td>\n",
       "      <td>GT3</td>\n",
       "      <td>T</td>\n",
       "      <td>1</td>\n",
       "      <td>1</td>\n",
       "      <td>at_home</td>\n",
       "      <td>other</td>\n",
       "      <td>...</td>\n",
       "      <td>5</td>\n",
       "      <td>3</td>\n",
       "      <td>3</td>\n",
       "      <td>1</td>\n",
       "      <td>1</td>\n",
       "      <td>3</td>\n",
       "      <td>2</td>\n",
       "      <td>9</td>\n",
       "      <td>11</td>\n",
       "      <td>11</td>\n",
       "    </tr>\n",
       "    <tr>\n",
       "      <th>2</th>\n",
       "      <td>GP</td>\n",
       "      <td>F</td>\n",
       "      <td>15</td>\n",
       "      <td>U</td>\n",
       "      <td>LE3</td>\n",
       "      <td>T</td>\n",
       "      <td>1</td>\n",
       "      <td>1</td>\n",
       "      <td>at_home</td>\n",
       "      <td>other</td>\n",
       "      <td>...</td>\n",
       "      <td>4</td>\n",
       "      <td>3</td>\n",
       "      <td>2</td>\n",
       "      <td>2</td>\n",
       "      <td>3</td>\n",
       "      <td>3</td>\n",
       "      <td>6</td>\n",
       "      <td>12</td>\n",
       "      <td>13</td>\n",
       "      <td>12</td>\n",
       "    </tr>\n",
       "    <tr>\n",
       "      <th>3</th>\n",
       "      <td>GP</td>\n",
       "      <td>F</td>\n",
       "      <td>15</td>\n",
       "      <td>U</td>\n",
       "      <td>GT3</td>\n",
       "      <td>T</td>\n",
       "      <td>4</td>\n",
       "      <td>2</td>\n",
       "      <td>health</td>\n",
       "      <td>services</td>\n",
       "      <td>...</td>\n",
       "      <td>3</td>\n",
       "      <td>2</td>\n",
       "      <td>2</td>\n",
       "      <td>1</td>\n",
       "      <td>1</td>\n",
       "      <td>5</td>\n",
       "      <td>0</td>\n",
       "      <td>14</td>\n",
       "      <td>14</td>\n",
       "      <td>14</td>\n",
       "    </tr>\n",
       "    <tr>\n",
       "      <th>4</th>\n",
       "      <td>GP</td>\n",
       "      <td>F</td>\n",
       "      <td>16</td>\n",
       "      <td>U</td>\n",
       "      <td>GT3</td>\n",
       "      <td>T</td>\n",
       "      <td>3</td>\n",
       "      <td>3</td>\n",
       "      <td>other</td>\n",
       "      <td>other</td>\n",
       "      <td>...</td>\n",
       "      <td>4</td>\n",
       "      <td>3</td>\n",
       "      <td>2</td>\n",
       "      <td>1</td>\n",
       "      <td>2</td>\n",
       "      <td>5</td>\n",
       "      <td>0</td>\n",
       "      <td>11</td>\n",
       "      <td>13</td>\n",
       "      <td>13</td>\n",
       "    </tr>\n",
       "  </tbody>\n",
       "</table>\n",
       "<p>5 rows × 33 columns</p>\n",
       "</div>"
      ],
      "text/plain": [
       "  school sex  age address famsize Pstatus  Medu  Fedu     Mjob      Fjob  ...  \\\n",
       "0     GP   F   18       U     GT3       A     4     4  at_home   teacher  ...   \n",
       "1     GP   F   17       U     GT3       T     1     1  at_home     other  ...   \n",
       "2     GP   F   15       U     LE3       T     1     1  at_home     other  ...   \n",
       "3     GP   F   15       U     GT3       T     4     2   health  services  ...   \n",
       "4     GP   F   16       U     GT3       T     3     3    other     other  ...   \n",
       "\n",
       "  famrel freetime  goout  Dalc  Walc health absences G1_Por G2_Por G3_Por  \n",
       "0      4        3      4     1     1      3        4      0     11     11  \n",
       "1      5        3      3     1     1      3        2      9     11     11  \n",
       "2      4        3      2     2     3      3        6     12     13     12  \n",
       "3      3        2      2     1     1      5        0     14     14     14  \n",
       "4      4        3      2     1     2      5        0     11     13     13  \n",
       "\n",
       "[5 rows x 33 columns]"
      ]
     },
     "execution_count": 68,
     "metadata": {},
     "output_type": "execute_result"
    }
   ],
   "source": [
    "por.head()"
   ]
  },
  {
   "cell_type": "code",
   "execution_count": 69,
   "metadata": {
    "execution": {
     "iopub.execute_input": "2020-12-21T21:07:45.146018Z",
     "iopub.status.busy": "2020-12-21T21:07:45.141664Z",
     "iopub.status.idle": "2020-12-21T21:07:45.325428Z",
     "shell.execute_reply": "2020-12-21T21:07:45.324843Z"
    },
    "papermill": {
     "duration": 0.311371,
     "end_time": "2020-12-21T21:07:45.325566",
     "exception": false,
     "start_time": "2020-12-21T21:07:45.014195",
     "status": "completed"
    },
    "tags": []
   },
   "outputs": [
    {
     "data": {
      "text/plain": [
       "<matplotlib.axes._subplots.AxesSubplot at 0x7f6927d7b650>"
      ]
     },
     "execution_count": 69,
     "metadata": {},
     "output_type": "execute_result"
    },
    {
     "data": {
      "image/png": "[encoded data removed]",
      "text/plain": [
       "<Figure size 576x432 with 1 Axes>"
      ]
     },
     "metadata": {},
     "output_type": "display_data"
    }
   ],
   "source": [
    "sns.countplot(por.goout)"
   ]
  },
  {
   "cell_type": "code",
   "execution_count": 70,
   "metadata": {
    "execution": {
     "iopub.execute_input": "2020-12-21T21:07:45.621287Z",
     "iopub.status.busy": "2020-12-21T21:07:45.620204Z",
     "iopub.status.idle": "2020-12-21T21:07:45.891140Z",
     "shell.execute_reply": "2020-12-21T21:07:45.890529Z"
    },
    "papermill": {
     "duration": 0.397945,
     "end_time": "2020-12-21T21:07:45.891274",
     "exception": false,
     "start_time": "2020-12-21T21:07:45.493329",
     "status": "completed"
    },
    "tags": []
   },
   "outputs": [
    {
     "data": {
      "text/plain": [
       "<matplotlib.axes._subplots.AxesSubplot at 0x7f6927d58490>"
      ]
     },
     "execution_count": 70,
     "metadata": {},
     "output_type": "execute_result"
    },
    {
     "data": {
      "image/png": "[encoded data removed]",
      "text/plain": [
       "<Figure size 576x432 with 1 Axes>"
      ]
     },
     "metadata": {},
     "output_type": "display_data"
    }
   ],
   "source": [
    "sns.countplot(x=\"freetime\", hue=\"goout\", data=por)"
   ]
  },
  {
   "cell_type": "code",
   "execution_count": 71,
   "metadata": {
    "execution": {
     "iopub.execute_input": "2020-12-21T21:07:46.140259Z",
     "iopub.status.busy": "2020-12-21T21:07:46.139063Z",
     "iopub.status.idle": "2020-12-21T21:07:46.314531Z",
     "shell.execute_reply": "2020-12-21T21:07:46.313565Z"
    },
    "papermill": {
     "duration": 0.301601,
     "end_time": "2020-12-21T21:07:46.314674",
     "exception": false,
     "start_time": "2020-12-21T21:07:46.013073",
     "status": "completed"
    },
    "tags": []
   },
   "outputs": [
    {
     "data": {
      "text/plain": [
       "<matplotlib.axes._subplots.AxesSubplot at 0x7f6927c55f90>"
      ]
     },
     "execution_count": 71,
     "metadata": {},
     "output_type": "execute_result"
    },
    {
     "data": {
      "image/png": "[encoded data removed]",
      "text/plain": [
       "<Figure size 576x432 with 1 Axes>"
      ]
     },
     "metadata": {},
     "output_type": "display_data"
    }
   ],
   "source": [
    "sns.countplot(por.Dalc)"
   ]
  },
  {
   "cell_type": "code",
   "execution_count": 72,
   "metadata": {
    "execution": {
     "iopub.execute_input": "2020-12-21T21:07:46.565198Z",
     "iopub.status.busy": "2020-12-21T21:07:46.564064Z",
     "iopub.status.idle": "2020-12-21T21:07:46.847287Z",
     "shell.execute_reply": "2020-12-21T21:07:46.846537Z"
    },
    "papermill": {
     "duration": 0.412561,
     "end_time": "2020-12-21T21:07:46.847431",
     "exception": false,
     "start_time": "2020-12-21T21:07:46.434870",
     "status": "completed"
    },
    "tags": []
   },
   "outputs": [
    {
     "data": {
      "text/plain": [
       "<matplotlib.axes._subplots.AxesSubplot at 0x7f6927c30d90>"
      ]
     },
     "execution_count": 72,
     "metadata": {},
     "output_type": "execute_result"
    },
    {
     "data": {
      "image/png": "[encoded data removed]",
      "text/plain": [
       "<Figure size 576x432 with 1 Axes>"
      ]
     },
     "metadata": {},
     "output_type": "display_data"
    }
   ],
   "source": [
    "sns.countplot(x=\"goout\", hue=\"Dalc\", data=por)"
   ]
  },
  {
   "cell_type": "code",
   "execution_count": 73,
   "metadata": {
    "execution": {
     "iopub.execute_input": "2020-12-21T21:07:47.126668Z",
     "iopub.status.busy": "2020-12-21T21:07:47.124594Z",
     "iopub.status.idle": "2020-12-21T21:07:47.306415Z",
     "shell.execute_reply": "2020-12-21T21:07:47.307124Z"
    },
    "papermill": {
     "duration": 0.335415,
     "end_time": "2020-12-21T21:07:47.307283",
     "exception": false,
     "start_time": "2020-12-21T21:07:46.971868",
     "status": "completed"
    },
    "tags": []
   },
   "outputs": [
    {
     "data": {
      "text/plain": [
       "<matplotlib.axes._subplots.AxesSubplot at 0x7f6927b74fd0>"
      ]
     },
     "execution_count": 73,
     "metadata": {},
     "output_type": "execute_result"
    },
    {
     "data": {
      "image/png": "[encoded data removed]",
      "text/plain": [
       "<Figure size 576x432 with 1 Axes>"
      ]
     },
     "metadata": {},
     "output_type": "display_data"
    }
   ],
   "source": [
    "sns.countplot(x=\"sex\", hue=\"Dalc\", data=por)"
   ]
  },
  {
   "cell_type": "code",
   "execution_count": 74,
   "metadata": {
    "execution": {
     "iopub.execute_input": "2020-12-21T21:07:47.562161Z",
     "iopub.status.busy": "2020-12-21T21:07:47.560994Z",
     "iopub.status.idle": "2020-12-21T21:07:47.741642Z",
     "shell.execute_reply": "2020-12-21T21:07:47.740942Z"
    },
    "papermill": {
     "duration": 0.310193,
     "end_time": "2020-12-21T21:07:47.741813",
     "exception": false,
     "start_time": "2020-12-21T21:07:47.431620",
     "status": "completed"
    },
    "tags": []
   },
   "outputs": [
    {
     "data": {
      "text/plain": [
       "<matplotlib.axes._subplots.AxesSubplot at 0x7f6927a7ae90>"
      ]
     },
     "execution_count": 74,
     "metadata": {},
     "output_type": "execute_result"
    },
    {
     "data": {
      "image/png": "[encoded data removed]",
      "text/plain": [
       "<Figure size 576x432 with 1 Axes>"
      ]
     },
     "metadata": {},
     "output_type": "display_data"
    }
   ],
   "source": [
    "sns.countplot(por.Walc)"
   ]
  },
  {
   "cell_type": "code",
   "execution_count": 75,
   "metadata": {
    "execution": {
     "iopub.execute_input": "2020-12-21T21:07:48.064650Z",
     "iopub.status.busy": "2020-12-21T21:07:48.046194Z",
     "iopub.status.idle": "2020-12-21T21:07:48.336470Z",
     "shell.execute_reply": "2020-12-21T21:07:48.335899Z"
    },
    "papermill": {
     "duration": 0.434292,
     "end_time": "2020-12-21T21:07:48.336658",
     "exception": false,
     "start_time": "2020-12-21T21:07:47.902366",
     "status": "completed"
    },
    "tags": []
   },
   "outputs": [
    {
     "data": {
      "text/plain": [
       "<matplotlib.axes._subplots.AxesSubplot at 0x7f6927a5d610>"
      ]
     },
     "execution_count": 75,
     "metadata": {},
     "output_type": "execute_result"
    },
    {
     "data": {
      "image/png": "[encoded data removed]",
      "text/plain": [
       "<Figure size 576x432 with 1 Axes>"
      ]
     },
     "metadata": {},
     "output_type": "display_data"
    }
   ],
   "source": [
    "sns.countplot(x=\"Dalc\", hue=\"Walc\", data=por)"
   ]
  },
  {
   "cell_type": "code",
   "execution_count": 76,
   "metadata": {
    "execution": {
     "iopub.execute_input": "2020-12-21T21:07:48.599705Z",
     "iopub.status.busy": "2020-12-21T21:07:48.596960Z",
     "iopub.status.idle": "2020-12-21T21:07:48.913032Z",
     "shell.execute_reply": "2020-12-21T21:07:48.912311Z"
    },
    "papermill": {
     "duration": 0.448787,
     "end_time": "2020-12-21T21:07:48.913168",
     "exception": false,
     "start_time": "2020-12-21T21:07:48.464381",
     "status": "completed"
    },
    "tags": []
   },
   "outputs": [
    {
     "data": {
      "text/plain": [
       "<matplotlib.axes._subplots.AxesSubplot at 0x7f6927992990>"
      ]
     },
     "execution_count": 76,
     "metadata": {},
     "output_type": "execute_result"
    },
    {
     "data": {
      "image/png": "[encoded data removed]",
      "text/plain": [
       "<Figure size 576x432 with 1 Axes>"
      ]
     },
     "metadata": {},
     "output_type": "display_data"
    }
   ],
   "source": [
    "sns.countplot(por.health)"
   ]
  },
  {
   "cell_type": "code",
   "execution_count": 77,
   "metadata": {
    "execution": {
     "iopub.execute_input": "2020-12-21T21:07:49.182253Z",
     "iopub.status.busy": "2020-12-21T21:07:49.181404Z",
     "iopub.status.idle": "2020-12-21T21:07:49.386965Z",
     "shell.execute_reply": "2020-12-21T21:07:49.386339Z"
    },
    "papermill": {
     "duration": 0.342422,
     "end_time": "2020-12-21T21:07:49.387146",
     "exception": false,
     "start_time": "2020-12-21T21:07:49.044724",
     "status": "completed"
    },
    "tags": []
   },
   "outputs": [
    {
     "data": {
      "text/plain": [
       "<matplotlib.axes._subplots.AxesSubplot at 0x7f69280e2a10>"
      ]
     },
     "execution_count": 77,
     "metadata": {},
     "output_type": "execute_result"
    },
    {
     "data": {
      "image/png": "[encoded data removed]",
      "text/plain": [
       "<Figure size 576x432 with 1 Axes>"
      ]
     },
     "metadata": {},
     "output_type": "display_data"
    }
   ],
   "source": [
    "sns.countplot(x=\"sex\", hue=\"health\", data=por)"
   ]
  },
  {
   "cell_type": "code",
   "execution_count": 78,
   "metadata": {
    "execution": {
     "iopub.execute_input": "2020-12-21T21:07:49.651578Z",
     "iopub.status.busy": "2020-12-21T21:07:49.650795Z",
     "iopub.status.idle": "2020-12-21T21:07:49.930400Z",
     "shell.execute_reply": "2020-12-21T21:07:49.929779Z"
    },
    "papermill": {
     "duration": 0.415374,
     "end_time": "2020-12-21T21:07:49.930524",
     "exception": false,
     "start_time": "2020-12-21T21:07:49.515150",
     "status": "completed"
    },
    "tags": []
   },
   "outputs": [
    {
     "data": {
      "text/plain": [
       "<matplotlib.axes._subplots.AxesSubplot at 0x7f6927e39210>"
      ]
     },
     "execution_count": 78,
     "metadata": {},
     "output_type": "execute_result"
    },
    {
     "data": {
      "image/png": "[encoded data removed]",
      "text/plain": [
       "<Figure size 576x432 with 1 Axes>"
      ]
     },
     "metadata": {},
     "output_type": "display_data"
    }
   ],
   "source": [
    "sns.countplot(x=\"Walc\", hue=\"health\", data=por)"
   ]
  },
  {
   "cell_type": "code",
   "execution_count": 79,
   "metadata": {
    "execution": {
     "iopub.execute_input": "2020-12-21T21:07:50.213494Z",
     "iopub.status.busy": "2020-12-21T21:07:50.209054Z",
     "iopub.status.idle": "2020-12-21T21:07:50.571463Z",
     "shell.execute_reply": "2020-12-21T21:07:50.571986Z"
    },
    "papermill": {
     "duration": 0.509192,
     "end_time": "2020-12-21T21:07:50.572147",
     "exception": false,
     "start_time": "2020-12-21T21:07:50.062955",
     "status": "completed"
    },
    "tags": []
   },
   "outputs": [
    {
     "data": {
      "text/plain": [
       "<matplotlib.axes._subplots.AxesSubplot at 0x7f6927807750>"
      ]
     },
     "execution_count": 79,
     "metadata": {},
     "output_type": "execute_result"
    },
    {
     "data": {
      "image/png": "[encoded data removed]",
      "text/plain": [
       "<Figure size 576x432 with 1 Axes>"
      ]
     },
     "metadata": {},
     "output_type": "display_data"
    }
   ],
   "source": [
    "sns.distplot(por.absences)"
   ]
  },
  {
   "cell_type": "code",
   "execution_count": 80,
   "metadata": {
    "execution": {
     "iopub.execute_input": "2020-12-21T21:07:50.839550Z",
     "iopub.status.busy": "2020-12-21T21:07:50.838867Z",
     "iopub.status.idle": "2020-12-21T21:07:50.846591Z",
     "shell.execute_reply": "2020-12-21T21:07:50.845856Z"
    },
    "papermill": {
     "duration": 0.142038,
     "end_time": "2020-12-21T21:07:50.846750",
     "exception": false,
     "start_time": "2020-12-21T21:07:50.704712",
     "status": "completed"
    },
    "tags": []
   },
   "outputs": [
    {
     "data": {
      "text/plain": [
       "Index(['school', 'sex', 'age', 'address', 'famsize', 'Pstatus', 'Medu', 'Fedu',\n",
       "       'Mjob', 'Fjob', 'reason', 'guardian', 'traveltime', 'studytime',\n",
       "       'failures', 'schoolsup', 'famsup', 'paid', 'activities', 'nursery',\n",
       "       'higher', 'internet', 'romantic', 'famrel', 'freetime', 'goout', 'Dalc',\n",
       "       'Walc', 'health', 'absences', 'G1_Por', 'G2_Por', 'G3_Por'],\n",
       "      dtype='object')"
      ]
     },
     "execution_count": 80,
     "metadata": {},
     "output_type": "execute_result"
    }
   ],
   "source": [
    "por.columns"
   ]
  },
  {
   "cell_type": "code",
   "execution_count": 81,
   "metadata": {
    "execution": {
     "iopub.execute_input": "2020-12-21T21:07:51.114879Z",
     "iopub.status.busy": "2020-12-21T21:07:51.114056Z",
     "iopub.status.idle": "2020-12-21T21:07:51.120415Z",
     "shell.execute_reply": "2020-12-21T21:07:51.121007Z"
    },
    "papermill": {
     "duration": 0.142727,
     "end_time": "2020-12-21T21:07:51.121180",
     "exception": false,
     "start_time": "2020-12-21T21:07:50.978453",
     "status": "completed"
    },
    "tags": []
   },
   "outputs": [],
   "source": [
    "por['Total_Grades'] = por['G1_Por'] + por['G2_Por'] + por['G3_Por']"
   ]
  },
  {
   "cell_type": "code",
   "execution_count": 82,
   "metadata": {
    "execution": {
     "iopub.execute_input": "2020-12-21T21:07:51.393113Z",
     "iopub.status.busy": "2020-12-21T21:07:51.392445Z",
     "iopub.status.idle": "2020-12-21T21:07:51.730441Z",
     "shell.execute_reply": "2020-12-21T21:07:51.730998Z"
    },
    "papermill": {
     "duration": 0.47612,
     "end_time": "2020-12-21T21:07:51.731298",
     "exception": false,
     "start_time": "2020-12-21T21:07:51.255178",
     "status": "completed"
    },
    "tags": []
   },
   "outputs": [
    {
     "data": {
      "text/plain": [
       "<matplotlib.axes._subplots.AxesSubplot at 0x7f69277ae610>"
      ]
     },
     "execution_count": 82,
     "metadata": {},
     "output_type": "execute_result"
    },
    {
     "data": {
      "image/png": "[encoded data removed]",
      "text/plain": [
       "<Figure size 576x432 with 1 Axes>"
      ]
     },
     "metadata": {},
     "output_type": "display_data"
    }
   ],
   "source": [
    "sns.distplot(por.Total_Grades)"
   ]
  },
  {
   "cell_type": "code",
   "execution_count": 83,
   "metadata": {
    "execution": {
     "iopub.execute_input": "2020-12-21T21:07:52.006408Z",
     "iopub.status.busy": "2020-12-21T21:07:52.005526Z",
     "iopub.status.idle": "2020-12-21T21:07:52.331521Z",
     "shell.execute_reply": "2020-12-21T21:07:52.332178Z"
    },
    "papermill": {
     "duration": 0.465271,
     "end_time": "2020-12-21T21:07:52.332342",
     "exception": false,
     "start_time": "2020-12-21T21:07:51.867071",
     "status": "completed"
    },
    "tags": []
   },
   "outputs": [
    {
     "data": {
      "image/png": "[encoded data removed]",
      "text/plain": [
       "<Figure size 576x432 with 1 Axes>"
      ]
     },
     "metadata": {},
     "output_type": "display_data"
    }
   ],
   "source": [
    "GP = por[por.school == 'GP']\n",
    "MS = por[por.school == 'MS']\n",
    "\n",
    "sns.distplot(GP.Total_Grades, hist=False, label=\"GP\")\n",
    "sns.distplot(MS.Total_Grades, hist=False, label=\"MS\")\n",
    "plt.show()"
   ]
  },
  {
   "cell_type": "markdown",
   "metadata": {
    "papermill": {
     "duration": 0.133285,
     "end_time": "2020-12-21T21:07:52.600345",
     "exception": false,
     "start_time": "2020-12-21T21:07:52.467060",
     "status": "completed"
    },
    "tags": []
   },
   "source": [
    "### Data Cleaning"
   ]
  },
  {
   "cell_type": "code",
   "execution_count": 84,
   "metadata": {
    "execution": {
     "iopub.execute_input": "2020-12-21T21:07:52.875222Z",
     "iopub.status.busy": "2020-12-21T21:07:52.874453Z",
     "iopub.status.idle": "2020-12-21T21:07:52.916006Z",
     "shell.execute_reply": "2020-12-21T21:07:52.916546Z"
    },
    "papermill": {
     "duration": 0.182804,
     "end_time": "2020-12-21T21:07:52.916748",
     "exception": false,
     "start_time": "2020-12-21T21:07:52.733944",
     "status": "completed"
    },
    "tags": []
   },
   "outputs": [],
   "source": [
    "por['school'] = por['school'].map({'GP': 0, 'MS': 1}).astype(int)\n",
    "por['sex'] = por['sex'].map({'M': 0, 'F': 1}).astype(int)\n",
    "por['address'] = por['address'].map({'R': 0, 'U': 1}).astype(int)\n",
    "por['famsize'] = por['famsize'].map({'LE3': 0, 'GT3': 1}).astype(int)\n",
    "por['Pstatus'] = por['Pstatus'].map({'A': 0, 'T': 1}).astype(int)\n",
    "por['Mjob'] = por['Mjob'].map({'at_home': 0, 'health': 1, 'other': 2, 'services': 3, 'teacher': 4}).astype(int)\n",
    "por['Fjob'] = por['Fjob'].map({'at_home': 0, 'health': 1, 'other': 2, 'services': 3, 'teacher': 4}).astype(int)\n",
    "por['reason'] = por['reason'].map({'course': 0, 'other': 1, 'home': 2, 'reputation': 3}).astype(int)\n",
    "por['guardian'] = por['guardian'].map({'mother': 0, 'father': 1, 'other': 2}).astype(int)\n",
    "por['schoolsup'] = por['schoolsup'].map({'no': 0, 'yes': 1}).astype(int)\n",
    "por['famsup'] = por['famsup'].map({'no': 0, 'yes': 1}).astype(int)\n",
    "por['paid'] = por['paid'].map({'no': 0, 'yes': 1}).astype(int)\n",
    "por['activities'] = por['activities'].map({'no': 0, 'yes': 1}).astype(int)\n",
    "por['nursery'] = por['nursery'].map({'no': 0, 'yes': 1}).astype(int)\n",
    "por['higher'] = por['higher'].map({'no': 0, 'yes': 1}).astype(int)\n",
    "por['internet'] = por['internet'].map({'no': 0, 'yes': 1}).astype(int)\n",
    "por['romantic'] = por['romantic'].map({'no': 0, 'yes': 1}).astype(int)"
   ]
  },
  {
   "cell_type": "code",
   "execution_count": 85,
   "metadata": {
    "execution": {
     "iopub.execute_input": "2020-12-21T21:07:53.196261Z",
     "iopub.status.busy": "2020-12-21T21:07:53.195514Z",
     "iopub.status.idle": "2020-12-21T21:07:53.215800Z",
     "shell.execute_reply": "2020-12-21T21:07:53.216277Z"
    },
    "papermill": {
     "duration": 0.161588,
     "end_time": "2020-12-21T21:07:53.216432",
     "exception": false,
     "start_time": "2020-12-21T21:07:53.054844",
     "status": "completed"
    },
    "tags": []
   },
   "outputs": [
    {
     "data": {
      "text/html": [
       "<div>\n",
       "<style scoped>\n",
       "    .dataframe tbody tr th:only-of-type {\n",
       "        vertical-align: middle;\n",
       "    }\n",
       "\n",
       "    .dataframe tbody tr th {\n",
       "        vertical-align: top;\n",
       "    }\n",
       "\n",
       "    .dataframe thead th {\n",
       "        text-align: right;\n",
       "    }\n",
       "</style>\n",
       "<table border=\"1\" class=\"dataframe\">\n",
       "  <thead>\n",
       "    <tr style=\"text-align: right;\">\n",
       "      <th></th>\n",
       "      <th>school</th>\n",
       "      <th>sex</th>\n",
       "      <th>age</th>\n",
       "      <th>address</th>\n",
       "      <th>famsize</th>\n",
       "      <th>Pstatus</th>\n",
       "      <th>Medu</th>\n",
       "      <th>Fedu</th>\n",
       "      <th>Mjob</th>\n",
       "      <th>Fjob</th>\n",
       "      <th>...</th>\n",
       "      <th>freetime</th>\n",
       "      <th>goout</th>\n",
       "      <th>Dalc</th>\n",
       "      <th>Walc</th>\n",
       "      <th>health</th>\n",
       "      <th>absences</th>\n",
       "      <th>G1_Por</th>\n",
       "      <th>G2_Por</th>\n",
       "      <th>G3_Por</th>\n",
       "      <th>Total_Grades</th>\n",
       "    </tr>\n",
       "  </thead>\n",
       "  <tbody>\n",
       "    <tr>\n",
       "      <th>0</th>\n",
       "      <td>0</td>\n",
       "      <td>1</td>\n",
       "      <td>18</td>\n",
       "      <td>1</td>\n",
       "      <td>1</td>\n",
       "      <td>0</td>\n",
       "      <td>4</td>\n",
       "      <td>4</td>\n",
       "      <td>0</td>\n",
       "      <td>4</td>\n",
       "      <td>...</td>\n",
       "      <td>3</td>\n",
       "      <td>4</td>\n",
       "      <td>1</td>\n",
       "      <td>1</td>\n",
       "      <td>3</td>\n",
       "      <td>4</td>\n",
       "      <td>0</td>\n",
       "      <td>11</td>\n",
       "      <td>11</td>\n",
       "      <td>22</td>\n",
       "    </tr>\n",
       "    <tr>\n",
       "      <th>1</th>\n",
       "      <td>0</td>\n",
       "      <td>1</td>\n",
       "      <td>17</td>\n",
       "      <td>1</td>\n",
       "      <td>1</td>\n",
       "      <td>1</td>\n",
       "      <td>1</td>\n",
       "      <td>1</td>\n",
       "      <td>0</td>\n",
       "      <td>2</td>\n",
       "      <td>...</td>\n",
       "      <td>3</td>\n",
       "      <td>3</td>\n",
       "      <td>1</td>\n",
       "      <td>1</td>\n",
       "      <td>3</td>\n",
       "      <td>2</td>\n",
       "      <td>9</td>\n",
       "      <td>11</td>\n",
       "      <td>11</td>\n",
       "      <td>31</td>\n",
       "    </tr>\n",
       "    <tr>\n",
       "      <th>2</th>\n",
       "      <td>0</td>\n",
       "      <td>1</td>\n",
       "      <td>15</td>\n",
       "      <td>1</td>\n",
       "      <td>0</td>\n",
       "      <td>1</td>\n",
       "      <td>1</td>\n",
       "      <td>1</td>\n",
       "      <td>0</td>\n",
       "      <td>2</td>\n",
       "      <td>...</td>\n",
       "      <td>3</td>\n",
       "      <td>2</td>\n",
       "      <td>2</td>\n",
       "      <td>3</td>\n",
       "      <td>3</td>\n",
       "      <td>6</td>\n",
       "      <td>12</td>\n",
       "      <td>13</td>\n",
       "      <td>12</td>\n",
       "      <td>37</td>\n",
       "    </tr>\n",
       "    <tr>\n",
       "      <th>3</th>\n",
       "      <td>0</td>\n",
       "      <td>1</td>\n",
       "      <td>15</td>\n",
       "      <td>1</td>\n",
       "      <td>1</td>\n",
       "      <td>1</td>\n",
       "      <td>4</td>\n",
       "      <td>2</td>\n",
       "      <td>1</td>\n",
       "      <td>3</td>\n",
       "      <td>...</td>\n",
       "      <td>2</td>\n",
       "      <td>2</td>\n",
       "      <td>1</td>\n",
       "      <td>1</td>\n",
       "      <td>5</td>\n",
       "      <td>0</td>\n",
       "      <td>14</td>\n",
       "      <td>14</td>\n",
       "      <td>14</td>\n",
       "      <td>42</td>\n",
       "    </tr>\n",
       "    <tr>\n",
       "      <th>4</th>\n",
       "      <td>0</td>\n",
       "      <td>1</td>\n",
       "      <td>16</td>\n",
       "      <td>1</td>\n",
       "      <td>1</td>\n",
       "      <td>1</td>\n",
       "      <td>3</td>\n",
       "      <td>3</td>\n",
       "      <td>2</td>\n",
       "      <td>2</td>\n",
       "      <td>...</td>\n",
       "      <td>3</td>\n",
       "      <td>2</td>\n",
       "      <td>1</td>\n",
       "      <td>2</td>\n",
       "      <td>5</td>\n",
       "      <td>0</td>\n",
       "      <td>11</td>\n",
       "      <td>13</td>\n",
       "      <td>13</td>\n",
       "      <td>37</td>\n",
       "    </tr>\n",
       "  </tbody>\n",
       "</table>\n",
       "<p>5 rows × 34 columns</p>\n",
       "</div>"
      ],
      "text/plain": [
       "   school  sex  age  address  famsize  Pstatus  Medu  Fedu  Mjob  Fjob  ...  \\\n",
       "0       0    1   18        1        1        0     4     4     0     4  ...   \n",
       "1       0    1   17        1        1        1     1     1     0     2  ...   \n",
       "2       0    1   15        1        0        1     1     1     0     2  ...   \n",
       "3       0    1   15        1        1        1     4     2     1     3  ...   \n",
       "4       0    1   16        1        1        1     3     3     2     2  ...   \n",
       "\n",
       "   freetime  goout  Dalc  Walc  health  absences  G1_Por  G2_Por  G3_Por  \\\n",
       "0         3      4     1     1       3         4       0      11      11   \n",
       "1         3      3     1     1       3         2       9      11      11   \n",
       "2         3      2     2     3       3         6      12      13      12   \n",
       "3         2      2     1     1       5         0      14      14      14   \n",
       "4         3      2     1     2       5         0      11      13      13   \n",
       "\n",
       "   Total_Grades  \n",
       "0            22  \n",
       "1            31  \n",
       "2            37  \n",
       "3            42  \n",
       "4            37  \n",
       "\n",
       "[5 rows x 34 columns]"
      ]
     },
     "execution_count": 85,
     "metadata": {},
     "output_type": "execute_result"
    }
   ],
   "source": [
    "por.head()"
   ]
  },
  {
   "cell_type": "markdown",
   "metadata": {
    "papermill": {
     "duration": 0.134949,
     "end_time": "2020-12-21T21:07:53.487838",
     "exception": false,
     "start_time": "2020-12-21T21:07:53.352889",
     "status": "completed"
    },
    "tags": []
   },
   "source": [
    "### Grades Prediction"
   ]
  },
  {
   "cell_type": "code",
   "execution_count": 86,
   "metadata": {
    "execution": {
     "iopub.execute_input": "2020-12-21T21:07:53.762522Z",
     "iopub.status.busy": "2020-12-21T21:07:53.761818Z",
     "iopub.status.idle": "2020-12-21T21:07:53.781036Z",
     "shell.execute_reply": "2020-12-21T21:07:53.780421Z"
    },
    "papermill": {
     "duration": 0.158667,
     "end_time": "2020-12-21T21:07:53.781172",
     "exception": false,
     "start_time": "2020-12-21T21:07:53.622505",
     "status": "completed"
    },
    "tags": []
   },
   "outputs": [
    {
     "data": {
      "text/plain": [
       "Total_Grades    1.000000\n",
       "G2_Por          0.971256\n",
       "G3_Por          0.961829\n",
       "G1_Por          0.933554\n",
       "higher          0.352762\n",
       "Medu            0.265905\n",
       "studytime       0.261630\n",
       "Fedu            0.227918\n",
       "reason          0.193178\n",
       "Mjob            0.167727\n",
       "address         0.167455\n",
       "internet        0.152914\n",
       "sex             0.118333\n",
       "Fjob            0.085200\n",
       "activities      0.071621\n",
       "famrel          0.070550\n",
       "famsup          0.047932\n",
       "nursery         0.034661\n",
       "Pstatus         0.011045\n",
       "guardian       -0.041477\n",
       "famsize        -0.045694\n",
       "paid           -0.052771\n",
       "schoolsup      -0.067830\n",
       "health         -0.082420\n",
       "goout          -0.084467\n",
       "romantic       -0.092213\n",
       "freetime       -0.113723\n",
       "absences       -0.125015\n",
       "age            -0.133499\n",
       "traveltime     -0.151066\n",
       "Walc           -0.173906\n",
       "Dalc           -0.205792\n",
       "school         -0.295035\n",
       "failures       -0.405815\n",
       "Name: Total_Grades, dtype: float64"
      ]
     },
     "execution_count": 86,
     "metadata": {},
     "output_type": "execute_result"
    }
   ],
   "source": [
    "por.corr()['Total_Grades'].sort_values(ascending=False)"
   ]
  },
  {
   "cell_type": "code",
   "execution_count": 87,
   "metadata": {
    "execution": {
     "iopub.execute_input": "2020-12-21T21:07:54.072417Z",
     "iopub.status.busy": "2020-12-21T21:07:54.071643Z",
     "iopub.status.idle": "2020-12-21T21:07:54.078853Z",
     "shell.execute_reply": "2020-12-21T21:07:54.078169Z"
    },
    "papermill": {
     "duration": 0.152922,
     "end_time": "2020-12-21T21:07:54.078996",
     "exception": false,
     "start_time": "2020-12-21T21:07:53.926074",
     "status": "completed"
    },
    "tags": []
   },
   "outputs": [],
   "source": [
    "grades_corr = por.corr()['Total_Grades']"
   ]
  },
  {
   "cell_type": "markdown",
   "metadata": {},
   "source": [
    "### Traing and testing model"
   ]
  },
  {
   "cell_type": "code",
   "execution_count": null,
   "metadata": {},
   "outputs": [],
   "source": []
  }
 ],
 "metadata": {
  "kernelspec": {
   "display_name": "Python 3",
   "language": "python",
   "name": "python3"
  },
  "language_info": {
   "codemirror_mode": {
    "name": "ipython",
    "version": 3
   },
   "file_extension": ".py",
   "mimetype": "text/x-python",
   "name": "python",
   "nbconvert_exporter": "python",
   "pygments_lexer": "ipython3",
   "version": "3.7.4"
  },
  "papermill": {
   "duration": 41.858808,
   "end_time": "2020-12-21T21:07:59.579233",
   "environment_variables": {},
   "exception": null,
   "input_path": "__notebook__.ipynb",
   "output_path": "__notebook__.ipynb",
   "parameters": {},
   "start_time": "2020-12-21T21:07:17.720425",
   "version": "2.1.0"
  }
 },
 "nbformat": 4,
 "nbformat_minor": 4
}
